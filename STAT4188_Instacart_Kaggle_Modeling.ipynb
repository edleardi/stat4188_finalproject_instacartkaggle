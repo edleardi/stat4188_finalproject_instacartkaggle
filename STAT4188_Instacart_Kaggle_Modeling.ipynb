{
 "cells": [
  {
   "cell_type": "markdown",
   "metadata": {},
   "source": [
    "# Instacart Reorders\n",
    "\n",
    "<br/><br/>\n",
    "\n",
    "<center> \n",
    "<img src=\"https://logos-download.com/wp-content/uploads/2016/10/Instacart_logo.png\" width=\"600\" height=\"200\" />\n",
    "</center>\n",
    "\n",
    "<br/><br/>\n"
   ]
  },
  {
   "cell_type": "markdown",
   "metadata": {},
   "source": [
    "## Package Import"
   ]
  },
  {
   "cell_type": "code",
   "execution_count": 1,
   "metadata": {
    "ExecuteTime": {
     "end_time": "2019-05-08T15:38:59.080013Z",
     "start_time": "2019-05-08T15:38:55.229446Z"
    },
    "collapsed": true
   },
   "outputs": [],
   "source": [
    "import pandas as pd\n",
    "import numpy as np \n",
    "import matplotlib.pyplot as plt\n",
    "import seaborn as sns\n",
    "\n",
    "from sklearn.linear_model import LogisticRegression\n",
    "from sklearn.model_selection import train_test_split\n",
    "from sklearn import metrics\n",
    "from sklearn.ensemble import RandomForestClassifier\n",
    "from sklearn import svm\n",
    "from sklearn import tree\n",
    "\n",
    "import xgboost as xgb\n",
    "import imblearn.over_sampling\n",
    "from collections import OrderedDict\n",
    "\n",
    "# Notebook display settings\n",
    "sns.set()\n",
    "color = sns.color_palette()\n",
    "%matplotlib inline\n",
    "jtplot.style(theme='grade3') # Make graphs have white background\n",
    "pd.options.mode.chained_assignment = None  # default='warn'\n",
    "\n",
    "# Data Tables:\n",
    "#    aisles\n",
    "#    departments\n",
    "#    order_products_prior\n",
    "#    order_products_train\n",
    "#    orders\n",
    "#    products"
   ]
  },
  {
   "cell_type": "markdown",
   "metadata": {},
   "source": [
    "## Data Import\n",
    "\n",
    "Created a 50,000 order subset of the data (2,000,000 orders requires cloud computing for full processing)"
   ]
  },
  {
   "cell_type": "code",
   "execution_count": 4,
   "metadata": {
    "ExecuteTime": {
     "end_time": "2019-05-08T15:41:53.414422Z",
     "start_time": "2019-05-08T15:41:52.552183Z"
    }
   },
   "outputs": [
    {
     "name": "stdout",
     "output_type": "stream",
     "text": [
      "Archive:  instacart_data_subset.zip\n",
      "   creating: instacart_data_subset/\n",
      "  inflating: instacart_data_subset/.DS_Store  \n",
      "   creating: __MACOSX/\n",
      "   creating: __MACOSX/instacart_data_subset/\n",
      "  inflating: __MACOSX/instacart_data_subset/._.DS_Store  \n",
      "  inflating: instacart_data_subset/aisles.csv  \n",
      "  inflating: __MACOSX/instacart_data_subset/._aisles.csv  \n",
      "  inflating: instacart_data_subset/departments.csv  \n",
      "  inflating: __MACOSX/instacart_data_subset/._departments.csv  \n",
      "  inflating: instacart_data_subset/instacart_df_X_features.csv  \n",
      "  inflating: instacart_data_subset/order_products__prior_subset.csv  \n",
      "  inflating: instacart_data_subset/order_products__train_subset.csv  \n",
      "  inflating: instacart_data_subset/orders_subset.csv  \n",
      "  inflating: instacart_data_subset/products.csv  \n",
      "  inflating: __MACOSX/instacart_data_subset/._products.csv  \n"
     ]
    }
   ],
   "source": [
    "# Unzip Instacart data subset ~50,000 orders\n",
    "# Only run once to create unzipped file \n",
    "\n",
    "!unzip instacart_data_subset.zip"
   ]
  },
  {
   "cell_type": "code",
   "execution_count": 5,
   "metadata": {
    "ExecuteTime": {
     "end_time": "2019-05-08T15:42:04.189044Z",
     "start_time": "2019-05-08T15:42:04.185474Z"
    },
    "collapsed": true
   },
   "outputs": [],
   "source": [
    "# Define path of unzipped file\n",
    "path = 'instacart_data_subset/'"
   ]
  },
  {
   "cell_type": "markdown",
   "metadata": {},
   "source": [
    "### Setting up Dataframes"
   ]
  },
  {
   "cell_type": "code",
   "execution_count": 6,
   "metadata": {
    "ExecuteTime": {
     "end_time": "2019-05-08T15:42:11.038347Z",
     "start_time": "2019-05-08T15:42:10.931382Z"
    }
   },
   "outputs": [
    {
     "data": {
      "text/html": [
       "<div>\n",
       "<style>\n",
       "    .dataframe thead tr:only-child th {\n",
       "        text-align: right;\n",
       "    }\n",
       "\n",
       "    .dataframe thead th {\n",
       "        text-align: left;\n",
       "    }\n",
       "\n",
       "    .dataframe tbody tr th {\n",
       "        vertical-align: top;\n",
       "    }\n",
       "</style>\n",
       "<table border=\"1\" class=\"dataframe\">\n",
       "  <thead>\n",
       "    <tr style=\"text-align: right;\">\n",
       "      <th></th>\n",
       "      <th>order_id</th>\n",
       "      <th>user_id</th>\n",
       "      <th>eval_set</th>\n",
       "      <th>order_number</th>\n",
       "      <th>order_dow</th>\n",
       "      <th>order_hour_of_day</th>\n",
       "      <th>days_since_prior_order</th>\n",
       "    </tr>\n",
       "  </thead>\n",
       "  <tbody>\n",
       "    <tr>\n",
       "      <th>0</th>\n",
       "      <td>1363380</td>\n",
       "      <td>50</td>\n",
       "      <td>prior</td>\n",
       "      <td>1</td>\n",
       "      <td>3</td>\n",
       "      <td>9</td>\n",
       "      <td>NaN</td>\n",
       "    </tr>\n",
       "    <tr>\n",
       "      <th>1</th>\n",
       "      <td>3131103</td>\n",
       "      <td>50</td>\n",
       "      <td>prior</td>\n",
       "      <td>2</td>\n",
       "      <td>6</td>\n",
       "      <td>12</td>\n",
       "      <td>10.0</td>\n",
       "    </tr>\n",
       "    <tr>\n",
       "      <th>2</th>\n",
       "      <td>2197066</td>\n",
       "      <td>50</td>\n",
       "      <td>prior</td>\n",
       "      <td>3</td>\n",
       "      <td>1</td>\n",
       "      <td>13</td>\n",
       "      <td>9.0</td>\n",
       "    </tr>\n",
       "  </tbody>\n",
       "</table>\n",
       "</div>"
      ],
      "text/plain": [
       "   order_id  user_id eval_set  order_number  order_dow  order_hour_of_day  \\\n",
       "0   1363380       50    prior             1          3                  9   \n",
       "1   3131103       50    prior             2          6                 12   \n",
       "2   2197066       50    prior             3          1                 13   \n",
       "\n",
       "   days_since_prior_order  \n",
       "0                     NaN  \n",
       "1                    10.0  \n",
       "2                     9.0  "
      ]
     },
     "execution_count": 6,
     "metadata": {},
     "output_type": "execute_result"
    }
   ],
   "source": [
    "# Orders dataframe\n",
    "orders_df = pd.read_csv(path + 'orders_subset.csv')\n",
    "orders_df.head(3)"
   ]
  },
  {
   "cell_type": "code",
   "execution_count": 7,
   "metadata": {
    "ExecuteTime": {
     "end_time": "2019-05-08T15:42:15.726501Z",
     "start_time": "2019-05-08T15:42:15.350611Z"
    }
   },
   "outputs": [
    {
     "data": {
      "text/html": [
       "<div>\n",
       "<style>\n",
       "    .dataframe thead tr:only-child th {\n",
       "        text-align: right;\n",
       "    }\n",
       "\n",
       "    .dataframe thead th {\n",
       "        text-align: left;\n",
       "    }\n",
       "\n",
       "    .dataframe tbody tr th {\n",
       "        vertical-align: top;\n",
       "    }\n",
       "</style>\n",
       "<table border=\"1\" class=\"dataframe\">\n",
       "  <thead>\n",
       "    <tr style=\"text-align: right;\">\n",
       "      <th></th>\n",
       "      <th>order_id</th>\n",
       "      <th>product_id</th>\n",
       "      <th>add_to_cart_order</th>\n",
       "      <th>reordered</th>\n",
       "    </tr>\n",
       "  </thead>\n",
       "  <tbody>\n",
       "    <tr>\n",
       "      <th>0</th>\n",
       "      <td>12</td>\n",
       "      <td>30597</td>\n",
       "      <td>1</td>\n",
       "      <td>1</td>\n",
       "    </tr>\n",
       "    <tr>\n",
       "      <th>1</th>\n",
       "      <td>12</td>\n",
       "      <td>15221</td>\n",
       "      <td>2</td>\n",
       "      <td>1</td>\n",
       "    </tr>\n",
       "    <tr>\n",
       "      <th>2</th>\n",
       "      <td>12</td>\n",
       "      <td>43772</td>\n",
       "      <td>3</td>\n",
       "      <td>1</td>\n",
       "    </tr>\n",
       "  </tbody>\n",
       "</table>\n",
       "</div>"
      ],
      "text/plain": [
       "   order_id  product_id  add_to_cart_order  reordered\n",
       "0        12       30597                  1          1\n",
       "1        12       15221                  2          1\n",
       "2        12       43772                  3          1"
      ]
     },
     "execution_count": 7,
     "metadata": {},
     "output_type": "execute_result"
    }
   ],
   "source": [
    "# Order Products Prior dataframe\n",
    "order_products_prior_df = pd.read_csv(path + 'order_products__prior_subset.csv')\n",
    "order_products_prior_df.head(3)"
   ]
  },
  {
   "cell_type": "code",
   "execution_count": 9,
   "metadata": {
    "ExecuteTime": {
     "end_time": "2019-05-08T15:42:23.690564Z",
     "start_time": "2019-05-08T15:42:23.658651Z"
    }
   },
   "outputs": [
    {
     "data": {
      "text/html": [
       "<div>\n",
       "<style>\n",
       "    .dataframe thead tr:only-child th {\n",
       "        text-align: right;\n",
       "    }\n",
       "\n",
       "    .dataframe thead th {\n",
       "        text-align: left;\n",
       "    }\n",
       "\n",
       "    .dataframe tbody tr th {\n",
       "        vertical-align: top;\n",
       "    }\n",
       "</style>\n",
       "<table border=\"1\" class=\"dataframe\">\n",
       "  <thead>\n",
       "    <tr style=\"text-align: right;\">\n",
       "      <th></th>\n",
       "      <th>order_id</th>\n",
       "      <th>product_id</th>\n",
       "      <th>add_to_cart_order</th>\n",
       "      <th>reordered</th>\n",
       "    </tr>\n",
       "  </thead>\n",
       "  <tbody>\n",
       "    <tr>\n",
       "      <th>0</th>\n",
       "      <td>1077</td>\n",
       "      <td>13176</td>\n",
       "      <td>1</td>\n",
       "      <td>1</td>\n",
       "    </tr>\n",
       "    <tr>\n",
       "      <th>1</th>\n",
       "      <td>1077</td>\n",
       "      <td>39922</td>\n",
       "      <td>2</td>\n",
       "      <td>1</td>\n",
       "    </tr>\n",
       "    <tr>\n",
       "      <th>2</th>\n",
       "      <td>1077</td>\n",
       "      <td>5258</td>\n",
       "      <td>3</td>\n",
       "      <td>1</td>\n",
       "    </tr>\n",
       "  </tbody>\n",
       "</table>\n",
       "</div>"
      ],
      "text/plain": [
       "   order_id  product_id  add_to_cart_order  reordered\n",
       "0      1077       13176                  1          1\n",
       "1      1077       39922                  2          1\n",
       "2      1077        5258                  3          1"
      ]
     },
     "execution_count": 9,
     "metadata": {},
     "output_type": "execute_result"
    }
   ],
   "source": [
    "# Order Products Train dataframe\n",
    "order_products_train_df = pd.read_csv(path + 'order_products__train_subset.csv')\n",
    "order_products_train_df.head(3)"
   ]
  },
  {
   "cell_type": "code",
   "execution_count": 10,
   "metadata": {
    "ExecuteTime": {
     "end_time": "2019-05-08T15:42:26.000349Z",
     "start_time": "2019-05-08T15:42:25.987266Z"
    }
   },
   "outputs": [
    {
     "data": {
      "text/html": [
       "<div>\n",
       "<style>\n",
       "    .dataframe thead tr:only-child th {\n",
       "        text-align: right;\n",
       "    }\n",
       "\n",
       "    .dataframe thead th {\n",
       "        text-align: left;\n",
       "    }\n",
       "\n",
       "    .dataframe tbody tr th {\n",
       "        vertical-align: top;\n",
       "    }\n",
       "</style>\n",
       "<table border=\"1\" class=\"dataframe\">\n",
       "  <thead>\n",
       "    <tr style=\"text-align: right;\">\n",
       "      <th></th>\n",
       "      <th>aisle_id</th>\n",
       "      <th>aisle</th>\n",
       "    </tr>\n",
       "  </thead>\n",
       "  <tbody>\n",
       "    <tr>\n",
       "      <th>0</th>\n",
       "      <td>1</td>\n",
       "      <td>prepared soups salads</td>\n",
       "    </tr>\n",
       "    <tr>\n",
       "      <th>1</th>\n",
       "      <td>2</td>\n",
       "      <td>specialty cheeses</td>\n",
       "    </tr>\n",
       "    <tr>\n",
       "      <th>2</th>\n",
       "      <td>3</td>\n",
       "      <td>energy granola bars</td>\n",
       "    </tr>\n",
       "  </tbody>\n",
       "</table>\n",
       "</div>"
      ],
      "text/plain": [
       "   aisle_id                  aisle\n",
       "0         1  prepared soups salads\n",
       "1         2      specialty cheeses\n",
       "2         3    energy granola bars"
      ]
     },
     "execution_count": 10,
     "metadata": {},
     "output_type": "execute_result"
    }
   ],
   "source": [
    "# Aisles dataframe\n",
    "aisles_df = pd.read_csv(path + 'aisles.csv')\n",
    "aisles_df.head(3)"
   ]
  },
  {
   "cell_type": "code",
   "execution_count": 11,
   "metadata": {
    "ExecuteTime": {
     "end_time": "2019-05-08T15:42:27.520426Z",
     "start_time": "2019-05-08T15:42:27.497938Z"
    }
   },
   "outputs": [
    {
     "data": {
      "text/html": [
       "<div>\n",
       "<style>\n",
       "    .dataframe thead tr:only-child th {\n",
       "        text-align: right;\n",
       "    }\n",
       "\n",
       "    .dataframe thead th {\n",
       "        text-align: left;\n",
       "    }\n",
       "\n",
       "    .dataframe tbody tr th {\n",
       "        vertical-align: top;\n",
       "    }\n",
       "</style>\n",
       "<table border=\"1\" class=\"dataframe\">\n",
       "  <thead>\n",
       "    <tr style=\"text-align: right;\">\n",
       "      <th></th>\n",
       "      <th>department_id</th>\n",
       "      <th>department</th>\n",
       "    </tr>\n",
       "  </thead>\n",
       "  <tbody>\n",
       "    <tr>\n",
       "      <th>0</th>\n",
       "      <td>1</td>\n",
       "      <td>frozen</td>\n",
       "    </tr>\n",
       "    <tr>\n",
       "      <th>1</th>\n",
       "      <td>2</td>\n",
       "      <td>other</td>\n",
       "    </tr>\n",
       "    <tr>\n",
       "      <th>2</th>\n",
       "      <td>3</td>\n",
       "      <td>bakery</td>\n",
       "    </tr>\n",
       "  </tbody>\n",
       "</table>\n",
       "</div>"
      ],
      "text/plain": [
       "   department_id department\n",
       "0              1     frozen\n",
       "1              2      other\n",
       "2              3     bakery"
      ]
     },
     "execution_count": 11,
     "metadata": {},
     "output_type": "execute_result"
    }
   ],
   "source": [
    "# Departments dataframe\n",
    "departments_df = pd.read_csv(path + 'departments.csv')\n",
    "departments_df.head(3)"
   ]
  },
  {
   "cell_type": "code",
   "execution_count": 12,
   "metadata": {
    "ExecuteTime": {
     "end_time": "2019-05-08T15:42:28.855040Z",
     "start_time": "2019-05-08T15:42:28.768448Z"
    }
   },
   "outputs": [
    {
     "data": {
      "text/html": [
       "<div>\n",
       "<style>\n",
       "    .dataframe thead tr:only-child th {\n",
       "        text-align: right;\n",
       "    }\n",
       "\n",
       "    .dataframe thead th {\n",
       "        text-align: left;\n",
       "    }\n",
       "\n",
       "    .dataframe tbody tr th {\n",
       "        vertical-align: top;\n",
       "    }\n",
       "</style>\n",
       "<table border=\"1\" class=\"dataframe\">\n",
       "  <thead>\n",
       "    <tr style=\"text-align: right;\">\n",
       "      <th></th>\n",
       "      <th>product_id</th>\n",
       "      <th>product_name</th>\n",
       "      <th>aisle_id</th>\n",
       "      <th>department_id</th>\n",
       "    </tr>\n",
       "  </thead>\n",
       "  <tbody>\n",
       "    <tr>\n",
       "      <th>0</th>\n",
       "      <td>1</td>\n",
       "      <td>Chocolate Sandwich Cookies</td>\n",
       "      <td>61</td>\n",
       "      <td>19</td>\n",
       "    </tr>\n",
       "    <tr>\n",
       "      <th>1</th>\n",
       "      <td>2</td>\n",
       "      <td>All-Seasons Salt</td>\n",
       "      <td>104</td>\n",
       "      <td>13</td>\n",
       "    </tr>\n",
       "    <tr>\n",
       "      <th>2</th>\n",
       "      <td>3</td>\n",
       "      <td>Robust Golden Unsweetened Oolong Tea</td>\n",
       "      <td>94</td>\n",
       "      <td>7</td>\n",
       "    </tr>\n",
       "  </tbody>\n",
       "</table>\n",
       "</div>"
      ],
      "text/plain": [
       "   product_id                          product_name  aisle_id  department_id\n",
       "0           1            Chocolate Sandwich Cookies        61             19\n",
       "1           2                      All-Seasons Salt       104             13\n",
       "2           3  Robust Golden Unsweetened Oolong Tea        94              7"
      ]
     },
     "execution_count": 12,
     "metadata": {},
     "output_type": "execute_result"
    }
   ],
   "source": [
    "# Products dataframe\n",
    "products_df = pd.read_csv(path + 'products.csv')\n",
    "products_df.head(3)"
   ]
  },
  {
   "cell_type": "markdown",
   "metadata": {},
   "source": [
    "### Orders Merged with Products Prior and Products Train"
   ]
  },
  {
   "cell_type": "code",
   "execution_count": 13,
   "metadata": {
    "ExecuteTime": {
     "end_time": "2019-05-08T15:42:57.300214Z",
     "start_time": "2019-05-08T15:42:57.100407Z"
    }
   },
   "outputs": [
    {
     "data": {
      "text/html": [
       "<div>\n",
       "<style>\n",
       "    .dataframe thead tr:only-child th {\n",
       "        text-align: right;\n",
       "    }\n",
       "\n",
       "    .dataframe thead th {\n",
       "        text-align: left;\n",
       "    }\n",
       "\n",
       "    .dataframe tbody tr th {\n",
       "        vertical-align: top;\n",
       "    }\n",
       "</style>\n",
       "<table border=\"1\" class=\"dataframe\">\n",
       "  <thead>\n",
       "    <tr style=\"text-align: right;\">\n",
       "      <th></th>\n",
       "      <th>order_id</th>\n",
       "      <th>product_id</th>\n",
       "      <th>add_to_cart_order</th>\n",
       "      <th>reordered</th>\n",
       "      <th>user_id</th>\n",
       "      <th>order_number</th>\n",
       "      <th>order_dow</th>\n",
       "      <th>order_hour_of_day</th>\n",
       "      <th>days_since_prior_order</th>\n",
       "    </tr>\n",
       "  </thead>\n",
       "  <tbody>\n",
       "    <tr>\n",
       "      <th>0</th>\n",
       "      <td>1077</td>\n",
       "      <td>13176</td>\n",
       "      <td>1</td>\n",
       "      <td>1</td>\n",
       "      <td>173934</td>\n",
       "      <td>11</td>\n",
       "      <td>6</td>\n",
       "      <td>9</td>\n",
       "      <td>10.0</td>\n",
       "    </tr>\n",
       "    <tr>\n",
       "      <th>1</th>\n",
       "      <td>1077</td>\n",
       "      <td>39922</td>\n",
       "      <td>2</td>\n",
       "      <td>1</td>\n",
       "      <td>173934</td>\n",
       "      <td>11</td>\n",
       "      <td>6</td>\n",
       "      <td>9</td>\n",
       "      <td>10.0</td>\n",
       "    </tr>\n",
       "    <tr>\n",
       "      <th>2</th>\n",
       "      <td>1077</td>\n",
       "      <td>5258</td>\n",
       "      <td>3</td>\n",
       "      <td>1</td>\n",
       "      <td>173934</td>\n",
       "      <td>11</td>\n",
       "      <td>6</td>\n",
       "      <td>9</td>\n",
       "      <td>10.0</td>\n",
       "    </tr>\n",
       "  </tbody>\n",
       "</table>\n",
       "</div>"
      ],
      "text/plain": [
       "   order_id  product_id  add_to_cart_order  reordered  user_id  order_number  \\\n",
       "0      1077       13176                  1          1   173934            11   \n",
       "1      1077       39922                  2          1   173934            11   \n",
       "2      1077        5258                  3          1   173934            11   \n",
       "\n",
       "   order_dow  order_hour_of_day  days_since_prior_order  \n",
       "0          6                  9                    10.0  \n",
       "1          6                  9                    10.0  \n",
       "2          6                  9                    10.0  "
      ]
     },
     "execution_count": 13,
     "metadata": {},
     "output_type": "execute_result"
    }
   ],
   "source": [
    "# Adding Orders dataframe info to both products train and prior\n",
    "order_products_train_df = order_products_train_df.merge(orders_df.drop('eval_set', axis=1), on='order_id')\n",
    "order_products_prior_df = order_products_prior_df.merge(orders_df.drop('eval_set', axis=1), on='order_id')\n",
    "order_products_train_df.head(3)"
   ]
  },
  {
   "cell_type": "code",
   "execution_count": 14,
   "metadata": {
    "ExecuteTime": {
     "end_time": "2019-05-08T15:43:00.222008Z",
     "start_time": "2019-05-08T15:42:59.847156Z"
    }
   },
   "outputs": [
    {
     "data": {
      "text/html": [
       "<div>\n",
       "<style>\n",
       "    .dataframe thead tr:only-child th {\n",
       "        text-align: right;\n",
       "    }\n",
       "\n",
       "    .dataframe thead th {\n",
       "        text-align: left;\n",
       "    }\n",
       "\n",
       "    .dataframe tbody tr th {\n",
       "        vertical-align: top;\n",
       "    }\n",
       "</style>\n",
       "<table border=\"1\" class=\"dataframe\">\n",
       "  <thead>\n",
       "    <tr style=\"text-align: right;\">\n",
       "      <th></th>\n",
       "      <th>order_id</th>\n",
       "      <th>product_id</th>\n",
       "      <th>add_to_cart_order</th>\n",
       "      <th>reordered</th>\n",
       "      <th>user_id</th>\n",
       "      <th>order_number</th>\n",
       "      <th>order_dow</th>\n",
       "      <th>order_hour_of_day</th>\n",
       "      <th>days_since_prior_order</th>\n",
       "      <th>aisle_id</th>\n",
       "      <th>department_id</th>\n",
       "    </tr>\n",
       "  </thead>\n",
       "  <tbody>\n",
       "    <tr>\n",
       "      <th>0</th>\n",
       "      <td>1077</td>\n",
       "      <td>13176</td>\n",
       "      <td>1</td>\n",
       "      <td>1</td>\n",
       "      <td>173934</td>\n",
       "      <td>11</td>\n",
       "      <td>6</td>\n",
       "      <td>9</td>\n",
       "      <td>10.0</td>\n",
       "      <td>24</td>\n",
       "      <td>4</td>\n",
       "    </tr>\n",
       "    <tr>\n",
       "      <th>1</th>\n",
       "      <td>1342</td>\n",
       "      <td>13176</td>\n",
       "      <td>1</td>\n",
       "      <td>1</td>\n",
       "      <td>156818</td>\n",
       "      <td>32</td>\n",
       "      <td>3</td>\n",
       "      <td>8</td>\n",
       "      <td>30.0</td>\n",
       "      <td>24</td>\n",
       "      <td>4</td>\n",
       "    </tr>\n",
       "    <tr>\n",
       "      <th>2</th>\n",
       "      <td>6286</td>\n",
       "      <td>13176</td>\n",
       "      <td>1</td>\n",
       "      <td>1</td>\n",
       "      <td>185494</td>\n",
       "      <td>14</td>\n",
       "      <td>3</td>\n",
       "      <td>9</td>\n",
       "      <td>9.0</td>\n",
       "      <td>24</td>\n",
       "      <td>4</td>\n",
       "    </tr>\n",
       "  </tbody>\n",
       "</table>\n",
       "</div>"
      ],
      "text/plain": [
       "   order_id  product_id  add_to_cart_order  reordered  user_id  order_number  \\\n",
       "0      1077       13176                  1          1   173934            11   \n",
       "1      1342       13176                  1          1   156818            32   \n",
       "2      6286       13176                  1          1   185494            14   \n",
       "\n",
       "   order_dow  order_hour_of_day  days_since_prior_order  aisle_id  \\\n",
       "0          6                  9                    10.0        24   \n",
       "1          3                  8                    30.0        24   \n",
       "2          3                  9                     9.0        24   \n",
       "\n",
       "   department_id  \n",
       "0              4  \n",
       "1              4  \n",
       "2              4  "
      ]
     },
     "execution_count": 14,
     "metadata": {},
     "output_type": "execute_result"
    }
   ],
   "source": [
    "# Adding Products dataframe info to both products train and prior\n",
    "order_products_train_df = order_products_train_df.merge(products_df.drop('product_name', axis=1), on='product_id')\n",
    "order_products_prior_df = order_products_prior_df.merge(products_df.drop('product_name', axis=1), on='product_id')\n",
    "order_products_train_df.head(3)"
   ]
  },
  {
   "cell_type": "code",
   "execution_count": 15,
   "metadata": {
    "ExecuteTime": {
     "end_time": "2019-05-08T15:43:04.263877Z",
     "start_time": "2019-05-08T15:43:04.236228Z"
    }
   },
   "outputs": [
    {
     "name": "stdout",
     "output_type": "stream",
     "text": [
      "<class 'pandas.core.frame.DataFrame'>\n",
      "Int64Index: 53704 entries, 0 to 53703\n",
      "Data columns (total 11 columns):\n",
      "order_id                  53704 non-null int64\n",
      "product_id                53704 non-null int64\n",
      "add_to_cart_order         53704 non-null int64\n",
      "reordered                 53704 non-null int64\n",
      "user_id                   53704 non-null int64\n",
      "order_number              53704 non-null int64\n",
      "order_dow                 53704 non-null int64\n",
      "order_hour_of_day         53704 non-null int64\n",
      "days_since_prior_order    53704 non-null float64\n",
      "aisle_id                  53704 non-null int64\n",
      "department_id             53704 non-null int64\n",
      "dtypes: float64(1), int64(10)\n",
      "memory usage: 4.9 MB\n"
     ]
    }
   ],
   "source": [
    "order_products_train_df.info()"
   ]
  },
  {
   "cell_type": "markdown",
   "metadata": {},
   "source": [
    "## Baseline Data Visualization"
   ]
  },
  {
   "cell_type": "code",
   "execution_count": 16,
   "metadata": {
    "ExecuteTime": {
     "end_time": "2019-05-08T15:43:09.744020Z",
     "start_time": "2019-05-08T15:43:09.373957Z"
    }
   },
   "outputs": [
    {
     "data": {
      "image/png": "[encoded data removed]",
      "text/plain": [
       "<matplotlib.figure.Figure at 0x112d4b048>"
      ]
     },
     "metadata": {},
     "output_type": "display_data"
    }
   ],
   "source": [
    "cnt_srs = orders_df.eval_set.value_counts()\n",
    "\n",
    "plt.figure(figsize=(18,6))\n",
    "sns.barplot(cnt_srs.index, cnt_srs.values, alpha=0.8, color=color[1])\n",
    "plt.ylabel('Number of Occurrences', fontsize=12)\n",
    "plt.xlabel('Eval set type', fontsize=12)\n",
    "plt.title('Count of rows in each dataset', fontsize=15)\n",
    "plt.show()"
   ]
  },
  {
   "cell_type": "code",
   "execution_count": 17,
   "metadata": {
    "ExecuteTime": {
     "end_time": "2019-05-08T15:43:11.518192Z",
     "start_time": "2019-05-08T15:43:11.488227Z"
    }
   },
   "outputs": [
    {
     "data": {
      "text/plain": [
       "eval_set\n",
       "prior    5000\n",
       "train    5000\n",
       "Name: user_id, dtype: int64"
      ]
     },
     "execution_count": 17,
     "metadata": {},
     "output_type": "execute_result"
    }
   ],
   "source": [
    "# Get unique count of number of customers\n",
    "def get_unique_count(x):\n",
    "    return len(np.unique(x))\n",
    "\n",
    "cnt_srs = orders_df.groupby(\"eval_set\")[\"user_id\"].aggregate(get_unique_count)\n",
    "cnt_srs"
   ]
  },
  {
   "cell_type": "code",
   "execution_count": 18,
   "metadata": {
    "ExecuteTime": {
     "end_time": "2019-05-08T15:43:14.652372Z",
     "start_time": "2019-05-08T15:43:13.149648Z"
    }
   },
   "outputs": [
    {
     "data": {
      "image/png": "[encoded data removed]",
      "text/plain": [
       "<matplotlib.figure.Figure at 0x112d4ba90>"
      ]
     },
     "metadata": {},
     "output_type": "display_data"
    }
   ],
   "source": [
    "cnt_srs = orders_df.groupby(\"user_id\")[\"order_number\"].aggregate(np.max).reset_index()\n",
    "cnt_srs = cnt_srs.order_number.value_counts()\n",
    "\n",
    "plt.figure(figsize=(18,6))\n",
    "sns.barplot(cnt_srs.index, cnt_srs.values, alpha=0.8, color=color[2])\n",
    "plt.ylabel('Number of Occurrences', fontsize=12)\n",
    "plt.xlabel('Maximum order number', fontsize=12)\n",
    "plt.xticks(rotation='vertical')\n",
    "plt.show()"
   ]
  },
  {
   "cell_type": "code",
   "execution_count": 19,
   "metadata": {
    "ExecuteTime": {
     "end_time": "2019-05-08T15:43:16.665193Z",
     "start_time": "2019-05-08T15:43:16.374508Z"
    }
   },
   "outputs": [
    {
     "data": {
      "image/png": "[encoded data removed]",
      "text/plain": [
       "<matplotlib.figure.Figure at 0x112da7a58>"
      ]
     },
     "metadata": {},
     "output_type": "display_data"
    }
   ],
   "source": [
    "plt.figure(figsize=(18,6))\n",
    "sns.countplot(x=\"order_dow\", data=orders_df, color=color[0])\n",
    "plt.ylabel('Count', fontsize=12)\n",
    "plt.xlabel('Day of week', fontsize=12)\n",
    "plt.xticks(rotation='vertical')\n",
    "plt.title(\"Frequency of order by week day\", fontsize=15)\n",
    "plt.show()"
   ]
  },
  {
   "cell_type": "code",
   "execution_count": 20,
   "metadata": {
    "ExecuteTime": {
     "end_time": "2019-05-08T15:43:18.237082Z",
     "start_time": "2019-05-08T15:43:17.844061Z"
    }
   },
   "outputs": [
    {
     "data": {
      "image/png": "[encoded data removed]",
      "text/plain": [
       "<matplotlib.figure.Figure at 0x113381f60>"
      ]
     },
     "metadata": {},
     "output_type": "display_data"
    }
   ],
   "source": [
    "plt.figure(figsize=(18,6))\n",
    "sns.countplot(x=\"order_hour_of_day\", data=orders_df, color=color[1])\n",
    "plt.ylabel('Count', fontsize=12)\n",
    "plt.xlabel('Hour of day', fontsize=12)\n",
    "plt.xticks(rotation='vertical')\n",
    "plt.title(\"Frequency of order by hour of day\", fontsize=15)\n",
    "plt.show()"
   ]
  },
  {
   "cell_type": "code",
   "execution_count": 21,
   "metadata": {
    "ExecuteTime": {
     "end_time": "2019-05-08T15:43:19.722125Z",
     "start_time": "2019-05-08T15:43:19.278211Z"
    }
   },
   "outputs": [
    {
     "data": {
      "image/png": "[encoded data removed]",
      "text/plain": [
       "<matplotlib.figure.Figure at 0x112cd1c50>"
      ]
     },
     "metadata": {},
     "output_type": "display_data"
    }
   ],
   "source": [
    "grouped_df = orders_df.groupby([\"order_dow\", \"order_hour_of_day\"])[\"order_number\"].aggregate(\"count\").reset_index()\n",
    "grouped_df = grouped_df.pivot(index='order_dow', columns='order_hour_of_day', values='order_number')\n",
    "\n",
    "plt.figure(figsize=(18,6))\n",
    "sns.heatmap(grouped_df,cmap=\"BuPu\")\n",
    "plt.title(\"Frequency of Day of week Vs Hour of day\")\n",
    "plt.show()"
   ]
  },
  {
   "cell_type": "code",
   "execution_count": 22,
   "metadata": {
    "ExecuteTime": {
     "end_time": "2019-05-08T15:43:21.585009Z",
     "start_time": "2019-05-08T15:43:21.140653Z"
    }
   },
   "outputs": [
    {
     "data": {
      "image/png": "[encoded data removed]",
      "text/plain": [
       "<matplotlib.figure.Figure at 0x114317c18>"
      ]
     },
     "metadata": {},
     "output_type": "display_data"
    }
   ],
   "source": [
    "plt.figure(figsize=(18,6))\n",
    "sns.countplot(x=\"days_since_prior_order\", data=orders_df, color=color[3])\n",
    "plt.ylabel('Count', fontsize=12)\n",
    "plt.xlabel('Days since prior order', fontsize=12)\n",
    "plt.xticks(rotation='vertical')\n",
    "plt.title(\"Frequency distribution by days since prior order\", fontsize=15)\n",
    "plt.show()\n",
    "\n",
    "# Reorders occur every most frequently once every 7 days or 30 days\n",
    "# Also peaks at 14, 21, and 28 days"
   ]
  },
  {
   "cell_type": "code",
   "execution_count": 23,
   "metadata": {
    "ExecuteTime": {
     "end_time": "2019-05-08T15:43:22.914716Z",
     "start_time": "2019-05-08T15:43:22.908519Z"
    }
   },
   "outputs": [
    {
     "data": {
      "text/plain": [
       "0.584587441619097"
      ]
     },
     "execution_count": 23,
     "metadata": {},
     "output_type": "execute_result"
    }
   ],
   "source": [
    "# percentage of re-orders in prior set \n",
    "order_products_prior_df.reordered.sum() / order_products_prior_df.shape[0]"
   ]
  },
  {
   "cell_type": "code",
   "execution_count": 24,
   "metadata": {
    "ExecuteTime": {
     "end_time": "2019-05-08T15:43:24.057574Z",
     "start_time": "2019-05-08T15:43:24.052391Z"
    }
   },
   "outputs": [
    {
     "data": {
      "text/plain": [
       "0.6021711604349769"
      ]
     },
     "execution_count": 24,
     "metadata": {},
     "output_type": "execute_result"
    }
   ],
   "source": [
    "# percentage of re-orders in train set \n",
    "order_products_train_df.reordered.sum() / order_products_train_df.shape[0]"
   ]
  },
  {
   "cell_type": "code",
   "execution_count": 25,
   "metadata": {
    "ExecuteTime": {
     "end_time": "2019-05-08T15:43:25.415126Z",
     "start_time": "2019-05-08T15:43:25.204270Z"
    }
   },
   "outputs": [
    {
     "data": {
      "text/plain": [
       "1    0.881145\n",
       "0    0.118855\n",
       "Name: reordered, dtype: float64"
      ]
     },
     "execution_count": 25,
     "metadata": {},
     "output_type": "execute_result"
    }
   ],
   "source": [
    "# Looking at orders with at least 1 reordered item in prior\n",
    "grouped_df = order_products_prior_df.groupby(\"order_id\")[\"reordered\"].aggregate(\"sum\").reset_index()\n",
    "grouped_df[\"reordered\"].loc[grouped_df[\"reordered\"]>1] = 1\n",
    "grouped_df.reordered.value_counts() / grouped_df.shape[0]\n",
    "# 12% of orders did not have a single reordered item"
   ]
  },
  {
   "cell_type": "code",
   "execution_count": 26,
   "metadata": {
    "ExecuteTime": {
     "end_time": "2019-05-08T15:43:26.924993Z",
     "start_time": "2019-05-08T15:43:26.899169Z"
    }
   },
   "outputs": [
    {
     "data": {
      "text/plain": [
       "1    0.941\n",
       "0    0.059\n",
       "Name: reordered, dtype: float64"
      ]
     },
     "execution_count": 26,
     "metadata": {},
     "output_type": "execute_result"
    }
   ],
   "source": [
    "# Looking at orders with at least 1 reordered item in train\n",
    "grouped_df = order_products_train_df.groupby(\"order_id\")[\"reordered\"].aggregate(\"sum\").reset_index()\n",
    "grouped_df[\"reordered\"].loc[grouped_df[\"reordered\"]>1] = 1\n",
    "grouped_df.reordered.value_counts() / grouped_df.shape[0]\n",
    "# 7% of orders did not have a single reordered item"
   ]
  },
  {
   "cell_type": "code",
   "execution_count": 27,
   "metadata": {
    "ExecuteTime": {
     "end_time": "2019-05-08T15:43:28.849577Z",
     "start_time": "2019-05-08T15:43:27.981380Z"
    }
   },
   "outputs": [
    {
     "data": {
      "image/png": "[encoded data removed]",
      "text/plain": [
       "<matplotlib.figure.Figure at 0x1145eca90>"
      ]
     },
     "metadata": {},
     "output_type": "display_data"
    }
   ],
   "source": [
    "grouped_df = order_products_train_df.groupby(\"order_id\")[\"add_to_cart_order\"].aggregate(\"max\").reset_index()\n",
    "cnt_srs = grouped_df.add_to_cart_order.value_counts()\n",
    "\n",
    "plt.figure(figsize=(18,6))\n",
    "sns.barplot(cnt_srs.index, cnt_srs.values)\n",
    "plt.ylabel('Number of Occurrences', fontsize=12)\n",
    "plt.xlabel('Number of products in the given order', fontsize=12)\n",
    "plt.title('Number of products bought in each order')\n",
    "plt.xticks(rotation='vertical')\n",
    "plt.show()"
   ]
  },
  {
   "cell_type": "markdown",
   "metadata": {},
   "source": [
    "## Feature Engineering"
   ]
  },
  {
   "cell_type": "markdown",
   "metadata": {},
   "source": [
    "### Breakdown of Feature Categories\n",
    "\n",
    "<br/><br/>\n",
    "**Product Features**: general information about product purchase patterns across ALL users. The category of the product, its general popularity, how high priority the item tends to be, etc.\n",
    "* **product_total_orders**: how many times has a given product_id been ordered before across all orders and all customers\n",
    "* **product_avg_add_to_cart_order**: average order in which the product is being added to the cart across all orders and all customers\n",
    "* **product_aisle_id**: aisle_id of product\n",
    "* **product_department_id**: department_id of product\n",
    "* **product_avg_order_dow**: average day of the week (rounded) the product was ordered on\n",
    "* **product_avg_order_hour_of_day**: average hour of the day (rounded) the product was ordered during\n",
    "* **product_total_users**: total # of unique users that have ordered the product\n",
    "\n",
    "\n",
    "<br/><br/>\n",
    "**User Features**: information about specific user behavior. How many items do they tend to order, how long has it been since they've last ordered, what time of day do they usually order, etc. \n",
    "* **user_total_orders**: count of total prior orders by user id\n",
    "* **user_avg_cartsize**: average number of products across all carts by user id\n",
    "* **user_total_products**: count of unique product ids ordered across all orders by user id\n",
    "* **user_avg_days_since_prior_order**: average of days since prior order across all orders by user id\n",
    "\n",
    "\n",
    "<br/><br/>\n",
    "**User-Product** features: information about product-specific user behavior. How often have they ordered this product, how high-priority does it tend to be for them, how long has it been since they've ordered this product, etc.\n",
    "* **user_product_avg_add_to_cart_order**: average order in which each product id is added to a cart across all orders by user id\n",
    "* **user_product_avg_order_dow**: average day of the week product is ordered on user-product level\n",
    "* **user_product_avg_order_hour_of_day**: average hour of the day the product is ordered on user-product level\n",
    "* **max_order_number_per_product**: max order number a product showed up in based on user_id\n",
    "* **user_product_order_freq**: how often the user bought the product out of the user's total orders\n",
    "* **user_product_orders_ago_ordered**: how many orders ago the user last ordered the product\n",
    "* **user_product_times_bought_in_last_five_orders**: how many times the user bought the product in their last 5 orders\n",
    "* **user_product_times_bought_in_last_ten_orders**: how many times the user bought the product in their last 10 orders\n",
    "* **weighted_reorder_sum**: a weighted sum of product reorders by user id (more weight the more recent the reorder)\n",
    "* **weighted_reorder_squared_sum**: a weighted sum of product reorders by user id (even more weight the more recent the reorder)\n",
    "* **consecutive_reorder_count**: counts how many times the product was consecutively reordered\n",
    "* **consecutive_reorder_percent**: percent of how many orders were consecutive as a percent of total orders for a product\n",
    "* **days_since_last_order**: count of days since the last time the product was orderd by the user\n",
    "\n",
    "<br/><br/>\n"
   ]
  },
  {
   "cell_type": "code",
   "execution_count": 28,
   "metadata": {
    "ExecuteTime": {
     "end_time": "2019-05-08T15:43:43.176562Z",
     "start_time": "2019-05-08T15:43:42.940750Z"
    }
   },
   "outputs": [
    {
     "data": {
      "text/html": [
       "<div>\n",
       "<style>\n",
       "    .dataframe thead tr:only-child th {\n",
       "        text-align: right;\n",
       "    }\n",
       "\n",
       "    .dataframe thead th {\n",
       "        text-align: left;\n",
       "    }\n",
       "\n",
       "    .dataframe tbody tr th {\n",
       "        vertical-align: top;\n",
       "    }\n",
       "</style>\n",
       "<table border=\"1\" class=\"dataframe\">\n",
       "  <thead>\n",
       "    <tr style=\"text-align: right;\">\n",
       "      <th></th>\n",
       "      <th>product_id</th>\n",
       "      <th>user_id</th>\n",
       "    </tr>\n",
       "  </thead>\n",
       "  <tbody>\n",
       "    <tr>\n",
       "      <th>0</th>\n",
       "      <td>1</td>\n",
       "      <td>21285</td>\n",
       "    </tr>\n",
       "    <tr>\n",
       "      <th>1</th>\n",
       "      <td>1</td>\n",
       "      <td>47549</td>\n",
       "    </tr>\n",
       "    <tr>\n",
       "      <th>2</th>\n",
       "      <td>1</td>\n",
       "      <td>54136</td>\n",
       "    </tr>\n",
       "    <tr>\n",
       "      <th>3</th>\n",
       "      <td>1</td>\n",
       "      <td>54240</td>\n",
       "    </tr>\n",
       "    <tr>\n",
       "      <th>4</th>\n",
       "      <td>1</td>\n",
       "      <td>95730</td>\n",
       "    </tr>\n",
       "  </tbody>\n",
       "</table>\n",
       "</div>"
      ],
      "text/plain": [
       "   product_id  user_id\n",
       "0           1    21285\n",
       "1           1    47549\n",
       "2           1    54136\n",
       "3           1    54240\n",
       "4           1    95730"
      ]
     },
     "execution_count": 28,
     "metadata": {},
     "output_type": "execute_result"
    }
   ],
   "source": [
    "# Creating initial X_df to store product_id and user_id\n",
    "user_product_df = (order_products_prior_df.groupby(['product_id','user_id'],as_index=False) \n",
    "                                          .agg({'order_id':'count'}) \n",
    "                                          .rename(columns={'order_id':'user_product_total_orders'}))\n",
    "\n",
    "train_ids = order_products_train_df['user_id'].unique() \n",
    "X_df = user_product_df[user_product_df['user_id'].isin(train_ids)]\n",
    "X_df = X_df.drop(['user_product_total_orders'],axis=1)\n",
    "X_df.head()"
   ]
  },
  {
   "cell_type": "code",
   "execution_count": 29,
   "metadata": {
    "ExecuteTime": {
     "end_time": "2019-05-08T15:43:54.711819Z",
     "start_time": "2019-05-08T15:43:46.664617Z"
    }
   },
   "outputs": [
    {
     "data": {
      "text/html": [
       "<div>\n",
       "<style>\n",
       "    .dataframe thead tr:only-child th {\n",
       "        text-align: right;\n",
       "    }\n",
       "\n",
       "    .dataframe thead th {\n",
       "        text-align: left;\n",
       "    }\n",
       "\n",
       "    .dataframe tbody tr th {\n",
       "        vertical-align: top;\n",
       "    }\n",
       "</style>\n",
       "<table border=\"1\" class=\"dataframe\">\n",
       "  <thead>\n",
       "    <tr style=\"text-align: right;\">\n",
       "      <th></th>\n",
       "      <th>product_id</th>\n",
       "      <th>user_id</th>\n",
       "      <th>latest_cart</th>\n",
       "      <th>in_cart</th>\n",
       "    </tr>\n",
       "  </thead>\n",
       "  <tbody>\n",
       "    <tr>\n",
       "      <th>0</th>\n",
       "      <td>1</td>\n",
       "      <td>21285</td>\n",
       "      <td>{21573, 35561, 37710, 11759, 12341, 13176, 32478}</td>\n",
       "      <td>0</td>\n",
       "    </tr>\n",
       "    <tr>\n",
       "      <th>1</th>\n",
       "      <td>3298</td>\n",
       "      <td>21285</td>\n",
       "      <td>{21573, 35561, 37710, 11759, 12341, 13176, 32478}</td>\n",
       "      <td>0</td>\n",
       "    </tr>\n",
       "    <tr>\n",
       "      <th>2</th>\n",
       "      <td>4920</td>\n",
       "      <td>21285</td>\n",
       "      <td>{21573, 35561, 37710, 11759, 12341, 13176, 32478}</td>\n",
       "      <td>0</td>\n",
       "    </tr>\n",
       "    <tr>\n",
       "      <th>3</th>\n",
       "      <td>6066</td>\n",
       "      <td>21285</td>\n",
       "      <td>{21573, 35561, 37710, 11759, 12341, 13176, 32478}</td>\n",
       "      <td>0</td>\n",
       "    </tr>\n",
       "    <tr>\n",
       "      <th>4</th>\n",
       "      <td>6184</td>\n",
       "      <td>21285</td>\n",
       "      <td>{21573, 35561, 37710, 11759, 12341, 13176, 32478}</td>\n",
       "      <td>0</td>\n",
       "    </tr>\n",
       "  </tbody>\n",
       "</table>\n",
       "</div>"
      ],
      "text/plain": [
       "   product_id  user_id                                        latest_cart  \\\n",
       "0           1    21285  {21573, 35561, 37710, 11759, 12341, 13176, 32478}   \n",
       "1        3298    21285  {21573, 35561, 37710, 11759, 12341, 13176, 32478}   \n",
       "2        4920    21285  {21573, 35561, 37710, 11759, 12341, 13176, 32478}   \n",
       "3        6066    21285  {21573, 35561, 37710, 11759, 12341, 13176, 32478}   \n",
       "4        6184    21285  {21573, 35561, 37710, 11759, 12341, 13176, 32478}   \n",
       "\n",
       "   in_cart  \n",
       "0        0  \n",
       "1        0  \n",
       "2        0  \n",
       "3        0  \n",
       "4        0  "
      ]
     },
     "execution_count": 29,
     "metadata": {},
     "output_type": "execute_result"
    }
   ],
   "source": [
    "# Setting up latest_cart and in_cart to create target variable in X_df\n",
    "train_carts = (order_products_train_df.groupby('user_id',as_index=False)\n",
    "                                      .agg({'product_id':(lambda x: set(x))})\n",
    "                                      .rename(columns={'product_id':'latest_cart'}))\n",
    "\n",
    "X_df = X_df.merge(train_carts, on='user_id')\n",
    "X_df['in_cart'] = (X_df.apply(lambda row: row['product_id'] in row['latest_cart'], axis=1).astype(int))\n",
    "X_df.head()"
   ]
  },
  {
   "cell_type": "code",
   "execution_count": 30,
   "metadata": {
    "ExecuteTime": {
     "end_time": "2019-05-08T15:44:12.100126Z",
     "start_time": "2019-05-08T15:44:12.089567Z"
    }
   },
   "outputs": [
    {
     "data": {
      "text/plain": [
       "0    0.901945\n",
       "1    0.098055\n",
       "Name: in_cart, dtype: float64"
      ]
     },
     "execution_count": 30,
     "metadata": {},
     "output_type": "execute_result"
    }
   ],
   "source": [
    "# Check proportion of train products that were reordered\n",
    "X_df.in_cart.value_counts(normalize=True)"
   ]
  },
  {
   "cell_type": "markdown",
   "metadata": {},
   "source": [
    "### Product Features"
   ]
  },
  {
   "cell_type": "code",
   "execution_count": 31,
   "metadata": {
    "ExecuteTime": {
     "end_time": "2019-05-08T15:44:17.350424Z",
     "start_time": "2019-05-08T15:44:16.858582Z"
    }
   },
   "outputs": [
    {
     "data": {
      "text/html": [
       "<div>\n",
       "<style>\n",
       "    .dataframe thead tr:only-child th {\n",
       "        text-align: right;\n",
       "    }\n",
       "\n",
       "    .dataframe thead th {\n",
       "        text-align: left;\n",
       "    }\n",
       "\n",
       "    .dataframe tbody tr th {\n",
       "        vertical-align: top;\n",
       "    }\n",
       "</style>\n",
       "<table border=\"1\" class=\"dataframe\">\n",
       "  <thead>\n",
       "    <tr style=\"text-align: right;\">\n",
       "      <th></th>\n",
       "      <th>product_id</th>\n",
       "      <th>product_total_orders</th>\n",
       "      <th>product_avg_add_to_cart_order</th>\n",
       "      <th>product_aisle_id</th>\n",
       "      <th>product_department_id</th>\n",
       "      <th>product_avg_order_dow</th>\n",
       "      <th>product_avg_order_hour_of_day</th>\n",
       "      <th>product_total_users</th>\n",
       "    </tr>\n",
       "  </thead>\n",
       "  <tbody>\n",
       "    <tr>\n",
       "      <th>0</th>\n",
       "      <td>1</td>\n",
       "      <td>26</td>\n",
       "      <td>4.576923</td>\n",
       "      <td>61</td>\n",
       "      <td>19</td>\n",
       "      <td>3.0</td>\n",
       "      <td>13.0</td>\n",
       "      <td>12</td>\n",
       "    </tr>\n",
       "    <tr>\n",
       "      <th>1</th>\n",
       "      <td>2</td>\n",
       "      <td>1</td>\n",
       "      <td>3.000000</td>\n",
       "      <td>104</td>\n",
       "      <td>13</td>\n",
       "      <td>4.0</td>\n",
       "      <td>12.0</td>\n",
       "      <td>1</td>\n",
       "    </tr>\n",
       "    <tr>\n",
       "      <th>2</th>\n",
       "      <td>3</td>\n",
       "      <td>1</td>\n",
       "      <td>4.000000</td>\n",
       "      <td>94</td>\n",
       "      <td>7</td>\n",
       "      <td>4.0</td>\n",
       "      <td>17.0</td>\n",
       "      <td>1</td>\n",
       "    </tr>\n",
       "  </tbody>\n",
       "</table>\n",
       "</div>"
      ],
      "text/plain": [
       "   product_id  product_total_orders  product_avg_add_to_cart_order  \\\n",
       "0           1                    26                       4.576923   \n",
       "1           2                     1                       3.000000   \n",
       "2           3                     1                       4.000000   \n",
       "\n",
       "   product_aisle_id  product_department_id  product_avg_order_dow  \\\n",
       "0                61                     19                    3.0   \n",
       "1               104                     13                    4.0   \n",
       "2                94                      7                    4.0   \n",
       "\n",
       "   product_avg_order_hour_of_day  product_total_users  \n",
       "0                           13.0                   12  \n",
       "1                           12.0                    1  \n",
       "2                           17.0                    1  "
      ]
     },
     "execution_count": 31,
     "metadata": {},
     "output_type": "execute_result"
    }
   ],
   "source": [
    "# First category of features are product_id specific features\n",
    "\n",
    "prod_features = ['product_total_orders','product_avg_add_to_cart_order','product_aisle_id','product_department_id',\n",
    "                 'product_avg_order_dow','product_avg_order_hour_of_day','product_total_users']\n",
    "\n",
    "# Using max on aisle and dept id just as a trick to extract from groupby\n",
    "\n",
    "prod_features_df = (order_products_prior_df.groupby(['product_id'],as_index=False)\n",
    "                                           .agg(OrderedDict(\n",
    "                                                   [('order_id','nunique'),\n",
    "                                                    ('add_to_cart_order','mean'),\n",
    "                                                    ('aisle_id','max'),\n",
    "                                                    ('department_id','max'),\n",
    "                                                    ('order_dow','mean'),\n",
    "                                                    ('order_hour_of_day','mean'),\n",
    "                                                    ('user_id','nunique')])))\n",
    "prod_features_df.columns = ['product_id'] + prod_features\n",
    "\n",
    "# Round back to get categorical days and binned hours\n",
    "prod_features_df.product_avg_order_dow = prod_features_df.product_avg_order_dow.round()\n",
    "prod_features_df.product_avg_order_hour_of_day = prod_features_df.product_avg_order_hour_of_day.round()\n",
    "\n",
    "prod_features_df.head(3)"
   ]
  },
  {
   "cell_type": "code",
   "execution_count": 32,
   "metadata": {
    "ExecuteTime": {
     "end_time": "2019-05-08T15:44:19.199871Z",
     "start_time": "2019-05-08T15:44:18.937717Z"
    }
   },
   "outputs": [
    {
     "data": {
      "text/html": [
       "<div>\n",
       "<style>\n",
       "    .dataframe thead tr:only-child th {\n",
       "        text-align: right;\n",
       "    }\n",
       "\n",
       "    .dataframe thead th {\n",
       "        text-align: left;\n",
       "    }\n",
       "\n",
       "    .dataframe tbody tr th {\n",
       "        vertical-align: top;\n",
       "    }\n",
       "</style>\n",
       "<table border=\"1\" class=\"dataframe\">\n",
       "  <thead>\n",
       "    <tr style=\"text-align: right;\">\n",
       "      <th></th>\n",
       "      <th>product_id</th>\n",
       "      <th>user_id</th>\n",
       "      <th>latest_cart</th>\n",
       "      <th>in_cart</th>\n",
       "      <th>product_total_orders</th>\n",
       "      <th>product_avg_add_to_cart_order</th>\n",
       "      <th>product_aisle_id</th>\n",
       "      <th>product_department_id</th>\n",
       "      <th>product_avg_order_dow</th>\n",
       "      <th>product_avg_order_hour_of_day</th>\n",
       "      <th>product_total_users</th>\n",
       "    </tr>\n",
       "  </thead>\n",
       "  <tbody>\n",
       "    <tr>\n",
       "      <th>0</th>\n",
       "      <td>1</td>\n",
       "      <td>21285</td>\n",
       "      <td>{21573, 35561, 37710, 11759, 12341, 13176, 32478}</td>\n",
       "      <td>0</td>\n",
       "      <td>26</td>\n",
       "      <td>4.576923</td>\n",
       "      <td>61</td>\n",
       "      <td>19</td>\n",
       "      <td>3.0</td>\n",
       "      <td>13.0</td>\n",
       "      <td>12</td>\n",
       "    </tr>\n",
       "  </tbody>\n",
       "</table>\n",
       "</div>"
      ],
      "text/plain": [
       "   product_id  user_id                                        latest_cart  \\\n",
       "0           1    21285  {21573, 35561, 37710, 11759, 12341, 13176, 32478}   \n",
       "\n",
       "   in_cart  product_total_orders  product_avg_add_to_cart_order  \\\n",
       "0        0                    26                       4.576923   \n",
       "\n",
       "   product_aisle_id  product_department_id  product_avg_order_dow  \\\n",
       "0                61                     19                    3.0   \n",
       "\n",
       "   product_avg_order_hour_of_day  product_total_users  \n",
       "0                           13.0                   12  "
      ]
     },
     "execution_count": 32,
     "metadata": {},
     "output_type": "execute_result"
    }
   ],
   "source": [
    "# Merge in product features into X_df on product_id\n",
    "X_df = X_df.merge(prod_features_df, on='product_id')\n",
    "X_df = X_df.dropna()\n",
    "X_df.head(1)"
   ]
  },
  {
   "cell_type": "code",
   "execution_count": 33,
   "metadata": {
    "ExecuteTime": {
     "end_time": "2019-05-08T15:44:43.134995Z",
     "start_time": "2019-05-08T15:44:41.814627Z"
    }
   },
   "outputs": [
    {
     "name": "stderr",
     "output_type": "stream",
     "text": [
      "/Users/EdwardLeardi/anaconda/lib/python3.6/site-packages/sklearn/metrics/classification.py:1137: UndefinedMetricWarning: F-score is ill-defined and being set to 0.0 due to no true samples.\n",
      "  'recall', 'true', average, warn_for)\n"
     ]
    },
    {
     "data": {
      "text/plain": [
       "0.0"
      ]
     },
     "execution_count": 33,
     "metadata": {},
     "output_type": "execute_result"
    }
   ],
   "source": [
    "# There is a risk to overfitting user specific behavior, which would make having the same user in both train and\n",
    "# test bad (since you'd have an overfit model testing on the same user in the test set). So split on users, not\n",
    "# on user-product\n",
    "\n",
    "# Baseline with Product Features\n",
    "\n",
    "# Sample 20% of users\n",
    "np.random.seed(45)\n",
    "total_users = X_df['user_id'].unique() \n",
    "test_users = np.random.choice(total_users, size=int(total_users.shape[0] * .20), replace=False)\n",
    "\n",
    "# Split into train/test\n",
    "X_train_df, X_test_df = X_df[~X_df['user_id'].isin(test_users)], X_df[X_df['user_id'].isin(test_users)] \n",
    "\n",
    "# Split into features/target\n",
    "y_train, y_test = X_train_df['in_cart'], X_test_df['in_cart']\n",
    "X_train, X_test = X_train_df.drop(['product_id','user_id','latest_cart','in_cart'],axis=1), \\\n",
    "                  X_test_df.drop(['product_id','user_id','latest_cart','in_cart'],axis=1), \\\n",
    "\n",
    "# Fit simple baseline model\n",
    "lr = LogisticRegression()\n",
    "lr.fit(X_train, y_train)\n",
    "metrics.f1_score(lr.predict(X_test), y_test)"
   ]
  },
  {
   "cell_type": "markdown",
   "metadata": {},
   "source": [
    "### User Features"
   ]
  },
  {
   "cell_type": "code",
   "execution_count": 34,
   "metadata": {
    "ExecuteTime": {
     "end_time": "2019-05-08T15:44:53.034796Z",
     "start_time": "2019-05-08T15:44:52.235070Z"
    }
   },
   "outputs": [
    {
     "data": {
      "text/html": [
       "<div>\n",
       "<style>\n",
       "    .dataframe thead tr:only-child th {\n",
       "        text-align: right;\n",
       "    }\n",
       "\n",
       "    .dataframe thead th {\n",
       "        text-align: left;\n",
       "    }\n",
       "\n",
       "    .dataframe tbody tr th {\n",
       "        vertical-align: top;\n",
       "    }\n",
       "</style>\n",
       "<table border=\"1\" class=\"dataframe\">\n",
       "  <thead>\n",
       "    <tr style=\"text-align: right;\">\n",
       "      <th></th>\n",
       "      <th>user_id</th>\n",
       "      <th>user_total_orders</th>\n",
       "      <th>user_avg_cartsize</th>\n",
       "      <th>user_total_products</th>\n",
       "      <th>user_avg_days_since_prior_order</th>\n",
       "    </tr>\n",
       "  </thead>\n",
       "  <tbody>\n",
       "    <tr>\n",
       "      <th>0</th>\n",
       "      <td>50</td>\n",
       "      <td>67</td>\n",
       "      <td>6.761194</td>\n",
       "      <td>89</td>\n",
       "      <td>5.691275</td>\n",
       "    </tr>\n",
       "    <tr>\n",
       "      <th>1</th>\n",
       "      <td>52</td>\n",
       "      <td>27</td>\n",
       "      <td>6.259259</td>\n",
       "      <td>51</td>\n",
       "      <td>9.134969</td>\n",
       "    </tr>\n",
       "    <tr>\n",
       "      <th>2</th>\n",
       "      <td>65</td>\n",
       "      <td>14</td>\n",
       "      <td>9.428571</td>\n",
       "      <td>80</td>\n",
       "      <td>13.594828</td>\n",
       "    </tr>\n",
       "  </tbody>\n",
       "</table>\n",
       "</div>"
      ],
      "text/plain": [
       "   user_id  user_total_orders  user_avg_cartsize  user_total_products  \\\n",
       "0       50                 67           6.761194                   89   \n",
       "1       52                 27           6.259259                   51   \n",
       "2       65                 14           9.428571                   80   \n",
       "\n",
       "   user_avg_days_since_prior_order  \n",
       "0                         5.691275  \n",
       "1                         9.134969  \n",
       "2                        13.594828  "
      ]
     },
     "execution_count": 34,
     "metadata": {},
     "output_type": "execute_result"
    }
   ],
   "source": [
    "# Second category of features are user specific features\n",
    "\n",
    "user_features = ['user_total_orders','user_avg_cartsize','user_total_products','user_avg_days_since_prior_order']\n",
    "\n",
    "user_features_df = (order_products_prior_df.groupby(['user_id'],as_index=False)\n",
    "                                           .agg(OrderedDict(\n",
    "                                                   [('order_id',['nunique', (lambda x: x.shape[0] / x.nunique())]),\n",
    "                                                    ('product_id','nunique'),\n",
    "                                                    ('days_since_prior_order','mean')])))\n",
    "\n",
    "user_features_df.columns = ['user_id'] + user_features\n",
    "\n",
    "user_features_df.head(3)"
   ]
  },
  {
   "cell_type": "code",
   "execution_count": 35,
   "metadata": {
    "ExecuteTime": {
     "end_time": "2019-05-08T15:44:56.254988Z",
     "start_time": "2019-05-08T15:44:55.843365Z"
    }
   },
   "outputs": [
    {
     "data": {
      "text/html": [
       "<div>\n",
       "<style>\n",
       "    .dataframe thead tr:only-child th {\n",
       "        text-align: right;\n",
       "    }\n",
       "\n",
       "    .dataframe thead th {\n",
       "        text-align: left;\n",
       "    }\n",
       "\n",
       "    .dataframe tbody tr th {\n",
       "        vertical-align: top;\n",
       "    }\n",
       "</style>\n",
       "<table border=\"1\" class=\"dataframe\">\n",
       "  <thead>\n",
       "    <tr style=\"text-align: right;\">\n",
       "      <th></th>\n",
       "      <th>product_id</th>\n",
       "      <th>user_id</th>\n",
       "      <th>latest_cart</th>\n",
       "      <th>in_cart</th>\n",
       "      <th>product_total_orders</th>\n",
       "      <th>product_avg_add_to_cart_order</th>\n",
       "      <th>product_aisle_id</th>\n",
       "      <th>product_department_id</th>\n",
       "      <th>product_avg_order_dow</th>\n",
       "      <th>product_avg_order_hour_of_day</th>\n",
       "      <th>product_total_users</th>\n",
       "      <th>user_total_orders</th>\n",
       "      <th>user_avg_cartsize</th>\n",
       "      <th>user_total_products</th>\n",
       "      <th>user_avg_days_since_prior_order</th>\n",
       "    </tr>\n",
       "  </thead>\n",
       "  <tbody>\n",
       "    <tr>\n",
       "      <th>0</th>\n",
       "      <td>1</td>\n",
       "      <td>21285</td>\n",
       "      <td>{21573, 35561, 37710, 11759, 12341, 13176, 32478}</td>\n",
       "      <td>0</td>\n",
       "      <td>26</td>\n",
       "      <td>4.576923</td>\n",
       "      <td>61</td>\n",
       "      <td>19</td>\n",
       "      <td>3.0</td>\n",
       "      <td>13.0</td>\n",
       "      <td>12</td>\n",
       "      <td>48</td>\n",
       "      <td>6.604167</td>\n",
       "      <td>46</td>\n",
       "      <td>8.044872</td>\n",
       "    </tr>\n",
       "  </tbody>\n",
       "</table>\n",
       "</div>"
      ],
      "text/plain": [
       "   product_id  user_id                                        latest_cart  \\\n",
       "0           1    21285  {21573, 35561, 37710, 11759, 12341, 13176, 32478}   \n",
       "\n",
       "   in_cart  product_total_orders  product_avg_add_to_cart_order  \\\n",
       "0        0                    26                       4.576923   \n",
       "\n",
       "   product_aisle_id  product_department_id  product_avg_order_dow  \\\n",
       "0                61                     19                    3.0   \n",
       "\n",
       "   product_avg_order_hour_of_day  product_total_users  user_total_orders  \\\n",
       "0                           13.0                   12                 48   \n",
       "\n",
       "   user_avg_cartsize  user_total_products  user_avg_days_since_prior_order  \n",
       "0           6.604167                   46                         8.044872  "
      ]
     },
     "execution_count": 35,
     "metadata": {},
     "output_type": "execute_result"
    }
   ],
   "source": [
    "# Merge user features into X_df on user_id\n",
    "X_df = X_df.merge(user_features_df, on='user_id')\n",
    "X_df = X_df.dropna()\n",
    "X_df.head(1)"
   ]
  },
  {
   "cell_type": "code",
   "execution_count": 36,
   "metadata": {
    "ExecuteTime": {
     "end_time": "2019-05-08T15:45:12.378405Z",
     "start_time": "2019-05-08T15:45:07.645707Z"
    }
   },
   "outputs": [
    {
     "data": {
      "text/plain": [
       "0.014392991239048813"
      ]
     },
     "execution_count": 36,
     "metadata": {},
     "output_type": "execute_result"
    }
   ],
   "source": [
    "# Baseline with Product & User Features (using same user_id 20/80 split defined in Product Features category)\n",
    "\n",
    "# Split into train/test\n",
    "X_train_df, X_test_df = X_df[~X_df['user_id'].isin(test_users)], X_df[X_df['user_id'].isin(test_users)] \n",
    "\n",
    "# Split into features/target\n",
    "y_train, y_test = X_train_df['in_cart'], X_test_df['in_cart']\n",
    "X_train, X_test = X_train_df.drop(['product_id','user_id','latest_cart','in_cart'],axis=1), \\\n",
    "                  X_test_df.drop(['product_id','user_id','latest_cart','in_cart'],axis=1), \\\n",
    "\n",
    "# Fit simple baseline model\n",
    "lr = LogisticRegression()\n",
    "lr.fit(X_train, y_train)\n",
    "metrics.f1_score(lr.predict(X_test), y_test)"
   ]
  },
  {
   "cell_type": "markdown",
   "metadata": {},
   "source": [
    "### User-Product Features"
   ]
  },
  {
   "cell_type": "markdown",
   "metadata": {},
   "source": [
    "#### User-Product Features Setup"
   ]
  },
  {
   "cell_type": "code",
   "execution_count": 37,
   "metadata": {
    "ExecuteTime": {
     "end_time": "2019-05-08T15:45:19.252140Z",
     "start_time": "2019-05-08T15:45:16.645536Z"
    }
   },
   "outputs": [
    {
     "data": {
      "text/html": [
       "<div>\n",
       "<style>\n",
       "    .dataframe thead tr:only-child th {\n",
       "        text-align: right;\n",
       "    }\n",
       "\n",
       "    .dataframe thead th {\n",
       "        text-align: left;\n",
       "    }\n",
       "\n",
       "    .dataframe tbody tr th {\n",
       "        vertical-align: top;\n",
       "    }\n",
       "</style>\n",
       "<table border=\"1\" class=\"dataframe\">\n",
       "  <thead>\n",
       "    <tr style=\"text-align: right;\">\n",
       "      <th></th>\n",
       "      <th>user_id</th>\n",
       "      <th>order_id</th>\n",
       "      <th>order_id_cart</th>\n",
       "    </tr>\n",
       "  </thead>\n",
       "  <tbody>\n",
       "    <tr>\n",
       "      <th>0</th>\n",
       "      <td>50</td>\n",
       "      <td>103726</td>\n",
       "      <td>{39877, 6182, 31720, 22825, 34409, 42701, 2190...</td>\n",
       "    </tr>\n",
       "    <tr>\n",
       "      <th>1</th>\n",
       "      <td>50</td>\n",
       "      <td>131991</td>\n",
       "      <td>{7014, 6182, 47209, 47018, 19678}</td>\n",
       "    </tr>\n",
       "  </tbody>\n",
       "</table>\n",
       "</div>"
      ],
      "text/plain": [
       "   user_id  order_id                                      order_id_cart\n",
       "0       50    103726  {39877, 6182, 31720, 22825, 34409, 42701, 2190...\n",
       "1       50    131991                  {7014, 6182, 47209, 47018, 19678}"
      ]
     },
     "execution_count": 37,
     "metadata": {},
     "output_type": "execute_result"
    }
   ],
   "source": [
    "# Creating a cart for each prior order (to be used to create User-Product features)\n",
    "prior_carts = (order_products_prior_df.groupby(['user_id','order_id'],as_index=False)\n",
    "                                      .agg({'product_id':(lambda x: set(x))})\n",
    "                                      .rename(columns={'product_id':'order_id_cart'}))\n",
    "prior_carts.head(2)"
   ]
  },
  {
   "cell_type": "code",
   "execution_count": 38,
   "metadata": {
    "ExecuteTime": {
     "end_time": "2019-05-08T15:45:21.507101Z",
     "start_time": "2019-05-08T15:45:20.950020Z"
    }
   },
   "outputs": [
    {
     "data": {
      "text/html": [
       "<div>\n",
       "<style>\n",
       "    .dataframe thead tr:only-child th {\n",
       "        text-align: right;\n",
       "    }\n",
       "\n",
       "    .dataframe thead th {\n",
       "        text-align: left;\n",
       "    }\n",
       "\n",
       "    .dataframe tbody tr th {\n",
       "        vertical-align: top;\n",
       "    }\n",
       "</style>\n",
       "<table border=\"1\" class=\"dataframe\">\n",
       "  <thead>\n",
       "    <tr style=\"text-align: right;\">\n",
       "      <th></th>\n",
       "      <th>order_id</th>\n",
       "      <th>product_id</th>\n",
       "      <th>add_to_cart_order</th>\n",
       "      <th>reordered</th>\n",
       "      <th>user_id</th>\n",
       "      <th>order_number</th>\n",
       "      <th>order_dow</th>\n",
       "      <th>order_hour_of_day</th>\n",
       "      <th>days_since_prior_order</th>\n",
       "      <th>aisle_id</th>\n",
       "      <th>department_id</th>\n",
       "      <th>order_id_cart</th>\n",
       "    </tr>\n",
       "  </thead>\n",
       "  <tbody>\n",
       "    <tr>\n",
       "      <th>0</th>\n",
       "      <td>12</td>\n",
       "      <td>30597</td>\n",
       "      <td>1</td>\n",
       "      <td>1</td>\n",
       "      <td>152610</td>\n",
       "      <td>22</td>\n",
       "      <td>6</td>\n",
       "      <td>8</td>\n",
       "      <td>10.0</td>\n",
       "      <td>53</td>\n",
       "      <td>16</td>\n",
       "      <td>{38050, 30597, 11175, 38888, 34335, 3164, 2339...</td>\n",
       "    </tr>\n",
       "    <tr>\n",
       "      <th>1</th>\n",
       "      <td>12</td>\n",
       "      <td>15221</td>\n",
       "      <td>2</td>\n",
       "      <td>1</td>\n",
       "      <td>152610</td>\n",
       "      <td>22</td>\n",
       "      <td>6</td>\n",
       "      <td>8</td>\n",
       "      <td>10.0</td>\n",
       "      <td>84</td>\n",
       "      <td>16</td>\n",
       "      <td>{38050, 30597, 11175, 38888, 34335, 3164, 2339...</td>\n",
       "    </tr>\n",
       "  </tbody>\n",
       "</table>\n",
       "</div>"
      ],
      "text/plain": [
       "   order_id  product_id  add_to_cart_order  reordered  user_id  order_number  \\\n",
       "0        12       30597                  1          1   152610            22   \n",
       "1        12       15221                  2          1   152610            22   \n",
       "\n",
       "   order_dow  order_hour_of_day  days_since_prior_order  aisle_id  \\\n",
       "0          6                  8                    10.0        53   \n",
       "1          6                  8                    10.0        84   \n",
       "\n",
       "   department_id                                      order_id_cart  \n",
       "0             16  {38050, 30597, 11175, 38888, 34335, 3164, 2339...  \n",
       "1             16  {38050, 30597, 11175, 38888, 34335, 3164, 2339...  "
      ]
     },
     "execution_count": 38,
     "metadata": {},
     "output_type": "execute_result"
    }
   ],
   "source": [
    "# Adding cart for each order id to prior_products to set up for reorder comparison features\n",
    "order_products_prior_df = order_products_prior_df.merge(prior_carts.drop('user_id', axis=1), on='order_id')\n",
    "order_products_prior_df.head(2)"
   ]
  },
  {
   "cell_type": "code",
   "execution_count": 39,
   "metadata": {
    "ExecuteTime": {
     "end_time": "2019-05-08T15:45:31.746691Z",
     "start_time": "2019-05-08T15:45:23.862305Z"
    }
   },
   "outputs": [
    {
     "data": {
      "text/html": [
       "<div>\n",
       "<style>\n",
       "    .dataframe thead tr:only-child th {\n",
       "        text-align: right;\n",
       "    }\n",
       "\n",
       "    .dataframe thead th {\n",
       "        text-align: left;\n",
       "    }\n",
       "\n",
       "    .dataframe tbody tr th {\n",
       "        vertical-align: top;\n",
       "    }\n",
       "</style>\n",
       "<table border=\"1\" class=\"dataframe\">\n",
       "  <thead>\n",
       "    <tr style=\"text-align: right;\">\n",
       "      <th></th>\n",
       "      <th>product_id</th>\n",
       "      <th>user_id</th>\n",
       "      <th>order_number_per_product</th>\n",
       "    </tr>\n",
       "  </thead>\n",
       "  <tbody>\n",
       "    <tr>\n",
       "      <th>0</th>\n",
       "      <td>1</td>\n",
       "      <td>21285</td>\n",
       "      <td>{2}</td>\n",
       "    </tr>\n",
       "    <tr>\n",
       "      <th>1</th>\n",
       "      <td>1</td>\n",
       "      <td>47549</td>\n",
       "      <td>{8, 17, 11, 21}</td>\n",
       "    </tr>\n",
       "  </tbody>\n",
       "</table>\n",
       "</div>"
      ],
      "text/plain": [
       "   product_id  user_id order_number_per_product\n",
       "0           1    21285                      {2}\n",
       "1           1    47549          {8, 17, 11, 21}"
      ]
     },
     "execution_count": 39,
     "metadata": {},
     "output_type": "execute_result"
    }
   ],
   "source": [
    "# Creating a set that contains past order numbers in which the product_id was ordered in\n",
    "order_number_per_product = (order_products_prior_df.groupby(['product_id','user_id'],as_index=False)\n",
    "                                      .agg({'order_number':(lambda x: set(x))})\n",
    "                                      .rename(columns={'order_number':'order_number_per_product'}))\n",
    "order_number_per_product.head(2)"
   ]
  },
  {
   "cell_type": "code",
   "execution_count": 40,
   "metadata": {
    "ExecuteTime": {
     "end_time": "2019-05-08T15:45:34.473759Z",
     "start_time": "2019-05-08T15:45:33.905410Z"
    }
   },
   "outputs": [
    {
     "data": {
      "text/html": [
       "<div>\n",
       "<style>\n",
       "    .dataframe thead tr:only-child th {\n",
       "        text-align: right;\n",
       "    }\n",
       "\n",
       "    .dataframe thead th {\n",
       "        text-align: left;\n",
       "    }\n",
       "\n",
       "    .dataframe tbody tr th {\n",
       "        vertical-align: top;\n",
       "    }\n",
       "</style>\n",
       "<table border=\"1\" class=\"dataframe\">\n",
       "  <thead>\n",
       "    <tr style=\"text-align: right;\">\n",
       "      <th></th>\n",
       "      <th>order_id</th>\n",
       "      <th>product_id</th>\n",
       "      <th>add_to_cart_order</th>\n",
       "      <th>reordered</th>\n",
       "      <th>user_id</th>\n",
       "      <th>order_number</th>\n",
       "      <th>order_dow</th>\n",
       "      <th>order_hour_of_day</th>\n",
       "      <th>days_since_prior_order</th>\n",
       "      <th>aisle_id</th>\n",
       "      <th>department_id</th>\n",
       "      <th>order_id_cart</th>\n",
       "      <th>order_number_per_product</th>\n",
       "    </tr>\n",
       "  </thead>\n",
       "  <tbody>\n",
       "    <tr>\n",
       "      <th>0</th>\n",
       "      <td>12</td>\n",
       "      <td>30597</td>\n",
       "      <td>1</td>\n",
       "      <td>1</td>\n",
       "      <td>152610</td>\n",
       "      <td>22</td>\n",
       "      <td>6</td>\n",
       "      <td>8</td>\n",
       "      <td>10.0</td>\n",
       "      <td>53</td>\n",
       "      <td>16</td>\n",
       "      <td>{38050, 30597, 11175, 38888, 34335, 3164, 2339...</td>\n",
       "      <td>{2, 4, 5, 7, 22}</td>\n",
       "    </tr>\n",
       "    <tr>\n",
       "      <th>1</th>\n",
       "      <td>138033</td>\n",
       "      <td>30597</td>\n",
       "      <td>3</td>\n",
       "      <td>0</td>\n",
       "      <td>152610</td>\n",
       "      <td>2</td>\n",
       "      <td>4</td>\n",
       "      <td>13</td>\n",
       "      <td>13.0</td>\n",
       "      <td>53</td>\n",
       "      <td>16</td>\n",
       "      <td>{44162, 46979, 30597, 28553, 49683, 27796, 348...</td>\n",
       "      <td>{2, 4, 5, 7, 22}</td>\n",
       "    </tr>\n",
       "  </tbody>\n",
       "</table>\n",
       "</div>"
      ],
      "text/plain": [
       "   order_id  product_id  add_to_cart_order  reordered  user_id  order_number  \\\n",
       "0        12       30597                  1          1   152610            22   \n",
       "1    138033       30597                  3          0   152610             2   \n",
       "\n",
       "   order_dow  order_hour_of_day  days_since_prior_order  aisle_id  \\\n",
       "0          6                  8                    10.0        53   \n",
       "1          4                 13                    13.0        53   \n",
       "\n",
       "   department_id                                      order_id_cart  \\\n",
       "0             16  {38050, 30597, 11175, 38888, 34335, 3164, 2339...   \n",
       "1             16  {44162, 46979, 30597, 28553, 49683, 27796, 348...   \n",
       "\n",
       "  order_number_per_product  \n",
       "0         {2, 4, 5, 7, 22}  \n",
       "1         {2, 4, 5, 7, 22}  "
      ]
     },
     "execution_count": 40,
     "metadata": {},
     "output_type": "execute_result"
    }
   ],
   "source": [
    "# Adding order_number set for each product_id & user_id to prior_products to set up for reorder comparison features\n",
    "order_products_prior_df = order_products_prior_df.merge(order_number_per_product, on=('product_id','user_id'))\n",
    "order_products_prior_df.head(2)"
   ]
  },
  {
   "cell_type": "code",
   "execution_count": 41,
   "metadata": {
    "ExecuteTime": {
     "end_time": "2019-05-08T15:45:38.049106Z",
     "start_time": "2019-05-08T15:45:37.191458Z"
    }
   },
   "outputs": [
    {
     "data": {
      "text/html": [
       "<div>\n",
       "<style>\n",
       "    .dataframe thead tr:only-child th {\n",
       "        text-align: right;\n",
       "    }\n",
       "\n",
       "    .dataframe thead th {\n",
       "        text-align: left;\n",
       "    }\n",
       "\n",
       "    .dataframe tbody tr th {\n",
       "        vertical-align: top;\n",
       "    }\n",
       "</style>\n",
       "<table border=\"1\" class=\"dataframe\">\n",
       "  <thead>\n",
       "    <tr style=\"text-align: right;\">\n",
       "      <th></th>\n",
       "      <th>order_id</th>\n",
       "      <th>product_id</th>\n",
       "      <th>add_to_cart_order</th>\n",
       "      <th>reordered</th>\n",
       "      <th>user_id</th>\n",
       "      <th>order_number</th>\n",
       "      <th>order_dow</th>\n",
       "      <th>order_hour_of_day</th>\n",
       "      <th>days_since_prior_order</th>\n",
       "      <th>aisle_id</th>\n",
       "      <th>department_id</th>\n",
       "      <th>order_id_cart</th>\n",
       "      <th>order_number_per_product</th>\n",
       "      <th>max_order_number_per_product</th>\n",
       "    </tr>\n",
       "  </thead>\n",
       "  <tbody>\n",
       "    <tr>\n",
       "      <th>0</th>\n",
       "      <td>12</td>\n",
       "      <td>30597</td>\n",
       "      <td>1</td>\n",
       "      <td>1</td>\n",
       "      <td>152610</td>\n",
       "      <td>22</td>\n",
       "      <td>6</td>\n",
       "      <td>8</td>\n",
       "      <td>10.0</td>\n",
       "      <td>53</td>\n",
       "      <td>16</td>\n",
       "      <td>{38050, 30597, 11175, 38888, 34335, 3164, 2339...</td>\n",
       "      <td>{2, 4, 5, 7, 22}</td>\n",
       "      <td>22</td>\n",
       "    </tr>\n",
       "    <tr>\n",
       "      <th>1</th>\n",
       "      <td>138033</td>\n",
       "      <td>30597</td>\n",
       "      <td>3</td>\n",
       "      <td>0</td>\n",
       "      <td>152610</td>\n",
       "      <td>2</td>\n",
       "      <td>4</td>\n",
       "      <td>13</td>\n",
       "      <td>13.0</td>\n",
       "      <td>53</td>\n",
       "      <td>16</td>\n",
       "      <td>{44162, 46979, 30597, 28553, 49683, 27796, 348...</td>\n",
       "      <td>{2, 4, 5, 7, 22}</td>\n",
       "      <td>22</td>\n",
       "    </tr>\n",
       "  </tbody>\n",
       "</table>\n",
       "</div>"
      ],
      "text/plain": [
       "   order_id  product_id  add_to_cart_order  reordered  user_id  order_number  \\\n",
       "0        12       30597                  1          1   152610            22   \n",
       "1    138033       30597                  3          0   152610             2   \n",
       "\n",
       "   order_dow  order_hour_of_day  days_since_prior_order  aisle_id  \\\n",
       "0          6                  8                    10.0        53   \n",
       "1          4                 13                    13.0        53   \n",
       "\n",
       "   department_id                                      order_id_cart  \\\n",
       "0             16  {38050, 30597, 11175, 38888, 34335, 3164, 2339...   \n",
       "1             16  {44162, 46979, 30597, 28553, 49683, 27796, 348...   \n",
       "\n",
       "  order_number_per_product  max_order_number_per_product  \n",
       "0         {2, 4, 5, 7, 22}                            22  \n",
       "1         {2, 4, 5, 7, 22}                            22  "
      ]
     },
     "execution_count": 41,
     "metadata": {},
     "output_type": "execute_result"
    }
   ],
   "source": [
    "# Add max order column to order_products_prior_df\n",
    "# (max_order_number_per_product will also be used as a feature in X_df, as shown in User-Product Features section)\n",
    "order_products_prior_df[\"max_order_number_per_product\"] = order_products_prior_df[\"order_number_per_product\"].map(lambda x: max(x))\n",
    "order_products_prior_df.head(2)"
   ]
  },
  {
   "cell_type": "code",
   "execution_count": 42,
   "metadata": {
    "ExecuteTime": {
     "end_time": "2019-05-08T15:45:40.821068Z",
     "start_time": "2019-05-08T15:45:40.583565Z"
    }
   },
   "outputs": [
    {
     "data": {
      "text/html": [
       "<div>\n",
       "<style>\n",
       "    .dataframe thead tr:only-child th {\n",
       "        text-align: right;\n",
       "    }\n",
       "\n",
       "    .dataframe thead th {\n",
       "        text-align: left;\n",
       "    }\n",
       "\n",
       "    .dataframe tbody tr th {\n",
       "        vertical-align: top;\n",
       "    }\n",
       "</style>\n",
       "<table border=\"1\" class=\"dataframe\">\n",
       "  <thead>\n",
       "    <tr style=\"text-align: right;\">\n",
       "      <th></th>\n",
       "      <th>order_id</th>\n",
       "      <th>product_id</th>\n",
       "      <th>add_to_cart_order</th>\n",
       "      <th>reordered</th>\n",
       "      <th>user_id</th>\n",
       "      <th>order_number</th>\n",
       "      <th>order_dow</th>\n",
       "      <th>order_hour_of_day</th>\n",
       "      <th>days_since_prior_order</th>\n",
       "      <th>aisle_id</th>\n",
       "      <th>department_id</th>\n",
       "      <th>order_id_cart</th>\n",
       "      <th>order_number_per_product</th>\n",
       "      <th>max_order_number_per_product</th>\n",
       "      <th>user_total_orders</th>\n",
       "      <th>user_total_orders_minus_five</th>\n",
       "      <th>user_total_orders_minus_ten</th>\n",
       "    </tr>\n",
       "  </thead>\n",
       "  <tbody>\n",
       "    <tr>\n",
       "      <th>0</th>\n",
       "      <td>12</td>\n",
       "      <td>30597</td>\n",
       "      <td>1</td>\n",
       "      <td>1</td>\n",
       "      <td>152610</td>\n",
       "      <td>22</td>\n",
       "      <td>6</td>\n",
       "      <td>8</td>\n",
       "      <td>10.0</td>\n",
       "      <td>53</td>\n",
       "      <td>16</td>\n",
       "      <td>{38050, 30597, 11175, 38888, 34335, 3164, 2339...</td>\n",
       "      <td>{2, 4, 5, 7, 22}</td>\n",
       "      <td>22</td>\n",
       "      <td>26</td>\n",
       "      <td>21</td>\n",
       "      <td>16</td>\n",
       "    </tr>\n",
       "    <tr>\n",
       "      <th>1</th>\n",
       "      <td>138033</td>\n",
       "      <td>30597</td>\n",
       "      <td>3</td>\n",
       "      <td>0</td>\n",
       "      <td>152610</td>\n",
       "      <td>2</td>\n",
       "      <td>4</td>\n",
       "      <td>13</td>\n",
       "      <td>13.0</td>\n",
       "      <td>53</td>\n",
       "      <td>16</td>\n",
       "      <td>{44162, 46979, 30597, 28553, 49683, 27796, 348...</td>\n",
       "      <td>{2, 4, 5, 7, 22}</td>\n",
       "      <td>22</td>\n",
       "      <td>26</td>\n",
       "      <td>21</td>\n",
       "      <td>16</td>\n",
       "    </tr>\n",
       "  </tbody>\n",
       "</table>\n",
       "</div>"
      ],
      "text/plain": [
       "   order_id  product_id  add_to_cart_order  reordered  user_id  order_number  \\\n",
       "0        12       30597                  1          1   152610            22   \n",
       "1    138033       30597                  3          0   152610             2   \n",
       "\n",
       "   order_dow  order_hour_of_day  days_since_prior_order  aisle_id  \\\n",
       "0          6                  8                    10.0        53   \n",
       "1          4                 13                    13.0        53   \n",
       "\n",
       "   department_id                                      order_id_cart  \\\n",
       "0             16  {38050, 30597, 11175, 38888, 34335, 3164, 2339...   \n",
       "1             16  {44162, 46979, 30597, 28553, 49683, 27796, 348...   \n",
       "\n",
       "  order_number_per_product  max_order_number_per_product  user_total_orders  \\\n",
       "0         {2, 4, 5, 7, 22}                            22                 26   \n",
       "1         {2, 4, 5, 7, 22}                            22                 26   \n",
       "\n",
       "   user_total_orders_minus_five  user_total_orders_minus_ten  \n",
       "0                            21                           16  \n",
       "1                            21                           16  "
      ]
     },
     "execution_count": 42,
     "metadata": {},
     "output_type": "execute_result"
    }
   ],
   "source": [
    "# Creating user_total_orders_minus_five column for user_product_times_bought_in_last_five_orders feature's use\n",
    "user_total_orders = user_features_df.drop(['user_avg_cartsize','user_total_products','user_avg_days_since_prior_order'],axis=1)\n",
    "user_total_orders['user_total_orders_minus_five'] = user_total_orders['user_total_orders'] - 5\n",
    "user_total_orders['user_total_orders_minus_ten'] = user_total_orders['user_total_orders'] - 10\n",
    "order_products_prior_df = order_products_prior_df.merge(user_total_orders, on='user_id')\n",
    "order_products_prior_df.head(2)"
   ]
  },
  {
   "cell_type": "code",
   "execution_count": 43,
   "metadata": {
    "ExecuteTime": {
     "end_time": "2019-05-08T15:46:38.703320Z",
     "start_time": "2019-05-08T15:45:48.945151Z"
    }
   },
   "outputs": [
    {
     "data": {
      "text/html": [
       "<div>\n",
       "<style>\n",
       "    .dataframe thead tr:only-child th {\n",
       "        text-align: right;\n",
       "    }\n",
       "\n",
       "    .dataframe thead th {\n",
       "        text-align: left;\n",
       "    }\n",
       "\n",
       "    .dataframe tbody tr th {\n",
       "        vertical-align: top;\n",
       "    }\n",
       "</style>\n",
       "<table border=\"1\" class=\"dataframe\">\n",
       "  <thead>\n",
       "    <tr style=\"text-align: right;\">\n",
       "      <th></th>\n",
       "      <th>order_id</th>\n",
       "      <th>product_id</th>\n",
       "      <th>add_to_cart_order</th>\n",
       "      <th>reordered</th>\n",
       "      <th>user_id</th>\n",
       "      <th>order_number</th>\n",
       "      <th>order_dow</th>\n",
       "      <th>order_hour_of_day</th>\n",
       "      <th>days_since_prior_order</th>\n",
       "      <th>aisle_id</th>\n",
       "      <th>department_id</th>\n",
       "      <th>order_id_cart</th>\n",
       "      <th>order_number_per_product</th>\n",
       "      <th>max_order_number_per_product</th>\n",
       "      <th>user_total_orders</th>\n",
       "      <th>user_total_orders_minus_five</th>\n",
       "      <th>user_total_orders_minus_ten</th>\n",
       "      <th>user_product_times_bought_in_last_five_orders</th>\n",
       "      <th>user_product_times_bought_in_last_ten_orders</th>\n",
       "    </tr>\n",
       "  </thead>\n",
       "  <tbody>\n",
       "    <tr>\n",
       "      <th>0</th>\n",
       "      <td>12</td>\n",
       "      <td>30597</td>\n",
       "      <td>1</td>\n",
       "      <td>1</td>\n",
       "      <td>152610</td>\n",
       "      <td>22</td>\n",
       "      <td>6</td>\n",
       "      <td>8</td>\n",
       "      <td>10.0</td>\n",
       "      <td>53</td>\n",
       "      <td>16</td>\n",
       "      <td>{38050, 30597, 11175, 38888, 34335, 3164, 2339...</td>\n",
       "      <td>{2, 4, 5, 7, 22}</td>\n",
       "      <td>22</td>\n",
       "      <td>26</td>\n",
       "      <td>21</td>\n",
       "      <td>16</td>\n",
       "      <td>1</td>\n",
       "      <td>1</td>\n",
       "    </tr>\n",
       "    <tr>\n",
       "      <th>1</th>\n",
       "      <td>138033</td>\n",
       "      <td>30597</td>\n",
       "      <td>3</td>\n",
       "      <td>0</td>\n",
       "      <td>152610</td>\n",
       "      <td>2</td>\n",
       "      <td>4</td>\n",
       "      <td>13</td>\n",
       "      <td>13.0</td>\n",
       "      <td>53</td>\n",
       "      <td>16</td>\n",
       "      <td>{44162, 46979, 30597, 28553, 49683, 27796, 348...</td>\n",
       "      <td>{2, 4, 5, 7, 22}</td>\n",
       "      <td>22</td>\n",
       "      <td>26</td>\n",
       "      <td>21</td>\n",
       "      <td>16</td>\n",
       "      <td>1</td>\n",
       "      <td>1</td>\n",
       "    </tr>\n",
       "  </tbody>\n",
       "</table>\n",
       "</div>"
      ],
      "text/plain": [
       "   order_id  product_id  add_to_cart_order  reordered  user_id  order_number  \\\n",
       "0        12       30597                  1          1   152610            22   \n",
       "1    138033       30597                  3          0   152610             2   \n",
       "\n",
       "   order_dow  order_hour_of_day  days_since_prior_order  aisle_id  \\\n",
       "0          6                  8                    10.0        53   \n",
       "1          4                 13                    13.0        53   \n",
       "\n",
       "   department_id                                      order_id_cart  \\\n",
       "0             16  {38050, 30597, 11175, 38888, 34335, 3164, 2339...   \n",
       "1             16  {44162, 46979, 30597, 28553, 49683, 27796, 348...   \n",
       "\n",
       "  order_number_per_product  max_order_number_per_product  user_total_orders  \\\n",
       "0         {2, 4, 5, 7, 22}                            22                 26   \n",
       "1         {2, 4, 5, 7, 22}                            22                 26   \n",
       "\n",
       "   user_total_orders_minus_five  user_total_orders_minus_ten  \\\n",
       "0                            21                           16   \n",
       "1                            21                           16   \n",
       "\n",
       "   user_product_times_bought_in_last_five_orders  \\\n",
       "0                                              1   \n",
       "1                                              1   \n",
       "\n",
       "   user_product_times_bought_in_last_ten_orders  \n",
       "0                                             1  \n",
       "1                                             1  "
      ]
     },
     "execution_count": 43,
     "metadata": {},
     "output_type": "execute_result"
    }
   ],
   "source": [
    "# Add last five orders feature using function\n",
    "def last_five_orders(user_total_orders_minus_five,order_set):\n",
    "    times_bought_in_last_five_order = 0\n",
    "    for order_num in order_set:\n",
    "        if order_num >= user_total_orders_minus_five:\n",
    "            times_bought_in_last_five_order += 1\n",
    "    return times_bought_in_last_five_order\n",
    "\n",
    "# Add last ten orders feature using function\n",
    "def last_ten_orders(user_total_orders_minus_ten,order_set):\n",
    "    times_bought_in_last_ten_order = 0\n",
    "    for order_num in order_set:\n",
    "        if order_num >= user_total_orders_minus_ten:\n",
    "            times_bought_in_last_ten_order += 1\n",
    "    return times_bought_in_last_ten_order\n",
    "\n",
    "order_products_prior_df[\"user_product_times_bought_in_last_five_orders\"] = order_products_prior_df.apply(lambda row: last_five_orders(row.user_total_orders_minus_five,row.order_number_per_product),axis=1)\n",
    "order_products_prior_df[\"user_product_times_bought_in_last_ten_orders\"] = order_products_prior_df.apply(lambda row: last_ten_orders(row.user_total_orders_minus_ten,row.order_number_per_product),axis=1)\n",
    "order_products_prior_df.head(2)"
   ]
  },
  {
   "cell_type": "code",
   "execution_count": 44,
   "metadata": {
    "ExecuteTime": {
     "end_time": "2019-05-08T15:47:39.893071Z",
     "start_time": "2019-05-08T15:46:44.443572Z"
    }
   },
   "outputs": [
    {
     "data": {
      "text/html": [
       "<div>\n",
       "<style>\n",
       "    .dataframe thead tr:only-child th {\n",
       "        text-align: right;\n",
       "    }\n",
       "\n",
       "    .dataframe thead th {\n",
       "        text-align: left;\n",
       "    }\n",
       "\n",
       "    .dataframe tbody tr th {\n",
       "        vertical-align: top;\n",
       "    }\n",
       "</style>\n",
       "<table border=\"1\" class=\"dataframe\">\n",
       "  <thead>\n",
       "    <tr style=\"text-align: right;\">\n",
       "      <th></th>\n",
       "      <th>order_id</th>\n",
       "      <th>product_id</th>\n",
       "      <th>add_to_cart_order</th>\n",
       "      <th>reordered</th>\n",
       "      <th>user_id</th>\n",
       "      <th>order_number</th>\n",
       "      <th>order_dow</th>\n",
       "      <th>order_hour_of_day</th>\n",
       "      <th>days_since_prior_order</th>\n",
       "      <th>aisle_id</th>\n",
       "      <th>...</th>\n",
       "      <th>order_id_cart</th>\n",
       "      <th>order_number_per_product</th>\n",
       "      <th>max_order_number_per_product</th>\n",
       "      <th>user_total_orders</th>\n",
       "      <th>user_total_orders_minus_five</th>\n",
       "      <th>user_total_orders_minus_ten</th>\n",
       "      <th>user_product_times_bought_in_last_five_orders</th>\n",
       "      <th>user_product_times_bought_in_last_ten_orders</th>\n",
       "      <th>weighted_reorder_sum</th>\n",
       "      <th>weighted_reorder_squared_sum</th>\n",
       "    </tr>\n",
       "  </thead>\n",
       "  <tbody>\n",
       "    <tr>\n",
       "      <th>0</th>\n",
       "      <td>12</td>\n",
       "      <td>30597</td>\n",
       "      <td>1</td>\n",
       "      <td>1</td>\n",
       "      <td>152610</td>\n",
       "      <td>22</td>\n",
       "      <td>6</td>\n",
       "      <td>8</td>\n",
       "      <td>10.0</td>\n",
       "      <td>53</td>\n",
       "      <td>...</td>\n",
       "      <td>{38050, 30597, 11175, 38888, 34335, 3164, 2339...</td>\n",
       "      <td>{2, 4, 5, 7, 22}</td>\n",
       "      <td>22</td>\n",
       "      <td>26</td>\n",
       "      <td>21</td>\n",
       "      <td>16</td>\n",
       "      <td>1</td>\n",
       "      <td>1</td>\n",
       "      <td>1.538462</td>\n",
       "      <td>0.85503</td>\n",
       "    </tr>\n",
       "    <tr>\n",
       "      <th>1</th>\n",
       "      <td>138033</td>\n",
       "      <td>30597</td>\n",
       "      <td>3</td>\n",
       "      <td>0</td>\n",
       "      <td>152610</td>\n",
       "      <td>2</td>\n",
       "      <td>4</td>\n",
       "      <td>13</td>\n",
       "      <td>13.0</td>\n",
       "      <td>53</td>\n",
       "      <td>...</td>\n",
       "      <td>{44162, 46979, 30597, 28553, 49683, 27796, 348...</td>\n",
       "      <td>{2, 4, 5, 7, 22}</td>\n",
       "      <td>22</td>\n",
       "      <td>26</td>\n",
       "      <td>21</td>\n",
       "      <td>16</td>\n",
       "      <td>1</td>\n",
       "      <td>1</td>\n",
       "      <td>1.538462</td>\n",
       "      <td>0.85503</td>\n",
       "    </tr>\n",
       "  </tbody>\n",
       "</table>\n",
       "<p>2 rows × 21 columns</p>\n",
       "</div>"
      ],
      "text/plain": [
       "   order_id  product_id  add_to_cart_order  reordered  user_id  order_number  \\\n",
       "0        12       30597                  1          1   152610            22   \n",
       "1    138033       30597                  3          0   152610             2   \n",
       "\n",
       "   order_dow  order_hour_of_day  days_since_prior_order  aisle_id  \\\n",
       "0          6                  8                    10.0        53   \n",
       "1          4                 13                    13.0        53   \n",
       "\n",
       "               ...               \\\n",
       "0              ...                \n",
       "1              ...                \n",
       "\n",
       "                                       order_id_cart order_number_per_product  \\\n",
       "0  {38050, 30597, 11175, 38888, 34335, 3164, 2339...         {2, 4, 5, 7, 22}   \n",
       "1  {44162, 46979, 30597, 28553, 49683, 27796, 348...         {2, 4, 5, 7, 22}   \n",
       "\n",
       "  max_order_number_per_product  user_total_orders  \\\n",
       "0                           22                 26   \n",
       "1                           22                 26   \n",
       "\n",
       "   user_total_orders_minus_five  user_total_orders_minus_ten  \\\n",
       "0                            21                           16   \n",
       "1                            21                           16   \n",
       "\n",
       "   user_product_times_bought_in_last_five_orders  \\\n",
       "0                                              1   \n",
       "1                                              1   \n",
       "\n",
       "   user_product_times_bought_in_last_ten_orders  weighted_reorder_sum  \\\n",
       "0                                             1              1.538462   \n",
       "1                                             1              1.538462   \n",
       "\n",
       "   weighted_reorder_squared_sum  \n",
       "0                       0.85503  \n",
       "1                       0.85503  \n",
       "\n",
       "[2 rows x 21 columns]"
      ]
     },
     "execution_count": 44,
     "metadata": {},
     "output_type": "execute_result"
    }
   ],
   "source": [
    "# Weighted reorder feature (Sum(order_number/user_total_orders))\n",
    "def weighted_reorder_sum(order_set,user_total_orders):\n",
    "    weighted_reorder_sum = 0\n",
    "    for order_num in order_set:\n",
    "        x = order_num / user_total_orders\n",
    "        weighted_reorder_sum += x\n",
    "    return weighted_reorder_sum\n",
    "\n",
    "# Weighted reorder feature (Sum(squared(order_number/user_total_orders)))\n",
    "def weighted_reorder_squared_sum(order_set,user_total_orders):\n",
    "    weighted_reorder_squared_sum = 0\n",
    "    for order_num in order_set:\n",
    "        x = (order_num / user_total_orders)**2\n",
    "        weighted_reorder_squared_sum += x\n",
    "    return weighted_reorder_squared_sum\n",
    "\n",
    "order_products_prior_df[\"weighted_reorder_sum\"] = order_products_prior_df.apply(lambda row: weighted_reorder_sum(row.order_number_per_product,row.user_total_orders),axis=1)\n",
    "order_products_prior_df[\"weighted_reorder_squared_sum\"] = order_products_prior_df.apply(lambda row: weighted_reorder_squared_sum(row.order_number_per_product,row.user_total_orders),axis=1)\n",
    "order_products_prior_df.head(2)"
   ]
  },
  {
   "cell_type": "code",
   "execution_count": 45,
   "metadata": {
    "ExecuteTime": {
     "end_time": "2019-05-08T15:48:58.912900Z",
     "start_time": "2019-05-08T15:48:13.898363Z"
    }
   },
   "outputs": [
    {
     "data": {
      "text/html": [
       "<div>\n",
       "<style>\n",
       "    .dataframe thead tr:only-child th {\n",
       "        text-align: right;\n",
       "    }\n",
       "\n",
       "    .dataframe thead th {\n",
       "        text-align: left;\n",
       "    }\n",
       "\n",
       "    .dataframe tbody tr th {\n",
       "        vertical-align: top;\n",
       "    }\n",
       "</style>\n",
       "<table border=\"1\" class=\"dataframe\">\n",
       "  <thead>\n",
       "    <tr style=\"text-align: right;\">\n",
       "      <th></th>\n",
       "      <th>order_id</th>\n",
       "      <th>product_id</th>\n",
       "      <th>add_to_cart_order</th>\n",
       "      <th>reordered</th>\n",
       "      <th>user_id</th>\n",
       "      <th>order_number</th>\n",
       "      <th>order_dow</th>\n",
       "      <th>order_hour_of_day</th>\n",
       "      <th>days_since_prior_order</th>\n",
       "      <th>aisle_id</th>\n",
       "      <th>...</th>\n",
       "      <th>max_order_number_per_product</th>\n",
       "      <th>user_total_orders</th>\n",
       "      <th>user_total_orders_minus_five</th>\n",
       "      <th>user_total_orders_minus_ten</th>\n",
       "      <th>user_product_times_bought_in_last_five_orders</th>\n",
       "      <th>user_product_times_bought_in_last_ten_orders</th>\n",
       "      <th>weighted_reorder_sum</th>\n",
       "      <th>weighted_reorder_squared_sum</th>\n",
       "      <th>consecutive_reorder_count</th>\n",
       "      <th>consecutive_reorder_percent</th>\n",
       "    </tr>\n",
       "  </thead>\n",
       "  <tbody>\n",
       "    <tr>\n",
       "      <th>0</th>\n",
       "      <td>12</td>\n",
       "      <td>30597</td>\n",
       "      <td>1</td>\n",
       "      <td>1</td>\n",
       "      <td>152610</td>\n",
       "      <td>22</td>\n",
       "      <td>6</td>\n",
       "      <td>8</td>\n",
       "      <td>10.0</td>\n",
       "      <td>53</td>\n",
       "      <td>...</td>\n",
       "      <td>22</td>\n",
       "      <td>26</td>\n",
       "      <td>21</td>\n",
       "      <td>16</td>\n",
       "      <td>1</td>\n",
       "      <td>1</td>\n",
       "      <td>1.538462</td>\n",
       "      <td>0.85503</td>\n",
       "      <td>1</td>\n",
       "      <td>0.2</td>\n",
       "    </tr>\n",
       "    <tr>\n",
       "      <th>1</th>\n",
       "      <td>138033</td>\n",
       "      <td>30597</td>\n",
       "      <td>3</td>\n",
       "      <td>0</td>\n",
       "      <td>152610</td>\n",
       "      <td>2</td>\n",
       "      <td>4</td>\n",
       "      <td>13</td>\n",
       "      <td>13.0</td>\n",
       "      <td>53</td>\n",
       "      <td>...</td>\n",
       "      <td>22</td>\n",
       "      <td>26</td>\n",
       "      <td>21</td>\n",
       "      <td>16</td>\n",
       "      <td>1</td>\n",
       "      <td>1</td>\n",
       "      <td>1.538462</td>\n",
       "      <td>0.85503</td>\n",
       "      <td>1</td>\n",
       "      <td>0.2</td>\n",
       "    </tr>\n",
       "  </tbody>\n",
       "</table>\n",
       "<p>2 rows × 23 columns</p>\n",
       "</div>"
      ],
      "text/plain": [
       "   order_id  product_id  add_to_cart_order  reordered  user_id  order_number  \\\n",
       "0        12       30597                  1          1   152610            22   \n",
       "1    138033       30597                  3          0   152610             2   \n",
       "\n",
       "   order_dow  order_hour_of_day  days_since_prior_order  aisle_id  \\\n",
       "0          6                  8                    10.0        53   \n",
       "1          4                 13                    13.0        53   \n",
       "\n",
       "              ...               max_order_number_per_product  \\\n",
       "0             ...                                         22   \n",
       "1             ...                                         22   \n",
       "\n",
       "  user_total_orders user_total_orders_minus_five  user_total_orders_minus_ten  \\\n",
       "0                26                           21                           16   \n",
       "1                26                           21                           16   \n",
       "\n",
       "   user_product_times_bought_in_last_five_orders  \\\n",
       "0                                              1   \n",
       "1                                              1   \n",
       "\n",
       "   user_product_times_bought_in_last_ten_orders  weighted_reorder_sum  \\\n",
       "0                                             1              1.538462   \n",
       "1                                             1              1.538462   \n",
       "\n",
       "   weighted_reorder_squared_sum  consecutive_reorder_count  \\\n",
       "0                       0.85503                          1   \n",
       "1                       0.85503                          1   \n",
       "\n",
       "   consecutive_reorder_percent  \n",
       "0                          0.2  \n",
       "1                          0.2  \n",
       "\n",
       "[2 rows x 23 columns]"
      ]
     },
     "execution_count": 45,
     "metadata": {},
     "output_type": "execute_result"
    }
   ],
   "source": [
    "# Consecutive reorders count feature\n",
    "def consecutive_reorder_count(order_set):\n",
    "    consecutive_reorder_count = 0\n",
    "    order_set = sorted(order_set)\n",
    "    order_set = list(order_set)\n",
    "    if len(order_set) != 1:\n",
    "        for idx,order_num in enumerate(order_set[:-1]):\n",
    "            x1 = order_num\n",
    "            x2 = order_set[idx+1]\n",
    "            if x1+1 == x2:\n",
    "                consecutive_reorder_count += 1\n",
    "        return consecutive_reorder_count\n",
    "    else:\n",
    "        return 0\n",
    "    \n",
    "# Consecutive reorders as a percent of total orders feature\n",
    "def consecutive_reorder_percent(order_set):\n",
    "    consecutive_reorder_count = 0\n",
    "    order_set = sorted(order_set)\n",
    "    order_set = list(order_set)\n",
    "    if len(order_set) != 1:\n",
    "        for idx,order_num in enumerate(order_set[:-1]):\n",
    "            x1 = order_num\n",
    "            x2 = order_set[idx+1]\n",
    "            if x1+1 == x2:\n",
    "                consecutive_reorder_count += 1\n",
    "        return consecutive_reorder_count / len(order_set)\n",
    "    else:\n",
    "        return 0\n",
    "\n",
    "order_products_prior_df[\"consecutive_reorder_count\"] = order_products_prior_df.apply(lambda row: consecutive_reorder_count(row.order_number_per_product),axis=1)\n",
    "order_products_prior_df[\"consecutive_reorder_percent\"] = order_products_prior_df.apply(lambda row: consecutive_reorder_percent(row.order_number_per_product),axis=1)\n",
    "order_products_prior_df.head(2)"
   ]
  },
  {
   "cell_type": "code",
   "execution_count": 46,
   "metadata": {
    "ExecuteTime": {
     "end_time": "2019-05-08T15:53:32.827509Z",
     "start_time": "2019-05-08T15:53:31.455147Z"
    }
   },
   "outputs": [
    {
     "data": {
      "text/html": [
       "<div>\n",
       "<style>\n",
       "    .dataframe thead tr:only-child th {\n",
       "        text-align: right;\n",
       "    }\n",
       "\n",
       "    .dataframe thead th {\n",
       "        text-align: left;\n",
       "    }\n",
       "\n",
       "    .dataframe tbody tr th {\n",
       "        vertical-align: top;\n",
       "    }\n",
       "</style>\n",
       "<table border=\"1\" class=\"dataframe\">\n",
       "  <thead>\n",
       "    <tr style=\"text-align: right;\">\n",
       "      <th></th>\n",
       "      <th>order_id</th>\n",
       "      <th>product_id</th>\n",
       "      <th>add_to_cart_order</th>\n",
       "      <th>reordered</th>\n",
       "      <th>user_id</th>\n",
       "      <th>order_number</th>\n",
       "      <th>order_dow</th>\n",
       "      <th>order_hour_of_day</th>\n",
       "      <th>days_since_prior_order</th>\n",
       "      <th>aisle_id</th>\n",
       "      <th>...</th>\n",
       "      <th>user_total_orders</th>\n",
       "      <th>user_total_orders_minus_five</th>\n",
       "      <th>user_total_orders_minus_ten</th>\n",
       "      <th>user_product_times_bought_in_last_five_orders</th>\n",
       "      <th>user_product_times_bought_in_last_ten_orders</th>\n",
       "      <th>weighted_reorder_sum</th>\n",
       "      <th>weighted_reorder_squared_sum</th>\n",
       "      <th>consecutive_reorder_count</th>\n",
       "      <th>consecutive_reorder_percent</th>\n",
       "      <th>days_since_prior_order_tuple</th>\n",
       "    </tr>\n",
       "  </thead>\n",
       "  <tbody>\n",
       "    <tr>\n",
       "      <th>0</th>\n",
       "      <td>12</td>\n",
       "      <td>30597</td>\n",
       "      <td>1</td>\n",
       "      <td>1</td>\n",
       "      <td>152610</td>\n",
       "      <td>22</td>\n",
       "      <td>6</td>\n",
       "      <td>8</td>\n",
       "      <td>10.0</td>\n",
       "      <td>53</td>\n",
       "      <td>...</td>\n",
       "      <td>26</td>\n",
       "      <td>21</td>\n",
       "      <td>16</td>\n",
       "      <td>1</td>\n",
       "      <td>1</td>\n",
       "      <td>1.538462</td>\n",
       "      <td>0.85503</td>\n",
       "      <td>1</td>\n",
       "      <td>0.2</td>\n",
       "      <td>(nan, 13.0, 30.0, 8.0, 16.0, 4.0, 19.0, 10.0, ...</td>\n",
       "    </tr>\n",
       "    <tr>\n",
       "      <th>1</th>\n",
       "      <td>138033</td>\n",
       "      <td>30597</td>\n",
       "      <td>3</td>\n",
       "      <td>0</td>\n",
       "      <td>152610</td>\n",
       "      <td>2</td>\n",
       "      <td>4</td>\n",
       "      <td>13</td>\n",
       "      <td>13.0</td>\n",
       "      <td>53</td>\n",
       "      <td>...</td>\n",
       "      <td>26</td>\n",
       "      <td>21</td>\n",
       "      <td>16</td>\n",
       "      <td>1</td>\n",
       "      <td>1</td>\n",
       "      <td>1.538462</td>\n",
       "      <td>0.85503</td>\n",
       "      <td>1</td>\n",
       "      <td>0.2</td>\n",
       "      <td>(nan, 13.0, 30.0, 8.0, 16.0, 4.0, 19.0, 10.0, ...</td>\n",
       "    </tr>\n",
       "  </tbody>\n",
       "</table>\n",
       "<p>2 rows × 24 columns</p>\n",
       "</div>"
      ],
      "text/plain": [
       "   order_id  product_id  add_to_cart_order  reordered  user_id  order_number  \\\n",
       "0        12       30597                  1          1   152610            22   \n",
       "1    138033       30597                  3          0   152610             2   \n",
       "\n",
       "   order_dow  order_hour_of_day  days_since_prior_order  aisle_id  \\\n",
       "0          6                  8                    10.0        53   \n",
       "1          4                 13                    13.0        53   \n",
       "\n",
       "                         ...                          user_total_orders  \\\n",
       "0                        ...                                         26   \n",
       "1                        ...                                         26   \n",
       "\n",
       "  user_total_orders_minus_five user_total_orders_minus_ten  \\\n",
       "0                           21                          16   \n",
       "1                           21                          16   \n",
       "\n",
       "   user_product_times_bought_in_last_five_orders  \\\n",
       "0                                              1   \n",
       "1                                              1   \n",
       "\n",
       "   user_product_times_bought_in_last_ten_orders  weighted_reorder_sum  \\\n",
       "0                                             1              1.538462   \n",
       "1                                             1              1.538462   \n",
       "\n",
       "   weighted_reorder_squared_sum  consecutive_reorder_count  \\\n",
       "0                       0.85503                          1   \n",
       "1                       0.85503                          1   \n",
       "\n",
       "   consecutive_reorder_percent  \\\n",
       "0                          0.2   \n",
       "1                          0.2   \n",
       "\n",
       "                        days_since_prior_order_tuple  \n",
       "0  (nan, 13.0, 30.0, 8.0, 16.0, 4.0, 19.0, 10.0, ...  \n",
       "1  (nan, 13.0, 30.0, 8.0, 16.0, 4.0, 19.0, 10.0, ...  \n",
       "\n",
       "[2 rows x 24 columns]"
      ]
     },
     "execution_count": 46,
     "metadata": {},
     "output_type": "execute_result"
    }
   ],
   "source": [
    "# Creating tuple for each user_id which stores sorted days_since_prior_order values\n",
    "user_order_df = order_products_prior_df.sort_values(['user_id','order_number'])\n",
    "\n",
    "user_order_df = (user_order_df.groupby(['user_id','order_number'],as_index=False) \n",
    "                              .agg({'days_since_prior_order':'max'}))\n",
    "\n",
    "user_days_since_prior_order = (user_order_df.groupby(['user_id'],as_index=False) \n",
    "                                            .agg({'days_since_prior_order':(lambda x: tuple(x))})\n",
    "                                            .rename(columns={'days_since_prior_order':'days_since_prior_order_tuple'}))\n",
    "\n",
    "order_products_prior_df = order_products_prior_df.merge(user_days_since_prior_order, on='user_id')\n",
    "order_products_prior_df.head(2)"
   ]
  },
  {
   "cell_type": "code",
   "execution_count": 48,
   "metadata": {
    "ExecuteTime": {
     "end_time": "2019-05-08T15:57:24.983978Z",
     "start_time": "2019-05-08T15:55:19.669854Z"
    }
   },
   "outputs": [
    {
     "data": {
      "text/html": [
       "<div>\n",
       "<style>\n",
       "    .dataframe thead tr:only-child th {\n",
       "        text-align: right;\n",
       "    }\n",
       "\n",
       "    .dataframe thead th {\n",
       "        text-align: left;\n",
       "    }\n",
       "\n",
       "    .dataframe tbody tr th {\n",
       "        vertical-align: top;\n",
       "    }\n",
       "</style>\n",
       "<table border=\"1\" class=\"dataframe\">\n",
       "  <thead>\n",
       "    <tr style=\"text-align: right;\">\n",
       "      <th></th>\n",
       "      <th>order_id</th>\n",
       "      <th>product_id</th>\n",
       "      <th>add_to_cart_order</th>\n",
       "      <th>reordered</th>\n",
       "      <th>user_id</th>\n",
       "      <th>order_number</th>\n",
       "      <th>order_dow</th>\n",
       "      <th>order_hour_of_day</th>\n",
       "      <th>days_since_prior_order</th>\n",
       "      <th>aisle_id</th>\n",
       "      <th>...</th>\n",
       "      <th>user_total_orders_minus_ten</th>\n",
       "      <th>user_product_times_bought_in_last_five_orders</th>\n",
       "      <th>user_product_times_bought_in_last_ten_orders</th>\n",
       "      <th>weighted_reorder_sum</th>\n",
       "      <th>weighted_reorder_squared_sum</th>\n",
       "      <th>consecutive_reorder_count</th>\n",
       "      <th>consecutive_reorder_percent</th>\n",
       "      <th>days_since_prior_order_tuple</th>\n",
       "      <th>days_since_last_order</th>\n",
       "      <th>max_days_between_orders</th>\n",
       "    </tr>\n",
       "  </thead>\n",
       "  <tbody>\n",
       "    <tr>\n",
       "      <th>0</th>\n",
       "      <td>12</td>\n",
       "      <td>30597</td>\n",
       "      <td>1</td>\n",
       "      <td>1</td>\n",
       "      <td>152610</td>\n",
       "      <td>22</td>\n",
       "      <td>6</td>\n",
       "      <td>8</td>\n",
       "      <td>10.0</td>\n",
       "      <td>53</td>\n",
       "      <td>...</td>\n",
       "      <td>16</td>\n",
       "      <td>1</td>\n",
       "      <td>1</td>\n",
       "      <td>1.538462</td>\n",
       "      <td>0.85503</td>\n",
       "      <td>1</td>\n",
       "      <td>0.2</td>\n",
       "      <td>(nan, 13.0, 30.0, 8.0, 16.0, 4.0, 19.0, 10.0, ...</td>\n",
       "      <td>40.0</td>\n",
       "      <td>166.0</td>\n",
       "    </tr>\n",
       "    <tr>\n",
       "      <th>1</th>\n",
       "      <td>138033</td>\n",
       "      <td>30597</td>\n",
       "      <td>3</td>\n",
       "      <td>0</td>\n",
       "      <td>152610</td>\n",
       "      <td>2</td>\n",
       "      <td>4</td>\n",
       "      <td>13</td>\n",
       "      <td>13.0</td>\n",
       "      <td>53</td>\n",
       "      <td>...</td>\n",
       "      <td>16</td>\n",
       "      <td>1</td>\n",
       "      <td>1</td>\n",
       "      <td>1.538462</td>\n",
       "      <td>0.85503</td>\n",
       "      <td>1</td>\n",
       "      <td>0.2</td>\n",
       "      <td>(nan, 13.0, 30.0, 8.0, 16.0, 4.0, 19.0, 10.0, ...</td>\n",
       "      <td>40.0</td>\n",
       "      <td>166.0</td>\n",
       "    </tr>\n",
       "  </tbody>\n",
       "</table>\n",
       "<p>2 rows × 26 columns</p>\n",
       "</div>"
      ],
      "text/plain": [
       "   order_id  product_id  add_to_cart_order  reordered  user_id  order_number  \\\n",
       "0        12       30597                  1          1   152610            22   \n",
       "1    138033       30597                  3          0   152610             2   \n",
       "\n",
       "   order_dow  order_hour_of_day  days_since_prior_order  aisle_id  \\\n",
       "0          6                  8                    10.0        53   \n",
       "1          4                 13                    13.0        53   \n",
       "\n",
       "            ...             user_total_orders_minus_ten  \\\n",
       "0           ...                                      16   \n",
       "1           ...                                      16   \n",
       "\n",
       "  user_product_times_bought_in_last_five_orders  \\\n",
       "0                                             1   \n",
       "1                                             1   \n",
       "\n",
       "  user_product_times_bought_in_last_ten_orders  weighted_reorder_sum  \\\n",
       "0                                            1              1.538462   \n",
       "1                                            1              1.538462   \n",
       "\n",
       "   weighted_reorder_squared_sum  consecutive_reorder_count  \\\n",
       "0                       0.85503                          1   \n",
       "1                       0.85503                          1   \n",
       "\n",
       "   consecutive_reorder_percent  \\\n",
       "0                          0.2   \n",
       "1                          0.2   \n",
       "\n",
       "                        days_since_prior_order_tuple  days_since_last_order  \\\n",
       "0  (nan, 13.0, 30.0, 8.0, 16.0, 4.0, 19.0, 10.0, ...                   40.0   \n",
       "1  (nan, 13.0, 30.0, 8.0, 16.0, 4.0, 19.0, 10.0, ...                   40.0   \n",
       "\n",
       "   max_days_between_orders  \n",
       "0                    166.0  \n",
       "1                    166.0  \n",
       "\n",
       "[2 rows x 26 columns]"
      ]
     },
     "execution_count": 48,
     "metadata": {},
     "output_type": "execute_result"
    }
   ],
   "source": [
    "# Days since last order feature\n",
    "def days_since_last_order(max_order_number_per_product,days_since_prior_order_tuple):\n",
    "    days_since_prior_order_tuple = np.nan_to_num(days_since_prior_order_tuple)\n",
    "    return sum(days_since_prior_order_tuple[max_order_number_per_product-1:])\n",
    "\n",
    "# Max days between orders feature\n",
    "def max_days_between_orders(order_number_per_product,days_since_prior_order_tuple,max_order_number_per_product):\n",
    "    days_since_prior_order_tuple = np.nan_to_num(days_since_prior_order_tuple)\n",
    "    order_number_per_product = list(order_number_per_product)\n",
    "    if len(order_number_per_product) != 1:\n",
    "        list_of_sums = []\n",
    "        for idx,order_num in enumerate(order_number_per_product[:-1]):\n",
    "            start_pos = order_num - 1\n",
    "            length = order_number_per_product[idx+1] - order_num\n",
    "            list_of_sums.append(sum(days_since_prior_order_tuple[start_pos:start_pos+length]))\n",
    "        return max(list_of_sums)     \n",
    "    else:\n",
    "        return sum(days_since_prior_order_tuple[max_order_number_per_product-1:])\n",
    "    \n",
    "order_products_prior_df['days_since_last_order'] = order_products_prior_df.apply(lambda row: days_since_last_order(row.max_order_number_per_product,row.days_since_prior_order_tuple),axis=1)\n",
    "order_products_prior_df['max_days_between_orders'] = order_products_prior_df.apply(lambda row: max_days_between_orders(row.order_number_per_product,row.days_since_prior_order_tuple,row.max_order_number_per_product),axis=1)\n",
    "order_products_prior_df.head(2)\n",
    "\n",
    "# DEBUG + Subtract the two features to create a third"
   ]
  },
  {
   "cell_type": "markdown",
   "metadata": {},
   "source": [
    "#### User-Product Features"
   ]
  },
  {
   "cell_type": "code",
   "execution_count": 49,
   "metadata": {
    "ExecuteTime": {
     "end_time": "2019-05-08T15:58:41.074047Z",
     "start_time": "2019-05-08T15:58:40.275980Z"
    }
   },
   "outputs": [
    {
     "data": {
      "text/html": [
       "<div>\n",
       "<style>\n",
       "    .dataframe thead tr:only-child th {\n",
       "        text-align: right;\n",
       "    }\n",
       "\n",
       "    .dataframe thead th {\n",
       "        text-align: left;\n",
       "    }\n",
       "\n",
       "    .dataframe tbody tr th {\n",
       "        vertical-align: top;\n",
       "    }\n",
       "</style>\n",
       "<table border=\"1\" class=\"dataframe\">\n",
       "  <thead>\n",
       "    <tr style=\"text-align: right;\">\n",
       "      <th></th>\n",
       "      <th>product_id</th>\n",
       "      <th>user_id</th>\n",
       "      <th>user_product_avg_add_to_cart_order</th>\n",
       "      <th>user_product_total_orders</th>\n",
       "      <th>user_product_avg_order_dow</th>\n",
       "      <th>user_product_avg_order_hour_of_day</th>\n",
       "      <th>max_order_number_per_product</th>\n",
       "      <th>user_product_times_bought_in_last_five_orders</th>\n",
       "      <th>user_product_times_bought_in_last_ten_orders</th>\n",
       "      <th>weighted_reorder_sum</th>\n",
       "      <th>weighted_reorder_squared_sum</th>\n",
       "      <th>consecutive_reorder_count</th>\n",
       "      <th>consecutive_reorder_percent</th>\n",
       "      <th>days_since_last_order</th>\n",
       "      <th>max_days_between_orders</th>\n",
       "    </tr>\n",
       "  </thead>\n",
       "  <tbody>\n",
       "    <tr>\n",
       "      <th>0</th>\n",
       "      <td>1</td>\n",
       "      <td>21285</td>\n",
       "      <td>3.0</td>\n",
       "      <td>1</td>\n",
       "      <td>0.0</td>\n",
       "      <td>15.0</td>\n",
       "      <td>2</td>\n",
       "      <td>0</td>\n",
       "      <td>0</td>\n",
       "      <td>0.041667</td>\n",
       "      <td>0.001736</td>\n",
       "      <td>0</td>\n",
       "      <td>0.000</td>\n",
       "      <td>356.0</td>\n",
       "      <td>356.0</td>\n",
       "    </tr>\n",
       "    <tr>\n",
       "      <th>1</th>\n",
       "      <td>1</td>\n",
       "      <td>47549</td>\n",
       "      <td>4.0</td>\n",
       "      <td>4</td>\n",
       "      <td>4.0</td>\n",
       "      <td>18.0</td>\n",
       "      <td>21</td>\n",
       "      <td>1</td>\n",
       "      <td>2</td>\n",
       "      <td>2.192308</td>\n",
       "      <td>1.353550</td>\n",
       "      <td>0</td>\n",
       "      <td>0.000</td>\n",
       "      <td>110.0</td>\n",
       "      <td>100.0</td>\n",
       "    </tr>\n",
       "    <tr>\n",
       "      <th>2</th>\n",
       "      <td>1</td>\n",
       "      <td>54136</td>\n",
       "      <td>3.0</td>\n",
       "      <td>1</td>\n",
       "      <td>2.0</td>\n",
       "      <td>13.0</td>\n",
       "      <td>18</td>\n",
       "      <td>1</td>\n",
       "      <td>1</td>\n",
       "      <td>0.782609</td>\n",
       "      <td>0.612476</td>\n",
       "      <td>0</td>\n",
       "      <td>0.000</td>\n",
       "      <td>97.0</td>\n",
       "      <td>97.0</td>\n",
       "    </tr>\n",
       "    <tr>\n",
       "      <th>3</th>\n",
       "      <td>1</td>\n",
       "      <td>54240</td>\n",
       "      <td>2.0</td>\n",
       "      <td>1</td>\n",
       "      <td>2.0</td>\n",
       "      <td>16.0</td>\n",
       "      <td>1</td>\n",
       "      <td>1</td>\n",
       "      <td>1</td>\n",
       "      <td>0.200000</td>\n",
       "      <td>0.040000</td>\n",
       "      <td>0</td>\n",
       "      <td>0.000</td>\n",
       "      <td>120.0</td>\n",
       "      <td>120.0</td>\n",
       "    </tr>\n",
       "    <tr>\n",
       "      <th>4</th>\n",
       "      <td>1</td>\n",
       "      <td>95730</td>\n",
       "      <td>1.0</td>\n",
       "      <td>1</td>\n",
       "      <td>1.0</td>\n",
       "      <td>14.0</td>\n",
       "      <td>7</td>\n",
       "      <td>1</td>\n",
       "      <td>1</td>\n",
       "      <td>0.777778</td>\n",
       "      <td>0.604938</td>\n",
       "      <td>0</td>\n",
       "      <td>0.000</td>\n",
       "      <td>74.0</td>\n",
       "      <td>74.0</td>\n",
       "    </tr>\n",
       "    <tr>\n",
       "      <th>5</th>\n",
       "      <td>1</td>\n",
       "      <td>96682</td>\n",
       "      <td>4.0</td>\n",
       "      <td>8</td>\n",
       "      <td>3.0</td>\n",
       "      <td>12.0</td>\n",
       "      <td>23</td>\n",
       "      <td>1</td>\n",
       "      <td>1</td>\n",
       "      <td>2.888889</td>\n",
       "      <td>1.448560</td>\n",
       "      <td>3</td>\n",
       "      <td>0.375</td>\n",
       "      <td>64.0</td>\n",
       "      <td>148.0</td>\n",
       "    </tr>\n",
       "    <tr>\n",
       "      <th>6</th>\n",
       "      <td>1</td>\n",
       "      <td>109784</td>\n",
       "      <td>8.0</td>\n",
       "      <td>1</td>\n",
       "      <td>3.0</td>\n",
       "      <td>7.0</td>\n",
       "      <td>5</td>\n",
       "      <td>1</td>\n",
       "      <td>1</td>\n",
       "      <td>1.000000</td>\n",
       "      <td>1.000000</td>\n",
       "      <td>0</td>\n",
       "      <td>0.000</td>\n",
       "      <td>30.0</td>\n",
       "      <td>30.0</td>\n",
       "    </tr>\n",
       "    <tr>\n",
       "      <th>7</th>\n",
       "      <td>1</td>\n",
       "      <td>110040</td>\n",
       "      <td>2.5</td>\n",
       "      <td>2</td>\n",
       "      <td>1.0</td>\n",
       "      <td>16.0</td>\n",
       "      <td>28</td>\n",
       "      <td>0</td>\n",
       "      <td>0</td>\n",
       "      <td>0.414634</td>\n",
       "      <td>0.121951</td>\n",
       "      <td>0</td>\n",
       "      <td>0.000</td>\n",
       "      <td>259.0</td>\n",
       "      <td>0.0</td>\n",
       "    </tr>\n",
       "    <tr>\n",
       "      <th>8</th>\n",
       "      <td>1</td>\n",
       "      <td>118812</td>\n",
       "      <td>11.0</td>\n",
       "      <td>1</td>\n",
       "      <td>3.0</td>\n",
       "      <td>19.0</td>\n",
       "      <td>11</td>\n",
       "      <td>0</td>\n",
       "      <td>1</td>\n",
       "      <td>0.647059</td>\n",
       "      <td>0.418685</td>\n",
       "      <td>0</td>\n",
       "      <td>0.000</td>\n",
       "      <td>145.0</td>\n",
       "      <td>145.0</td>\n",
       "    </tr>\n",
       "    <tr>\n",
       "      <th>9</th>\n",
       "      <td>1</td>\n",
       "      <td>126451</td>\n",
       "      <td>3.5</td>\n",
       "      <td>2</td>\n",
       "      <td>4.0</td>\n",
       "      <td>8.0</td>\n",
       "      <td>7</td>\n",
       "      <td>2</td>\n",
       "      <td>2</td>\n",
       "      <td>1.857143</td>\n",
       "      <td>1.734694</td>\n",
       "      <td>1</td>\n",
       "      <td>0.500</td>\n",
       "      <td>22.0</td>\n",
       "      <td>30.0</td>\n",
       "    </tr>\n",
       "  </tbody>\n",
       "</table>\n",
       "</div>"
      ],
      "text/plain": [
       "   product_id  user_id  user_product_avg_add_to_cart_order  \\\n",
       "0           1    21285                                 3.0   \n",
       "1           1    47549                                 4.0   \n",
       "2           1    54136                                 3.0   \n",
       "3           1    54240                                 2.0   \n",
       "4           1    95730                                 1.0   \n",
       "5           1    96682                                 4.0   \n",
       "6           1   109784                                 8.0   \n",
       "7           1   110040                                 2.5   \n",
       "8           1   118812                                11.0   \n",
       "9           1   126451                                 3.5   \n",
       "\n",
       "   user_product_total_orders  user_product_avg_order_dow  \\\n",
       "0                          1                         0.0   \n",
       "1                          4                         4.0   \n",
       "2                          1                         2.0   \n",
       "3                          1                         2.0   \n",
       "4                          1                         1.0   \n",
       "5                          8                         3.0   \n",
       "6                          1                         3.0   \n",
       "7                          2                         1.0   \n",
       "8                          1                         3.0   \n",
       "9                          2                         4.0   \n",
       "\n",
       "   user_product_avg_order_hour_of_day  max_order_number_per_product  \\\n",
       "0                                15.0                             2   \n",
       "1                                18.0                            21   \n",
       "2                                13.0                            18   \n",
       "3                                16.0                             1   \n",
       "4                                14.0                             7   \n",
       "5                                12.0                            23   \n",
       "6                                 7.0                             5   \n",
       "7                                16.0                            28   \n",
       "8                                19.0                            11   \n",
       "9                                 8.0                             7   \n",
       "\n",
       "   user_product_times_bought_in_last_five_orders  \\\n",
       "0                                              0   \n",
       "1                                              1   \n",
       "2                                              1   \n",
       "3                                              1   \n",
       "4                                              1   \n",
       "5                                              1   \n",
       "6                                              1   \n",
       "7                                              0   \n",
       "8                                              0   \n",
       "9                                              2   \n",
       "\n",
       "   user_product_times_bought_in_last_ten_orders  weighted_reorder_sum  \\\n",
       "0                                             0              0.041667   \n",
       "1                                             2              2.192308   \n",
       "2                                             1              0.782609   \n",
       "3                                             1              0.200000   \n",
       "4                                             1              0.777778   \n",
       "5                                             1              2.888889   \n",
       "6                                             1              1.000000   \n",
       "7                                             0              0.414634   \n",
       "8                                             1              0.647059   \n",
       "9                                             2              1.857143   \n",
       "\n",
       "   weighted_reorder_squared_sum  consecutive_reorder_count  \\\n",
       "0                      0.001736                          0   \n",
       "1                      1.353550                          0   \n",
       "2                      0.612476                          0   \n",
       "3                      0.040000                          0   \n",
       "4                      0.604938                          0   \n",
       "5                      1.448560                          3   \n",
       "6                      1.000000                          0   \n",
       "7                      0.121951                          0   \n",
       "8                      0.418685                          0   \n",
       "9                      1.734694                          1   \n",
       "\n",
       "   consecutive_reorder_percent  days_since_last_order  max_days_between_orders  \n",
       "0                        0.000                  356.0                    356.0  \n",
       "1                        0.000                  110.0                    100.0  \n",
       "2                        0.000                   97.0                     97.0  \n",
       "3                        0.000                  120.0                    120.0  \n",
       "4                        0.000                   74.0                     74.0  \n",
       "5                        0.375                   64.0                    148.0  \n",
       "6                        0.000                   30.0                     30.0  \n",
       "7                        0.000                  259.0                      0.0  \n",
       "8                        0.000                  145.0                    145.0  \n",
       "9                        0.500                   22.0                     30.0  "
      ]
     },
     "execution_count": 49,
     "metadata": {},
     "output_type": "execute_result"
    }
   ],
   "source": [
    "# Third category of features are user-product specific features\n",
    "\n",
    "user_prod_features = ['user_product_avg_add_to_cart_order','user_product_total_orders','user_product_avg_order_dow',\n",
    "                      'user_product_avg_order_hour_of_day','max_order_number_per_product','user_product_times_bought_in_last_five_orders',\n",
    "                      'user_product_times_bought_in_last_ten_orders','weighted_reorder_sum','weighted_reorder_squared_sum',\n",
    "                      'consecutive_reorder_count','consecutive_reorder_percent','days_since_last_order','max_days_between_orders']\n",
    "\n",
    "user_prod_features_df = (order_products_prior_df.groupby(['product_id','user_id'],as_index=False) \\\n",
    "                                                .agg(OrderedDict(\n",
    "                                                     [('add_to_cart_order','mean'),\n",
    "                                                      ('order_id','count'),\n",
    "                                                      ('order_dow','mean'),\n",
    "                                                      ('order_hour_of_day','mean'),\n",
    "                                                      ('max_order_number_per_product','max'),\n",
    "                                                      ('user_product_times_bought_in_last_five_orders','max'),\n",
    "                                                      ('user_product_times_bought_in_last_ten_orders','max'),\n",
    "                                                      ('weighted_reorder_sum','max'),\n",
    "                                                      ('weighted_reorder_squared_sum','max'),\n",
    "                                                      ('consecutive_reorder_count','max'),\n",
    "                                                      ('consecutive_reorder_percent','max'),\n",
    "                                                      ('days_since_last_order','min'),\n",
    "                                                      ('max_days_between_orders','min')])))\n",
    "\n",
    "user_prod_features_df.columns = ['product_id','user_id'] + user_prod_features \n",
    "\n",
    "# Round back to get categorical days and binned hours\n",
    "user_prod_features_df.user_product_avg_order_dow = user_prod_features_df.user_product_avg_order_dow.round()\n",
    "user_prod_features_df.user_product_avg_order_hour_of_day = user_prod_features_df.user_product_avg_order_hour_of_day.round()\n",
    "\n",
    "user_prod_features_df.head(10)"
   ]
  },
  {
   "cell_type": "code",
   "execution_count": 50,
   "metadata": {
    "ExecuteTime": {
     "end_time": "2019-05-08T15:58:49.680045Z",
     "start_time": "2019-05-08T15:58:48.617608Z"
    }
   },
   "outputs": [
    {
     "data": {
      "text/html": [
       "<div>\n",
       "<style>\n",
       "    .dataframe thead tr:only-child th {\n",
       "        text-align: right;\n",
       "    }\n",
       "\n",
       "    .dataframe thead th {\n",
       "        text-align: left;\n",
       "    }\n",
       "\n",
       "    .dataframe tbody tr th {\n",
       "        vertical-align: top;\n",
       "    }\n",
       "</style>\n",
       "<table border=\"1\" class=\"dataframe\">\n",
       "  <thead>\n",
       "    <tr style=\"text-align: right;\">\n",
       "      <th></th>\n",
       "      <th>product_id</th>\n",
       "      <th>user_id</th>\n",
       "      <th>latest_cart</th>\n",
       "      <th>in_cart</th>\n",
       "      <th>product_total_orders</th>\n",
       "      <th>product_avg_add_to_cart_order</th>\n",
       "      <th>product_aisle_id</th>\n",
       "      <th>product_department_id</th>\n",
       "      <th>product_avg_order_dow</th>\n",
       "      <th>product_avg_order_hour_of_day</th>\n",
       "      <th>...</th>\n",
       "      <th>user_product_times_bought_in_last_five_orders</th>\n",
       "      <th>user_product_times_bought_in_last_ten_orders</th>\n",
       "      <th>weighted_reorder_sum</th>\n",
       "      <th>weighted_reorder_squared_sum</th>\n",
       "      <th>consecutive_reorder_count</th>\n",
       "      <th>consecutive_reorder_percent</th>\n",
       "      <th>days_since_last_order</th>\n",
       "      <th>max_days_between_orders</th>\n",
       "      <th>user_product_order_freq</th>\n",
       "      <th>user_product_orders_ago_ordered</th>\n",
       "    </tr>\n",
       "  </thead>\n",
       "  <tbody>\n",
       "    <tr>\n",
       "      <th>0</th>\n",
       "      <td>1</td>\n",
       "      <td>21285</td>\n",
       "      <td>{21573, 35561, 37710, 11759, 12341, 13176, 32478}</td>\n",
       "      <td>0</td>\n",
       "      <td>26</td>\n",
       "      <td>4.576923</td>\n",
       "      <td>61</td>\n",
       "      <td>19</td>\n",
       "      <td>3.0</td>\n",
       "      <td>13.0</td>\n",
       "      <td>...</td>\n",
       "      <td>0</td>\n",
       "      <td>0</td>\n",
       "      <td>0.041667</td>\n",
       "      <td>0.001736</td>\n",
       "      <td>0</td>\n",
       "      <td>0.0</td>\n",
       "      <td>356.0</td>\n",
       "      <td>356.0</td>\n",
       "      <td>0.020833</td>\n",
       "      <td>47</td>\n",
       "    </tr>\n",
       "  </tbody>\n",
       "</table>\n",
       "<p>1 rows × 30 columns</p>\n",
       "</div>"
      ],
      "text/plain": [
       "   product_id  user_id                                        latest_cart  \\\n",
       "0           1    21285  {21573, 35561, 37710, 11759, 12341, 13176, 32478}   \n",
       "\n",
       "   in_cart  product_total_orders  product_avg_add_to_cart_order  \\\n",
       "0        0                    26                       4.576923   \n",
       "\n",
       "   product_aisle_id  product_department_id  product_avg_order_dow  \\\n",
       "0                61                     19                    3.0   \n",
       "\n",
       "   product_avg_order_hour_of_day               ...                 \\\n",
       "0                           13.0               ...                  \n",
       "\n",
       "   user_product_times_bought_in_last_five_orders  \\\n",
       "0                                              0   \n",
       "\n",
       "   user_product_times_bought_in_last_ten_orders  weighted_reorder_sum  \\\n",
       "0                                             0              0.041667   \n",
       "\n",
       "   weighted_reorder_squared_sum  consecutive_reorder_count  \\\n",
       "0                      0.001736                          0   \n",
       "\n",
       "   consecutive_reorder_percent  days_since_last_order  \\\n",
       "0                          0.0                  356.0   \n",
       "\n",
       "   max_days_between_orders  user_product_order_freq  \\\n",
       "0                    356.0                 0.020833   \n",
       "\n",
       "   user_product_orders_ago_ordered  \n",
       "0                               47  \n",
       "\n",
       "[1 rows x 30 columns]"
      ]
     },
     "execution_count": 50,
     "metadata": {},
     "output_type": "execute_result"
    }
   ],
   "source": [
    "# Merge user-product features into X_df based on user_id & product_id\n",
    "X_df = X_df.merge(user_prod_features_df, on=['user_id','product_id'])\n",
    "\n",
    "# Creating user_product_order_freq outide of user_prod_features cell because feature uses features from two categories\n",
    "X_df['user_product_order_freq'] = X_df['user_product_total_orders'] / X_df['user_total_orders'] \n",
    "X_df['user_product_orders_ago_ordered'] = (X_df['user_total_orders'] + 1) - X_df['max_order_number_per_product']\n",
    "\n",
    "X_df = X_df.dropna()\n",
    "X_df.head(1)"
   ]
  },
  {
   "cell_type": "code",
   "execution_count": 51,
   "metadata": {
    "ExecuteTime": {
     "end_time": "2019-05-08T15:58:54.014403Z",
     "start_time": "2019-05-08T15:58:53.824616Z"
    }
   },
   "outputs": [
    {
     "name": "stdout",
     "output_type": "stream",
     "text": [
      "<class 'pandas.core.frame.DataFrame'>\n",
      "Int64Index: 329806 entries, 0 to 329805\n",
      "Data columns (total 30 columns):\n",
      "product_id                                       329806 non-null int64\n",
      "user_id                                          329806 non-null int64\n",
      "latest_cart                                      329806 non-null object\n",
      "in_cart                                          329806 non-null int64\n",
      "product_total_orders                             329806 non-null int64\n",
      "product_avg_add_to_cart_order                    329806 non-null float64\n",
      "product_aisle_id                                 329806 non-null int64\n",
      "product_department_id                            329806 non-null int64\n",
      "product_avg_order_dow                            329806 non-null float64\n",
      "product_avg_order_hour_of_day                    329806 non-null float64\n",
      "product_total_users                              329806 non-null int64\n",
      "user_total_orders                                329806 non-null int64\n",
      "user_avg_cartsize                                329806 non-null float64\n",
      "user_total_products                              329806 non-null int64\n",
      "user_avg_days_since_prior_order                  329806 non-null float64\n",
      "user_product_avg_add_to_cart_order               329806 non-null float64\n",
      "user_product_total_orders                        329806 non-null int64\n",
      "user_product_avg_order_dow                       329806 non-null float64\n",
      "user_product_avg_order_hour_of_day               329806 non-null float64\n",
      "max_order_number_per_product                     329806 non-null int64\n",
      "user_product_times_bought_in_last_five_orders    329806 non-null int64\n",
      "user_product_times_bought_in_last_ten_orders     329806 non-null int64\n",
      "weighted_reorder_sum                             329806 non-null float64\n",
      "weighted_reorder_squared_sum                     329806 non-null float64\n",
      "consecutive_reorder_count                        329806 non-null int64\n",
      "consecutive_reorder_percent                      329806 non-null float64\n",
      "days_since_last_order                            329806 non-null float64\n",
      "max_days_between_orders                          329806 non-null float64\n",
      "user_product_order_freq                          329806 non-null float64\n",
      "user_product_orders_ago_ordered                  329806 non-null int64\n",
      "dtypes: float64(14), int64(15), object(1)\n",
      "memory usage: 78.0+ MB\n"
     ]
    }
   ],
   "source": [
    "# Full feature and target set\n",
    "X_df.info()"
   ]
  },
  {
   "cell_type": "code",
   "execution_count": 52,
   "metadata": {
    "ExecuteTime": {
     "end_time": "2019-05-08T15:59:22.659518Z",
     "start_time": "2019-05-08T15:59:04.317151Z"
    }
   },
   "outputs": [
    {
     "data": {
      "text/plain": [
       "0.2670993509735397"
      ]
     },
     "execution_count": 52,
     "metadata": {},
     "output_type": "execute_result"
    }
   ],
   "source": [
    "# Baseline with Product, User, & User-Product Features  (using same user_id 20/80 split in Product Features category)\n",
    "\n",
    "# Split into train/test\n",
    "X_train_df, X_test_df = X_df[~X_df['user_id'].isin(test_users)], X_df[X_df['user_id'].isin(test_users)] \n",
    "\n",
    "# Split into features/target\n",
    "y_train, y_test = X_train_df['in_cart'], X_test_df['in_cart']\n",
    "X_train, X_test = X_train_df.drop(['product_id','user_id','latest_cart','in_cart',],axis=1), \\\n",
    "                  X_test_df.drop(['product_id','user_id','latest_cart','in_cart'],axis=1), \\\n",
    "\n",
    "# Fit simple baseline model\n",
    "lr = LogisticRegression()\n",
    "lr.fit(X_train, y_train)\n",
    "metrics.f1_score(y_test, lr.predict(X_test))"
   ]
  },
  {
   "cell_type": "markdown",
   "metadata": {},
   "source": [
    "## Modeling"
   ]
  },
  {
   "cell_type": "markdown",
   "metadata": {},
   "source": [
    "### Splitting up data"
   ]
  },
  {
   "cell_type": "code",
   "execution_count": 53,
   "metadata": {
    "ExecuteTime": {
     "end_time": "2019-05-08T15:59:30.589867Z",
     "start_time": "2019-05-08T15:59:29.310309Z"
    },
    "collapsed": true
   },
   "outputs": [],
   "source": [
    "# Sample 20% of users for holdout (test)\n",
    "np.random.seed(45)\n",
    "total_users = X_df['user_id'].unique() \n",
    "test_users = np.random.choice(total_users, size=int(total_users.shape[0] * .20), replace=False)\n",
    "\n",
    "# Split into train/test on 80/20 split of users\n",
    "X_train_df, X_test_df = X_df[~X_df['user_id'].isin(test_users)], X_df[X_df['user_id'].isin(test_users)] \n",
    "\n",
    "# Split train into 5 folds for cross-validation\n",
    "train_users = X_train_df['user_id'].unique()\n",
    "np.random.shuffle(train_users)\n",
    "train_users_5folds = np.split(train_users,5)\n",
    "\n",
    "# Test sets for cross-validation\n",
    "X_valid_df_fold1 = X_train_df[X_train_df['user_id'].isin(train_users_5folds[0])] \n",
    "X_valid_df_fold2 = X_train_df[X_train_df['user_id'].isin(train_users_5folds[1])] \n",
    "X_valid_df_fold3 = X_train_df[X_train_df['user_id'].isin(train_users_5folds[2])] \n",
    "X_valid_df_fold4 = X_train_df[X_train_df['user_id'].isin(train_users_5folds[3])] \n",
    "X_valid_df_fold5 = X_train_df[X_train_df['user_id'].isin(train_users_5folds[4])] \n",
    "\n",
    "# Train sets for cross-validation\n",
    "X_train_df_fold1 = X_train_df[X_train_df['user_id'].isin(np.concatenate(train_users_5folds[1:]))]\n",
    "X_train_df_fold2 = X_train_df[X_train_df['user_id'].isin(np.concatenate((train_users_5folds[0],train_users_5folds[2],train_users_5folds[3],train_users_5folds[4])))]\n",
    "X_train_df_fold3 = X_train_df[X_train_df['user_id'].isin(np.concatenate((train_users_5folds[0],train_users_5folds[1],train_users_5folds[3],train_users_5folds[4])))]\n",
    "X_train_df_fold4 = X_train_df[X_train_df['user_id'].isin(np.concatenate((train_users_5folds[0],train_users_5folds[1],train_users_5folds[2],train_users_5folds[4])))]\n",
    "X_train_df_fold5 = X_train_df[X_train_df['user_id'].isin(np.concatenate(train_users_5folds[:4]))]\n",
    "\n",
    "# Split into features/target for test set and cross validation folds\n",
    "y_test = X_test_df['in_cart']\n",
    "X_test = X_test_df.drop(['product_id','user_id','latest_cart','in_cart'],axis=1)\n",
    "\n",
    "y_train_fold1 = X_train_df_fold1['in_cart']\n",
    "y_train_fold2 = X_train_df_fold2['in_cart']\n",
    "y_train_fold3 = X_train_df_fold3['in_cart']\n",
    "y_train_fold4 = X_train_df_fold4['in_cart']\n",
    "y_train_fold5 = X_train_df_fold5['in_cart']\n",
    "\n",
    "X_train_fold1 = X_train_df_fold1.drop(['product_id','user_id','latest_cart','in_cart',],axis=1)\n",
    "X_train_fold2 = X_train_df_fold2.drop(['product_id','user_id','latest_cart','in_cart',],axis=1)\n",
    "X_train_fold3 = X_train_df_fold3.drop(['product_id','user_id','latest_cart','in_cart',],axis=1)\n",
    "X_train_fold4 = X_train_df_fold4.drop(['product_id','user_id','latest_cart','in_cart',],axis=1)\n",
    "X_train_fold5 = X_train_df_fold5.drop(['product_id','user_id','latest_cart','in_cart',],axis=1)\n",
    "\n",
    "y_valid_fold1 = X_valid_df_fold1['in_cart']\n",
    "y_valid_fold2 = X_valid_df_fold2['in_cart']\n",
    "y_valid_fold3 = X_valid_df_fold3['in_cart']\n",
    "y_valid_fold4 = X_valid_df_fold4['in_cart']\n",
    "y_valid_fold5 = X_valid_df_fold5['in_cart']\n",
    "\n",
    "X_valid_fold1 = X_valid_df_fold1.drop(['product_id','user_id','latest_cart','in_cart',],axis=1)\n",
    "X_valid_fold2 = X_valid_df_fold2.drop(['product_id','user_id','latest_cart','in_cart',],axis=1)\n",
    "X_valid_fold3 = X_valid_df_fold3.drop(['product_id','user_id','latest_cart','in_cart',],axis=1)\n",
    "X_valid_fold4 = X_valid_df_fold4.drop(['product_id','user_id','latest_cart','in_cart',],axis=1)\n",
    "X_valid_fold5 = X_valid_df_fold5.drop(['product_id','user_id','latest_cart','in_cart',],axis=1)"
   ]
  },
  {
   "cell_type": "code",
   "execution_count": 54,
   "metadata": {
    "ExecuteTime": {
     "end_time": "2019-05-08T15:59:31.695857Z",
     "start_time": "2019-05-08T15:59:31.687416Z"
    }
   },
   "outputs": [
    {
     "name": "stdout",
     "output_type": "stream",
     "text": [
      "('product_total_orders', 'product_total_orders')\n",
      "('product_avg_add_to_cart_order', 'product_avg_add_to_cart_order')\n",
      "('product_aisle_id', 'product_aisle_id')\n",
      "('product_department_id', 'product_department_id')\n",
      "('product_avg_order_dow', 'product_avg_order_dow')\n",
      "('product_avg_order_hour_of_day', 'product_avg_order_hour_of_day')\n",
      "('product_total_users', 'product_total_users')\n",
      "('user_total_orders', 'user_total_orders')\n",
      "('user_avg_cartsize', 'user_avg_cartsize')\n",
      "('user_total_products', 'user_total_products')\n",
      "('user_avg_days_since_prior_order', 'user_avg_days_since_prior_order')\n",
      "('user_product_avg_add_to_cart_order', 'user_product_avg_add_to_cart_order')\n",
      "('user_product_total_orders', 'user_product_total_orders')\n",
      "('user_product_avg_order_dow', 'user_product_avg_order_dow')\n",
      "('user_product_avg_order_hour_of_day', 'user_product_avg_order_hour_of_day')\n",
      "('max_order_number_per_product', 'max_order_number_per_product')\n",
      "('user_product_times_bought_in_last_five_orders', 'user_product_times_bought_in_last_five_orders')\n",
      "('user_product_times_bought_in_last_ten_orders', 'user_product_times_bought_in_last_ten_orders')\n",
      "('weighted_reorder_sum', 'weighted_reorder_sum')\n",
      "('weighted_reorder_squared_sum', 'weighted_reorder_squared_sum')\n",
      "('consecutive_reorder_count', 'consecutive_reorder_count')\n",
      "('consecutive_reorder_percent', 'consecutive_reorder_percent')\n",
      "('days_since_last_order', 'days_since_last_order')\n",
      "('max_days_between_orders', 'max_days_between_orders')\n",
      "('user_product_order_freq', 'user_product_order_freq')\n",
      "('user_product_orders_ago_ordered', 'user_product_orders_ago_ordered')\n"
     ]
    }
   ],
   "source": [
    "# Checking columns\n",
    "for x in zip(list(X_test.columns),list(X_train_fold1.columns)):\n",
    "    print(x)"
   ]
  },
  {
   "cell_type": "markdown",
   "metadata": {
    "ExecuteTime": {
     "end_time": "2018-02-19T04:07:07.276774Z",
     "start_time": "2018-02-19T04:07:07.273857Z"
    }
   },
   "source": [
    "### Oversampling Validation Folds"
   ]
  },
  {
   "cell_type": "code",
   "execution_count": 55,
   "metadata": {
    "ExecuteTime": {
     "end_time": "2019-05-08T15:59:35.699842Z",
     "start_time": "2019-05-08T15:59:33.836912Z"
    }
   },
   "outputs": [
    {
     "name": "stderr",
     "output_type": "stream",
     "text": [
      "/Users/EdwardLeardi/anaconda/lib/python3.6/site-packages/sklearn/utils/deprecation.py:77: DeprecationWarning: Function _ratio_float is deprecated; Use a float for 'ratio' is deprecated from version 0.2. The support will be removed in 0.4. Use a dict, str, or a callable instead.\n",
      "  warnings.warn(msg, category=DeprecationWarning)\n",
      "/Users/EdwardLeardi/anaconda/lib/python3.6/site-packages/sklearn/utils/deprecation.py:77: DeprecationWarning: Function _ratio_float is deprecated; Use a float for 'ratio' is deprecated from version 0.2. The support will be removed in 0.4. Use a dict, str, or a callable instead.\n",
      "  warnings.warn(msg, category=DeprecationWarning)\n",
      "/Users/EdwardLeardi/anaconda/lib/python3.6/site-packages/sklearn/utils/deprecation.py:77: DeprecationWarning: Function _ratio_float is deprecated; Use a float for 'ratio' is deprecated from version 0.2. The support will be removed in 0.4. Use a dict, str, or a callable instead.\n",
      "  warnings.warn(msg, category=DeprecationWarning)\n",
      "/Users/EdwardLeardi/anaconda/lib/python3.6/site-packages/sklearn/utils/deprecation.py:77: DeprecationWarning: Function _ratio_float is deprecated; Use a float for 'ratio' is deprecated from version 0.2. The support will be removed in 0.4. Use a dict, str, or a callable instead.\n",
      "  warnings.warn(msg, category=DeprecationWarning)\n",
      "/Users/EdwardLeardi/anaconda/lib/python3.6/site-packages/sklearn/utils/deprecation.py:77: DeprecationWarning: Function _ratio_float is deprecated; Use a float for 'ratio' is deprecated from version 0.2. The support will be removed in 0.4. Use a dict, str, or a callable instead.\n",
      "  warnings.warn(msg, category=DeprecationWarning)\n"
     ]
    }
   ],
   "source": [
    "# Randomly oversample positive samples to be 40% of targets \n",
    "ROS = imblearn.over_sampling.RandomOverSampler(ratio=.4, random_state=42) \n",
    "\n",
    "# Note oversampling converts to arrays\n",
    "X_tr_os1, y_tr_os1 = ROS.fit_sample(X_train_fold1, y_train_fold1)\n",
    "X_tr_os2, y_tr_os2 = ROS.fit_sample(X_train_fold2, y_train_fold2)\n",
    "X_tr_os3, y_tr_os3 = ROS.fit_sample(X_train_fold3, y_train_fold3)\n",
    "X_tr_os4, y_tr_os4 = ROS.fit_sample(X_train_fold4, y_train_fold4)\n",
    "X_tr_os5, y_tr_os5 = ROS.fit_sample(X_train_fold5, y_train_fold5)\n",
    "\n",
    "# Convert X_train folds to dataframes\n",
    "X_tr_os1 = pd.DataFrame(X_tr_os1)\n",
    "X_tr_os1.columns = X_train_fold1.columns\n",
    "X_tr_os2 = pd.DataFrame(X_tr_os2)\n",
    "X_tr_os2.columns = X_train_fold2.columns\n",
    "X_tr_os3 = pd.DataFrame(X_tr_os3)\n",
    "X_tr_os3.columns = X_train_fold3.columns\n",
    "X_tr_os4 = pd.DataFrame(X_tr_os4)\n",
    "X_tr_os4.columns = X_train_fold4.columns\n",
    "X_tr_os5 = pd.DataFrame(X_tr_os5)\n",
    "X_tr_os5.columns = X_train_fold5.columns\n",
    "\n",
    "# Convert y_train folds to series\n",
    "y_tr_os1 = pd.Series(y_tr_os1)\n",
    "y_tr_os2 = pd.Series(y_tr_os2)\n",
    "y_tr_os3 = pd.Series(y_tr_os3)\n",
    "y_tr_os4 = pd.Series(y_tr_os4)\n",
    "y_tr_os5 = pd.Series(y_tr_os5)"
   ]
  },
  {
   "cell_type": "markdown",
   "metadata": {
    "ExecuteTime": {
     "end_time": "2018-02-19T05:11:47.306496Z",
     "start_time": "2018-02-19T05:11:47.296433Z"
    }
   },
   "source": [
    "### Fitting Models"
   ]
  },
  {
   "cell_type": "code",
   "execution_count": 56,
   "metadata": {
    "ExecuteTime": {
     "end_time": "2019-05-08T15:59:38.902322Z",
     "start_time": "2019-05-08T15:59:38.887008Z"
    },
    "collapsed": true
   },
   "outputs": [],
   "source": [
    "# Setup for modeling functions\n",
    "X_tr_os_list = [X_tr_os1,X_tr_os2,X_tr_os3,X_tr_os4,X_tr_os5]\n",
    "y_tr_os_list = [y_tr_os1,y_tr_os2,y_tr_os3,y_tr_os4,y_tr_os5]\n",
    "X_valid_list = [X_valid_fold1,X_valid_fold2,X_valid_fold3,X_valid_fold4,X_valid_fold5]\n",
    "y_valid_list = [y_valid_fold1,y_valid_fold2,y_valid_fold3,y_valid_fold4,y_valid_fold5]"
   ]
  },
  {
   "cell_type": "markdown",
   "metadata": {},
   "source": [
    "#### Logistic Regression"
   ]
  },
  {
   "cell_type": "code",
   "execution_count": 57,
   "metadata": {
    "ExecuteTime": {
     "end_time": "2019-05-08T16:01:22.758214Z",
     "start_time": "2019-05-08T15:59:41.493807Z"
    },
    "scrolled": true
   },
   "outputs": [
    {
     "name": "stdout",
     "output_type": "stream",
     "text": [
      "Logistic Regression on Oversampled Train Data Fold 1 – Test F1: 0.430, Test AUC: 0.828\n",
      "Logistic Regression on Oversampled Train Data Fold 2 – Test F1: 0.413, Test AUC: 0.813\n",
      "Logistic Regression on Oversampled Train Data Fold 3 – Test F1: 0.443, Test AUC: 0.823\n",
      "Logistic Regression on Oversampled Train Data Fold 4 – Test F1: 0.419, Test AUC: 0.813\n",
      "Logistic Regression on Oversampled Train Data Fold 5 – Test F1: 0.432, Test AUC: 0.825\n",
      "Logistic Regression on Oversampled Train Data; Mean F1: 0.427\n",
      "Logistic Regression on Oversampled Train Data; Mean AUC: 0.820\n"
     ]
    }
   ],
   "source": [
    "# Logistic Regression cross validation function\n",
    "\n",
    "def log_reg_cross_val(x_train,y_train,x_val,y_val):\n",
    "    \"\"\"Take training and validation data in folds and fit logistic regression and calculate metrics\"\"\"\n",
    "    f1_scores = []\n",
    "    auc_scores = []\n",
    "    for x in range(len(x_train)):\n",
    "        lr_os = LogisticRegression()\n",
    "        lr_os.fit(x_train[x], y_train[x])\n",
    "        log_reg_f1, log_reg_auc = metrics.f1_score(y_val[x], lr_os.predict(x_val[x])), metrics.roc_auc_score(y_val[x], lr_os.predict_proba(x_val[x])[:,1])\n",
    "        f1_scores.append(log_reg_f1)\n",
    "        auc_scores.append(log_reg_auc)\n",
    "        print('Logistic Regression on Oversampled Train Data Fold %.0f – Test F1: %.3f, Test AUC: %.3f' % (x+1,log_reg_f1,log_reg_auc))\n",
    "    print('Logistic Regression on Oversampled Train Data; Mean F1: %.3f' %np.mean(f1_scores))\n",
    "    print('Logistic Regression on Oversampled Train Data; Mean AUC: %.3f' %np.mean(auc_scores))\n",
    "    \n",
    "log_reg_cross_val(X_tr_os_list,y_tr_os_list,X_valid_list,y_valid_list)"
   ]
  },
  {
   "cell_type": "markdown",
   "metadata": {
    "ExecuteTime": {
     "end_time": "2018-02-19T07:50:21.496109Z",
     "start_time": "2018-02-19T07:50:21.493064Z"
    }
   },
   "source": [
    "#### Decision Tree"
   ]
  },
  {
   "cell_type": "code",
   "execution_count": 58,
   "metadata": {
    "ExecuteTime": {
     "end_time": "2019-05-08T16:02:15.419792Z",
     "start_time": "2019-05-08T16:02:13.055151Z"
    }
   },
   "outputs": [
    {
     "name": "stdout",
     "output_type": "stream",
     "text": [
      "0.42600253271422545\n",
      "0.8229352239032384\n"
     ]
    }
   ],
   "source": [
    "# Test of Decision Tree\n",
    "dtr_os = tree.DecisionTreeClassifier(min_samples_split=10, max_depth=6, min_samples_leaf=8)\n",
    "dtr_os.fit(X_tr_os_list[0], y_tr_os_list[0])\n",
    "dtr_f1, dtr_auc = metrics.f1_score(y_valid_list[0], dtr_os.predict(X_valid_list[0])), metrics.roc_auc_score(y_valid_list[0], dtr_os.predict_proba(X_valid_list[0])[:,1])\n",
    "print(dtr_f1)\n",
    "print(dtr_auc)"
   ]
  },
  {
   "cell_type": "code",
   "execution_count": 59,
   "metadata": {
    "ExecuteTime": {
     "end_time": "2019-05-08T16:02:31.416079Z",
     "start_time": "2019-05-08T16:02:20.233352Z"
    }
   },
   "outputs": [
    {
     "name": "stdout",
     "output_type": "stream",
     "text": [
      "Decision Tree on Oversampled Train Data Fold 1 – Test F1: 0.426, Test AUC: 0.823\n",
      "Decision Tree on Oversampled Train Data Fold 2 – Test F1: 0.414, Test AUC: 0.805\n",
      "Decision Tree on Oversampled Train Data Fold 3 – Test F1: 0.433, Test AUC: 0.818\n",
      "Decision Tree on Oversampled Train Data Fold 4 – Test F1: 0.408, Test AUC: 0.806\n",
      "Decision Tree on Oversampled Train Data Fold 5 – Test F1: 0.427, Test AUC: 0.819\n",
      "Decision Tree on Oversampled Train Data; Mean F1: 0.422\n",
      "Decision Tree on Oversampled Train Data; Mean AUC: 0.814\n"
     ]
    }
   ],
   "source": [
    "# Decision Tree cross validation function\n",
    "\n",
    "def decision_tree_cross_val(x_train,y_train,x_val,y_val,min_samples_split=10, max_depth=6, min_samples_leaf=8):\n",
    "    \"\"\"Take training and validation data in folds and fit decision tree and calculate metrics\"\"\"\n",
    "    f1_scores = []\n",
    "    auc_scores = []\n",
    "    for x in range(len(x_train)):\n",
    "        dtr_os = tree.DecisionTreeClassifier(min_samples_split=min_samples_split,max_depth=max_depth,min_samples_leaf=min_samples_leaf)\n",
    "        dtr_os.fit(x_train[x], y_train[x])\n",
    "        dtr_f1, dtr_auc = metrics.f1_score(y_val[x], dtr_os.predict(x_val[x])), metrics.roc_auc_score(y_val[x], dtr_os.predict_proba(x_val[x])[:,1])\n",
    "        f1_scores.append(dtr_f1)\n",
    "        auc_scores.append(dtr_auc)\n",
    "        print('Decision Tree on Oversampled Train Data Fold %.0f – Test F1: %.3f, Test AUC: %.3f' % (x+1,dtr_f1,dtr_auc))\n",
    "    print('Decision Tree on Oversampled Train Data; Mean F1: %.3f' %np.mean(f1_scores))\n",
    "    print('Decision Tree on Oversampled Train Data; Mean AUC: %.3f' %np.mean(auc_scores))\n",
    "    \n",
    "decision_tree_cross_val(X_tr_os_list,y_tr_os_list,X_valid_list,y_valid_list)"
   ]
  },
  {
   "cell_type": "markdown",
   "metadata": {},
   "source": [
    "#### Random Forest"
   ]
  },
  {
   "cell_type": "code",
   "execution_count": 60,
   "metadata": {
    "ExecuteTime": {
     "end_time": "2019-05-08T16:03:26.802776Z",
     "start_time": "2019-05-08T16:02:54.692221Z"
    }
   },
   "outputs": [
    {
     "name": "stdout",
     "output_type": "stream",
     "text": [
      "0.39229504345783417\n",
      "0.8224829676777085\n"
     ]
    }
   ],
   "source": [
    "# Test of Random Forest\n",
    "rfor = RandomForestClassifier(n_estimators = 100, max_features = 3, min_samples_leaf = 4, n_jobs=-1)\n",
    "rfor.fit(X_tr_os_list[0],y_tr_os_list[0])\n",
    "rfor_f1, rfor_auc = metrics.f1_score(y_valid_list[0], rfor.predict(X_valid_list[0])), metrics.roc_auc_score(y_valid_list[0], rfor.predict_proba(X_valid_list[0])[:,1])\n",
    "print(rfor_f1)\n",
    "print(rfor_auc)"
   ]
  },
  {
   "cell_type": "code",
   "execution_count": 61,
   "metadata": {
    "ExecuteTime": {
     "end_time": "2019-05-08T16:06:37.382599Z",
     "start_time": "2019-05-08T16:03:58.871079Z"
    }
   },
   "outputs": [
    {
     "name": "stdout",
     "output_type": "stream",
     "text": [
      "Random Forest on Oversampled Train Data Fold 1 – Test F1: 0.393, Test AUC: 0.823\n",
      "Random Forest on Oversampled Train Data Fold 2 – Test F1: 0.373, Test AUC: 0.808\n",
      "Random Forest on Oversampled Train Data Fold 3 – Test F1: 0.399, Test AUC: 0.819\n",
      "Random Forest on Oversampled Train Data Fold 4 – Test F1: 0.373, Test AUC: 0.808\n",
      "Random Forest on Oversampled Train Data Fold 5 – Test F1: 0.395, Test AUC: 0.819\n",
      "Random Forest on Oversampled Train Data; Mean F1: 0.426\n",
      "Random Forest on Oversampled Train Data; Mean AUC: 0.823\n"
     ]
    }
   ],
   "source": [
    "# Random Forest cross validation function\n",
    "\n",
    "def random_forest_cross_val(x_train,y_train,x_val,y_val,n_estimators = 100, max_features = 3, min_samples_leaf = 4, n_jobs=-1):\n",
    "    \"\"\"Take training and validation data in folds and fit random forest and calculate metrics\"\"\"\n",
    "    f1_scores = []\n",
    "    auc_scores = []\n",
    "    for x in range(len(x_train)):\n",
    "        rfor_os = RandomForestClassifier(n_estimators=n_estimators,max_features=max_features,min_samples_leaf=min_samples_leaf,n_jobs=n_jobs)\n",
    "        rfor_os.fit(x_train[x], y_train[x])\n",
    "        rfor_f1, rfor_auc = metrics.f1_score(y_val[x], rfor_os.predict(x_val[x])), metrics.roc_auc_score(y_val[x], rfor_os.predict_proba(x_val[x])[:,1])\n",
    "        f1_scores.append(dtr_f1)\n",
    "        auc_scores.append(dtr_auc)\n",
    "        print('Random Forest on Oversampled Train Data Fold %.0f – Test F1: %.3f, Test AUC: %.3f' % (x+1,rfor_f1,rfor_auc))\n",
    "    print('Random Forest on Oversampled Train Data; Mean F1: %.3f' %np.mean(f1_scores))\n",
    "    print('Random Forest on Oversampled Train Data; Mean AUC: %.3f' %np.mean(auc_scores))\n",
    "    \n",
    "random_forest_cross_val(X_tr_os_list,y_tr_os_list,X_valid_list,y_valid_list)"
   ]
  },
  {
   "cell_type": "markdown",
   "metadata": {},
   "source": [
    "#### XGBoost"
   ]
  },
  {
   "cell_type": "code",
   "execution_count": 62,
   "metadata": {
    "ExecuteTime": {
     "end_time": "2019-05-08T16:08:45.470109Z",
     "start_time": "2019-05-08T16:07:53.912861Z"
    }
   },
   "outputs": [
    {
     "name": "stderr",
     "output_type": "stream",
     "text": [
      "/Users/EdwardLeardi/anaconda/lib/python3.6/site-packages/sklearn/preprocessing/label.py:151: DeprecationWarning: The truth value of an empty array is ambiguous. Returning False, but in future this will result in an error. Use `array.size > 0` to check that an array is not empty.\n",
      "  if diff:\n"
     ]
    },
    {
     "data": {
      "text/plain": [
       "0.43112727272727275"
      ]
     },
     "execution_count": 62,
     "metadata": {},
     "output_type": "execute_result"
    }
   ],
   "source": [
    "gbm = xgb.XGBClassifier( \n",
    "                        n_estimators=1000, #arbitrary large number\n",
    "                        max_depth=3,\n",
    "                        objective=\"binary:logistic\",\n",
    "                        learning_rate=.1, \n",
    "                        subsample=1,\n",
    "                        min_child_weight=1,\n",
    "                        colsample_bytree=.8\n",
    "                       )\n",
    "\n",
    "gbm.fit(X_valid_list[0], y_valid_list[0])\n",
    "\n",
    "metrics.f1_score(y_valid_list[0], gbm.predict(X_valid_list[0]))"
   ]
  },
  {
   "cell_type": "code",
   "execution_count": 63,
   "metadata": {
    "ExecuteTime": {
     "end_time": "2019-05-08T16:10:23.437952Z",
     "start_time": "2019-05-08T16:08:45.473511Z"
    },
    "scrolled": true
   },
   "outputs": [
    {
     "name": "stdout",
     "output_type": "stream",
     "text": [
      "[0]\tvalidation_0-auc:0.798679\tvalidation_1-auc:0.80845\n",
      "Multiple eval metrics have been passed: 'validation_1-auc' will be used for early stopping.\n",
      "\n",
      "Will train until validation_1-auc hasn't improved in 50 rounds.\n",
      "[1]\tvalidation_0-auc:0.80929\tvalidation_1-auc:0.81861\n",
      "[2]\tvalidation_0-auc:0.809741\tvalidation_1-auc:0.81933\n",
      "[3]\tvalidation_0-auc:0.811828\tvalidation_1-auc:0.821081\n",
      "[4]\tvalidation_0-auc:0.811447\tvalidation_1-auc:0.820744\n",
      "[5]\tvalidation_0-auc:0.811806\tvalidation_1-auc:0.821358\n",
      "[6]\tvalidation_0-auc:0.812495\tvalidation_1-auc:0.822168\n",
      "[7]\tvalidation_0-auc:0.812753\tvalidation_1-auc:0.822604\n",
      "[8]\tvalidation_0-auc:0.814048\tvalidation_1-auc:0.823887\n",
      "[9]\tvalidation_0-auc:0.814881\tvalidation_1-auc:0.824339\n",
      "[10]\tvalidation_0-auc:0.815164\tvalidation_1-auc:0.824472\n",
      "[11]\tvalidation_0-auc:0.815865\tvalidation_1-auc:0.824956\n",
      "[12]\tvalidation_0-auc:0.816197\tvalidation_1-auc:0.825301\n",
      "[13]\tvalidation_0-auc:0.816782\tvalidation_1-auc:0.82593\n",
      "[14]\tvalidation_0-auc:0.817132\tvalidation_1-auc:0.826013\n",
      "[15]\tvalidation_0-auc:0.817392\tvalidation_1-auc:0.826375\n",
      "[16]\tvalidation_0-auc:0.817614\tvalidation_1-auc:0.826588\n",
      "[17]\tvalidation_0-auc:0.818094\tvalidation_1-auc:0.827088\n",
      "[18]\tvalidation_0-auc:0.818405\tvalidation_1-auc:0.827253\n",
      "[19]\tvalidation_0-auc:0.818748\tvalidation_1-auc:0.827552\n",
      "[20]\tvalidation_0-auc:0.819194\tvalidation_1-auc:0.827969\n",
      "[21]\tvalidation_0-auc:0.819458\tvalidation_1-auc:0.828184\n",
      "[22]\tvalidation_0-auc:0.819797\tvalidation_1-auc:0.828368\n",
      "[23]\tvalidation_0-auc:0.820052\tvalidation_1-auc:0.828593\n",
      "[24]\tvalidation_0-auc:0.820334\tvalidation_1-auc:0.828839\n",
      "[25]\tvalidation_0-auc:0.820684\tvalidation_1-auc:0.82909\n",
      "[26]\tvalidation_0-auc:0.820927\tvalidation_1-auc:0.829307\n",
      "[27]\tvalidation_0-auc:0.821085\tvalidation_1-auc:0.829397\n",
      "[28]\tvalidation_0-auc:0.821235\tvalidation_1-auc:0.829476\n",
      "[29]\tvalidation_0-auc:0.821452\tvalidation_1-auc:0.829569\n",
      "[30]\tvalidation_0-auc:0.821645\tvalidation_1-auc:0.829577\n",
      "[31]\tvalidation_0-auc:0.821772\tvalidation_1-auc:0.829718\n",
      "[32]\tvalidation_0-auc:0.821932\tvalidation_1-auc:0.829712\n",
      "[33]\tvalidation_0-auc:0.822051\tvalidation_1-auc:0.829842\n",
      "[34]\tvalidation_0-auc:0.822162\tvalidation_1-auc:0.82991\n",
      "[35]\tvalidation_0-auc:0.822243\tvalidation_1-auc:0.829955\n",
      "[36]\tvalidation_0-auc:0.822459\tvalidation_1-auc:0.830141\n",
      "[37]\tvalidation_0-auc:0.822682\tvalidation_1-auc:0.830242\n",
      "[38]\tvalidation_0-auc:0.822841\tvalidation_1-auc:0.830224\n",
      "[39]\tvalidation_0-auc:0.822983\tvalidation_1-auc:0.830158\n",
      "[40]\tvalidation_0-auc:0.823195\tvalidation_1-auc:0.830166\n",
      "[41]\tvalidation_0-auc:0.823357\tvalidation_1-auc:0.830191\n",
      "[42]\tvalidation_0-auc:0.823466\tvalidation_1-auc:0.830308\n",
      "[43]\tvalidation_0-auc:0.823641\tvalidation_1-auc:0.830354\n",
      "[44]\tvalidation_0-auc:0.823823\tvalidation_1-auc:0.830449\n",
      "[45]\tvalidation_0-auc:0.82392\tvalidation_1-auc:0.830553\n",
      "[46]\tvalidation_0-auc:0.824127\tvalidation_1-auc:0.830532\n",
      "[47]\tvalidation_0-auc:0.824283\tvalidation_1-auc:0.830568\n",
      "[48]\tvalidation_0-auc:0.824386\tvalidation_1-auc:0.830489\n",
      "[49]\tvalidation_0-auc:0.824513\tvalidation_1-auc:0.830526\n",
      "[50]\tvalidation_0-auc:0.824643\tvalidation_1-auc:0.830544\n",
      "[51]\tvalidation_0-auc:0.824725\tvalidation_1-auc:0.83059\n",
      "[52]\tvalidation_0-auc:0.824811\tvalidation_1-auc:0.830584\n",
      "[53]\tvalidation_0-auc:0.824894\tvalidation_1-auc:0.830605\n",
      "[54]\tvalidation_0-auc:0.82501\tvalidation_1-auc:0.830612\n",
      "[55]\tvalidation_0-auc:0.825183\tvalidation_1-auc:0.830638\n",
      "[56]\tvalidation_0-auc:0.825291\tvalidation_1-auc:0.830657\n",
      "[57]\tvalidation_0-auc:0.825433\tvalidation_1-auc:0.830634\n",
      "[58]\tvalidation_0-auc:0.8255\tvalidation_1-auc:0.830579\n",
      "[59]\tvalidation_0-auc:0.825602\tvalidation_1-auc:0.830639\n",
      "[60]\tvalidation_0-auc:0.825673\tvalidation_1-auc:0.830675\n",
      "[61]\tvalidation_0-auc:0.825785\tvalidation_1-auc:0.83071\n",
      "[62]\tvalidation_0-auc:0.825969\tvalidation_1-auc:0.830837\n",
      "[63]\tvalidation_0-auc:0.826085\tvalidation_1-auc:0.830943\n",
      "[64]\tvalidation_0-auc:0.826145\tvalidation_1-auc:0.830967\n",
      "[65]\tvalidation_0-auc:0.826231\tvalidation_1-auc:0.830987\n",
      "[66]\tvalidation_0-auc:0.826305\tvalidation_1-auc:0.831006\n",
      "[67]\tvalidation_0-auc:0.826408\tvalidation_1-auc:0.831029\n",
      "[68]\tvalidation_0-auc:0.826495\tvalidation_1-auc:0.83102\n",
      "[69]\tvalidation_0-auc:0.826533\tvalidation_1-auc:0.831012\n",
      "[70]\tvalidation_0-auc:0.826639\tvalidation_1-auc:0.83098\n",
      "[71]\tvalidation_0-auc:0.826725\tvalidation_1-auc:0.830996\n",
      "[72]\tvalidation_0-auc:0.826762\tvalidation_1-auc:0.830971\n",
      "[73]\tvalidation_0-auc:0.826859\tvalidation_1-auc:0.831091\n",
      "[74]\tvalidation_0-auc:0.826941\tvalidation_1-auc:0.831053\n",
      "[75]\tvalidation_0-auc:0.827044\tvalidation_1-auc:0.831031\n",
      "[76]\tvalidation_0-auc:0.827123\tvalidation_1-auc:0.831078\n",
      "[77]\tvalidation_0-auc:0.827223\tvalidation_1-auc:0.8311\n",
      "[78]\tvalidation_0-auc:0.827305\tvalidation_1-auc:0.831093\n",
      "[79]\tvalidation_0-auc:0.827383\tvalidation_1-auc:0.831103\n",
      "[80]\tvalidation_0-auc:0.827478\tvalidation_1-auc:0.831092\n",
      "[81]\tvalidation_0-auc:0.827568\tvalidation_1-auc:0.831178\n",
      "[82]\tvalidation_0-auc:0.827651\tvalidation_1-auc:0.831146\n",
      "[83]\tvalidation_0-auc:0.827668\tvalidation_1-auc:0.831135\n",
      "[84]\tvalidation_0-auc:0.827738\tvalidation_1-auc:0.831102\n",
      "[85]\tvalidation_0-auc:0.827804\tvalidation_1-auc:0.8311\n",
      "[86]\tvalidation_0-auc:0.827857\tvalidation_1-auc:0.831062\n",
      "[87]\tvalidation_0-auc:0.827898\tvalidation_1-auc:0.831058\n",
      "[88]\tvalidation_0-auc:0.827974\tvalidation_1-auc:0.831078\n",
      "[89]\tvalidation_0-auc:0.828057\tvalidation_1-auc:0.831102\n",
      "[90]\tvalidation_0-auc:0.828102\tvalidation_1-auc:0.831113\n",
      "[91]\tvalidation_0-auc:0.828138\tvalidation_1-auc:0.83111\n",
      "[92]\tvalidation_0-auc:0.828217\tvalidation_1-auc:0.831229\n",
      "[93]\tvalidation_0-auc:0.828321\tvalidation_1-auc:0.831262\n",
      "[94]\tvalidation_0-auc:0.828372\tvalidation_1-auc:0.831266\n",
      "[95]\tvalidation_0-auc:0.828458\tvalidation_1-auc:0.831289\n",
      "[96]\tvalidation_0-auc:0.828531\tvalidation_1-auc:0.831288\n",
      "[97]\tvalidation_0-auc:0.82864\tvalidation_1-auc:0.831367\n",
      "[98]\tvalidation_0-auc:0.828703\tvalidation_1-auc:0.831374\n",
      "[99]\tvalidation_0-auc:0.828725\tvalidation_1-auc:0.831347\n",
      "[100]\tvalidation_0-auc:0.828818\tvalidation_1-auc:0.831313\n",
      "[101]\tvalidation_0-auc:0.828885\tvalidation_1-auc:0.831389\n",
      "[102]\tvalidation_0-auc:0.828978\tvalidation_1-auc:0.831387\n",
      "[103]\tvalidation_0-auc:0.829035\tvalidation_1-auc:0.831394\n",
      "[104]\tvalidation_0-auc:0.829097\tvalidation_1-auc:0.831389\n",
      "[105]\tvalidation_0-auc:0.829177\tvalidation_1-auc:0.831485\n",
      "[106]\tvalidation_0-auc:0.829294\tvalidation_1-auc:0.831513\n",
      "[107]\tvalidation_0-auc:0.829353\tvalidation_1-auc:0.831558\n",
      "[108]\tvalidation_0-auc:0.829377\tvalidation_1-auc:0.83155\n",
      "[109]\tvalidation_0-auc:0.829414\tvalidation_1-auc:0.831524\n",
      "[110]\tvalidation_0-auc:0.829465\tvalidation_1-auc:0.831551\n",
      "[111]\tvalidation_0-auc:0.829555\tvalidation_1-auc:0.831583\n",
      "[112]\tvalidation_0-auc:0.829592\tvalidation_1-auc:0.831586\n",
      "[113]\tvalidation_0-auc:0.829682\tvalidation_1-auc:0.83161\n",
      "[114]\tvalidation_0-auc:0.829753\tvalidation_1-auc:0.831653\n",
      "[115]\tvalidation_0-auc:0.829814\tvalidation_1-auc:0.83169\n",
      "[116]\tvalidation_0-auc:0.829855\tvalidation_1-auc:0.831731\n",
      "[117]\tvalidation_0-auc:0.829929\tvalidation_1-auc:0.831777\n",
      "[118]\tvalidation_0-auc:0.82997\tvalidation_1-auc:0.831808\n",
      "[119]\tvalidation_0-auc:0.830033\tvalidation_1-auc:0.83179\n",
      "[120]\tvalidation_0-auc:0.830098\tvalidation_1-auc:0.831812\n",
      "[121]\tvalidation_0-auc:0.830161\tvalidation_1-auc:0.831812\n",
      "[122]\tvalidation_0-auc:0.830234\tvalidation_1-auc:0.83183\n",
      "[123]\tvalidation_0-auc:0.830295\tvalidation_1-auc:0.831879\n",
      "[124]\tvalidation_0-auc:0.830362\tvalidation_1-auc:0.831839\n",
      "[125]\tvalidation_0-auc:0.830387\tvalidation_1-auc:0.831845\n",
      "[126]\tvalidation_0-auc:0.830469\tvalidation_1-auc:0.831881\n",
      "[127]\tvalidation_0-auc:0.830547\tvalidation_1-auc:0.831882\n",
      "[128]\tvalidation_0-auc:0.830586\tvalidation_1-auc:0.831887\n",
      "[129]\tvalidation_0-auc:0.830647\tvalidation_1-auc:0.831867\n",
      "[130]\tvalidation_0-auc:0.8307\tvalidation_1-auc:0.831936\n",
      "[131]\tvalidation_0-auc:0.830767\tvalidation_1-auc:0.83192\n",
      "[132]\tvalidation_0-auc:0.830826\tvalidation_1-auc:0.831905\n",
      "[133]\tvalidation_0-auc:0.830881\tvalidation_1-auc:0.831912\n",
      "[134]\tvalidation_0-auc:0.830929\tvalidation_1-auc:0.831937\n",
      "[135]\tvalidation_0-auc:0.830997\tvalidation_1-auc:0.831885\n",
      "[136]\tvalidation_0-auc:0.831085\tvalidation_1-auc:0.831901\n",
      "[137]\tvalidation_0-auc:0.831152\tvalidation_1-auc:0.831941\n",
      "[138]\tvalidation_0-auc:0.831182\tvalidation_1-auc:0.831927\n",
      "[139]\tvalidation_0-auc:0.831255\tvalidation_1-auc:0.831937\n",
      "[140]\tvalidation_0-auc:0.831291\tvalidation_1-auc:0.831946\n"
     ]
    },
    {
     "name": "stdout",
     "output_type": "stream",
     "text": [
      "[141]\tvalidation_0-auc:0.831324\tvalidation_1-auc:0.831928\n",
      "[142]\tvalidation_0-auc:0.831338\tvalidation_1-auc:0.83194\n",
      "[143]\tvalidation_0-auc:0.831419\tvalidation_1-auc:0.831935\n",
      "[144]\tvalidation_0-auc:0.831482\tvalidation_1-auc:0.831946\n",
      "[145]\tvalidation_0-auc:0.831524\tvalidation_1-auc:0.831939\n",
      "[146]\tvalidation_0-auc:0.831602\tvalidation_1-auc:0.831945\n",
      "[147]\tvalidation_0-auc:0.831682\tvalidation_1-auc:0.831965\n",
      "[148]\tvalidation_0-auc:0.831752\tvalidation_1-auc:0.831929\n",
      "[149]\tvalidation_0-auc:0.831834\tvalidation_1-auc:0.832047\n",
      "[150]\tvalidation_0-auc:0.831904\tvalidation_1-auc:0.832044\n",
      "[151]\tvalidation_0-auc:0.831933\tvalidation_1-auc:0.832048\n",
      "[152]\tvalidation_0-auc:0.831992\tvalidation_1-auc:0.832031\n",
      "[153]\tvalidation_0-auc:0.83201\tvalidation_1-auc:0.832039\n",
      "[154]\tvalidation_0-auc:0.83206\tvalidation_1-auc:0.832032\n",
      "[155]\tvalidation_0-auc:0.832116\tvalidation_1-auc:0.832053\n",
      "[156]\tvalidation_0-auc:0.832163\tvalidation_1-auc:0.832058\n",
      "[157]\tvalidation_0-auc:0.832214\tvalidation_1-auc:0.832062\n",
      "[158]\tvalidation_0-auc:0.832285\tvalidation_1-auc:0.832072\n",
      "[159]\tvalidation_0-auc:0.832306\tvalidation_1-auc:0.832105\n",
      "[160]\tvalidation_0-auc:0.832397\tvalidation_1-auc:0.832121\n",
      "[161]\tvalidation_0-auc:0.832434\tvalidation_1-auc:0.832151\n",
      "[162]\tvalidation_0-auc:0.832497\tvalidation_1-auc:0.832248\n",
      "[163]\tvalidation_0-auc:0.832582\tvalidation_1-auc:0.832201\n",
      "[164]\tvalidation_0-auc:0.832628\tvalidation_1-auc:0.832153\n",
      "[165]\tvalidation_0-auc:0.83274\tvalidation_1-auc:0.832228\n",
      "[166]\tvalidation_0-auc:0.832797\tvalidation_1-auc:0.832225\n",
      "[167]\tvalidation_0-auc:0.832862\tvalidation_1-auc:0.832195\n",
      "[168]\tvalidation_0-auc:0.832929\tvalidation_1-auc:0.832238\n",
      "[169]\tvalidation_0-auc:0.832991\tvalidation_1-auc:0.832205\n",
      "[170]\tvalidation_0-auc:0.833023\tvalidation_1-auc:0.832237\n",
      "[171]\tvalidation_0-auc:0.833064\tvalidation_1-auc:0.832259\n",
      "[172]\tvalidation_0-auc:0.833123\tvalidation_1-auc:0.832251\n",
      "[173]\tvalidation_0-auc:0.833166\tvalidation_1-auc:0.832259\n",
      "[174]\tvalidation_0-auc:0.83325\tvalidation_1-auc:0.832306\n",
      "[175]\tvalidation_0-auc:0.833301\tvalidation_1-auc:0.832299\n",
      "[176]\tvalidation_0-auc:0.833317\tvalidation_1-auc:0.832301\n",
      "[177]\tvalidation_0-auc:0.833378\tvalidation_1-auc:0.832269\n",
      "[178]\tvalidation_0-auc:0.833416\tvalidation_1-auc:0.832283\n",
      "[179]\tvalidation_0-auc:0.833465\tvalidation_1-auc:0.832249\n",
      "[180]\tvalidation_0-auc:0.833488\tvalidation_1-auc:0.83227\n",
      "[181]\tvalidation_0-auc:0.833562\tvalidation_1-auc:0.832303\n",
      "[182]\tvalidation_0-auc:0.8336\tvalidation_1-auc:0.832262\n",
      "[183]\tvalidation_0-auc:0.83367\tvalidation_1-auc:0.832265\n",
      "[184]\tvalidation_0-auc:0.833745\tvalidation_1-auc:0.832222\n",
      "[185]\tvalidation_0-auc:0.833805\tvalidation_1-auc:0.832248\n",
      "[186]\tvalidation_0-auc:0.833858\tvalidation_1-auc:0.832223\n",
      "[187]\tvalidation_0-auc:0.8339\tvalidation_1-auc:0.832222\n",
      "[188]\tvalidation_0-auc:0.833956\tvalidation_1-auc:0.832315\n",
      "[189]\tvalidation_0-auc:0.833973\tvalidation_1-auc:0.832325\n",
      "[190]\tvalidation_0-auc:0.833999\tvalidation_1-auc:0.832321\n",
      "[191]\tvalidation_0-auc:0.834087\tvalidation_1-auc:0.832325\n",
      "[192]\tvalidation_0-auc:0.834165\tvalidation_1-auc:0.832392\n",
      "[193]\tvalidation_0-auc:0.834201\tvalidation_1-auc:0.83238\n",
      "[194]\tvalidation_0-auc:0.834265\tvalidation_1-auc:0.832386\n",
      "[195]\tvalidation_0-auc:0.8343\tvalidation_1-auc:0.832403\n",
      "[196]\tvalidation_0-auc:0.834363\tvalidation_1-auc:0.832373\n",
      "[197]\tvalidation_0-auc:0.834418\tvalidation_1-auc:0.83235\n",
      "[198]\tvalidation_0-auc:0.834452\tvalidation_1-auc:0.832354\n",
      "[199]\tvalidation_0-auc:0.834478\tvalidation_1-auc:0.832318\n",
      "[200]\tvalidation_0-auc:0.834492\tvalidation_1-auc:0.832298\n",
      "[201]\tvalidation_0-auc:0.834534\tvalidation_1-auc:0.832323\n",
      "[202]\tvalidation_0-auc:0.834605\tvalidation_1-auc:0.83229\n",
      "[203]\tvalidation_0-auc:0.834684\tvalidation_1-auc:0.832259\n",
      "[204]\tvalidation_0-auc:0.834718\tvalidation_1-auc:0.832246\n",
      "[205]\tvalidation_0-auc:0.834738\tvalidation_1-auc:0.832262\n",
      "[206]\tvalidation_0-auc:0.834797\tvalidation_1-auc:0.832274\n",
      "[207]\tvalidation_0-auc:0.834862\tvalidation_1-auc:0.832255\n",
      "[208]\tvalidation_0-auc:0.834895\tvalidation_1-auc:0.832271\n",
      "[209]\tvalidation_0-auc:0.834973\tvalidation_1-auc:0.832318\n",
      "[210]\tvalidation_0-auc:0.835011\tvalidation_1-auc:0.832348\n",
      "[211]\tvalidation_0-auc:0.835066\tvalidation_1-auc:0.832339\n",
      "[212]\tvalidation_0-auc:0.835113\tvalidation_1-auc:0.832314\n",
      "[213]\tvalidation_0-auc:0.835189\tvalidation_1-auc:0.832305\n",
      "[214]\tvalidation_0-auc:0.835258\tvalidation_1-auc:0.832324\n",
      "[215]\tvalidation_0-auc:0.835309\tvalidation_1-auc:0.832303\n",
      "[216]\tvalidation_0-auc:0.835363\tvalidation_1-auc:0.832298\n",
      "[217]\tvalidation_0-auc:0.835449\tvalidation_1-auc:0.832266\n",
      "[218]\tvalidation_0-auc:0.835485\tvalidation_1-auc:0.832263\n",
      "[219]\tvalidation_0-auc:0.835543\tvalidation_1-auc:0.832291\n",
      "[220]\tvalidation_0-auc:0.835562\tvalidation_1-auc:0.832274\n",
      "[221]\tvalidation_0-auc:0.835587\tvalidation_1-auc:0.832276\n",
      "[222]\tvalidation_0-auc:0.835629\tvalidation_1-auc:0.832247\n",
      "[223]\tvalidation_0-auc:0.835682\tvalidation_1-auc:0.83225\n",
      "[224]\tvalidation_0-auc:0.835708\tvalidation_1-auc:0.83221\n",
      "[225]\tvalidation_0-auc:0.835731\tvalidation_1-auc:0.832206\n",
      "[226]\tvalidation_0-auc:0.835782\tvalidation_1-auc:0.832207\n",
      "[227]\tvalidation_0-auc:0.835845\tvalidation_1-auc:0.832173\n",
      "[228]\tvalidation_0-auc:0.83591\tvalidation_1-auc:0.832158\n",
      "[229]\tvalidation_0-auc:0.835947\tvalidation_1-auc:0.832159\n",
      "[230]\tvalidation_0-auc:0.835981\tvalidation_1-auc:0.832136\n",
      "[231]\tvalidation_0-auc:0.836035\tvalidation_1-auc:0.832182\n",
      "[232]\tvalidation_0-auc:0.836069\tvalidation_1-auc:0.832189\n",
      "[233]\tvalidation_0-auc:0.836143\tvalidation_1-auc:0.8322\n",
      "[234]\tvalidation_0-auc:0.836195\tvalidation_1-auc:0.832189\n",
      "[235]\tvalidation_0-auc:0.836231\tvalidation_1-auc:0.832203\n",
      "[236]\tvalidation_0-auc:0.836288\tvalidation_1-auc:0.832192\n",
      "[237]\tvalidation_0-auc:0.83636\tvalidation_1-auc:0.832195\n",
      "[238]\tvalidation_0-auc:0.836405\tvalidation_1-auc:0.832258\n",
      "[239]\tvalidation_0-auc:0.836478\tvalidation_1-auc:0.832267\n",
      "[240]\tvalidation_0-auc:0.836499\tvalidation_1-auc:0.832267\n",
      "[241]\tvalidation_0-auc:0.836514\tvalidation_1-auc:0.832269\n",
      "[242]\tvalidation_0-auc:0.836582\tvalidation_1-auc:0.83224\n",
      "[243]\tvalidation_0-auc:0.836622\tvalidation_1-auc:0.832221\n",
      "[244]\tvalidation_0-auc:0.836659\tvalidation_1-auc:0.832281\n",
      "[245]\tvalidation_0-auc:0.836725\tvalidation_1-auc:0.832301\n",
      "Stopping. Best iteration:\n",
      "[195]\tvalidation_0-auc:0.8343\tvalidation_1-auc:0.832403\n",
      "\n"
     ]
    }
   ],
   "source": [
    "gbm = xgb.XGBClassifier( \n",
    "                        n_estimators=10000, #arbitrary large number\n",
    "                        max_depth=3,\n",
    "                        objective=\"binary:logistic\",\n",
    "                        learning_rate=.1, \n",
    "                        subsample=1,\n",
    "                        min_child_weight=1,\n",
    "                        colsample_bytree=.8\n",
    "                       )\n",
    "\n",
    "eval_set=[(X_tr_os_list[0],y_tr_os_list[0]),(X_valid_list[0],y_valid_list[0])] #tracking train/validation error as we go\n",
    "fit_model = gbm.fit( \n",
    "                    X_tr_os_list[0],y_tr_os_list[0], \n",
    "                    eval_set=eval_set,\n",
    "                    eval_metric='auc',\n",
    "                    early_stopping_rounds=50,\n",
    "                    verbose=True #gives output log as below\n",
    "                   )"
   ]
  },
  {
   "cell_type": "code",
   "execution_count": 64,
   "metadata": {
    "ExecuteTime": {
     "end_time": "2019-05-08T16:18:12.966630Z",
     "start_time": "2019-05-08T16:10:23.440054Z"
    },
    "scrolled": true
   },
   "outputs": [
    {
     "name": "stderr",
     "output_type": "stream",
     "text": [
      "/Users/EdwardLeardi/anaconda/lib/python3.6/site-packages/sklearn/preprocessing/label.py:151: DeprecationWarning: The truth value of an empty array is ambiguous. Returning False, but in future this will result in an error. Use `array.size > 0` to check that an array is not empty.\n",
      "  if diff:\n",
      "/Users/EdwardLeardi/anaconda/lib/python3.6/site-packages/sklearn/preprocessing/label.py:151: DeprecationWarning: The truth value of an empty array is ambiguous. Returning False, but in future this will result in an error. Use `array.size > 0` to check that an array is not empty.\n",
      "  if diff:\n"
     ]
    },
    {
     "name": "stdout",
     "output_type": "stream",
     "text": [
      "XGBoost on Oversampled Train Data Fold 1 – Test nTree: 196, Test F1: 0.437, Test AUC: 0.706\n"
     ]
    },
    {
     "name": "stderr",
     "output_type": "stream",
     "text": [
      "/Users/EdwardLeardi/anaconda/lib/python3.6/site-packages/sklearn/preprocessing/label.py:151: DeprecationWarning: The truth value of an empty array is ambiguous. Returning False, but in future this will result in an error. Use `array.size > 0` to check that an array is not empty.\n",
      "  if diff:\n",
      "/Users/EdwardLeardi/anaconda/lib/python3.6/site-packages/sklearn/preprocessing/label.py:151: DeprecationWarning: The truth value of an empty array is ambiguous. Returning False, but in future this will result in an error. Use `array.size > 0` to check that an array is not empty.\n",
      "  if diff:\n"
     ]
    },
    {
     "name": "stdout",
     "output_type": "stream",
     "text": [
      "XGBoost on Oversampled Train Data Fold 2 – Test nTree: 307, Test F1: 0.418, Test AUC: 0.691\n"
     ]
    },
    {
     "name": "stderr",
     "output_type": "stream",
     "text": [
      "/Users/EdwardLeardi/anaconda/lib/python3.6/site-packages/sklearn/preprocessing/label.py:151: DeprecationWarning: The truth value of an empty array is ambiguous. Returning False, but in future this will result in an error. Use `array.size > 0` to check that an array is not empty.\n",
      "  if diff:\n",
      "/Users/EdwardLeardi/anaconda/lib/python3.6/site-packages/sklearn/preprocessing/label.py:151: DeprecationWarning: The truth value of an empty array is ambiguous. Returning False, but in future this will result in an error. Use `array.size > 0` to check that an array is not empty.\n",
      "  if diff:\n"
     ]
    },
    {
     "name": "stdout",
     "output_type": "stream",
     "text": [
      "XGBoost on Oversampled Train Data Fold 3 – Test nTree: 166, Test F1: 0.446, Test AUC: 0.706\n"
     ]
    },
    {
     "name": "stderr",
     "output_type": "stream",
     "text": [
      "/Users/EdwardLeardi/anaconda/lib/python3.6/site-packages/sklearn/preprocessing/label.py:151: DeprecationWarning: The truth value of an empty array is ambiguous. Returning False, but in future this will result in an error. Use `array.size > 0` to check that an array is not empty.\n",
      "  if diff:\n",
      "/Users/EdwardLeardi/anaconda/lib/python3.6/site-packages/sklearn/preprocessing/label.py:151: DeprecationWarning: The truth value of an empty array is ambiguous. Returning False, but in future this will result in an error. Use `array.size > 0` to check that an array is not empty.\n",
      "  if diff:\n"
     ]
    },
    {
     "name": "stdout",
     "output_type": "stream",
     "text": [
      "XGBoost on Oversampled Train Data Fold 4 – Test nTree: 176, Test F1: 0.419, Test AUC: 0.692\n"
     ]
    },
    {
     "name": "stderr",
     "output_type": "stream",
     "text": [
      "/Users/EdwardLeardi/anaconda/lib/python3.6/site-packages/sklearn/preprocessing/label.py:151: DeprecationWarning: The truth value of an empty array is ambiguous. Returning False, but in future this will result in an error. Use `array.size > 0` to check that an array is not empty.\n",
      "  if diff:\n"
     ]
    },
    {
     "name": "stdout",
     "output_type": "stream",
     "text": [
      "XGBoost on Oversampled Train Data Fold 5 – Test nTree: 161, Test F1: 0.437, Test AUC: 0.706\n",
      "\n",
      "XGBoost on Oversampled Train Data; Mean Best nTree: 201\n",
      "XGBoost on Oversampled Train Data; Mean F1: 0.431\n",
      "XGBoost on Oversampled Train Data; Mean AUC: 0.700\n"
     ]
    },
    {
     "name": "stderr",
     "output_type": "stream",
     "text": [
      "/Users/EdwardLeardi/anaconda/lib/python3.6/site-packages/sklearn/preprocessing/label.py:151: DeprecationWarning: The truth value of an empty array is ambiguous. Returning False, but in future this will result in an error. Use `array.size > 0` to check that an array is not empty.\n",
      "  if diff:\n"
     ]
    }
   ],
   "source": [
    "# XGBoost cross validation function\n",
    "\n",
    "def xgboost_cross_val(x_train,y_train,x_val,y_val,n_estimators=10000,max_depth=3,learning_rate=.1,subsample=1,min_child_weight=1):\n",
    "    \"\"\"Take training and validation data in folds and fit XGBoost and calculate metrics\"\"\"\n",
    "    best_ntree_limit_list = []    \n",
    "    f1_scores = []\n",
    "    auc_scores = []\n",
    "    for x in range(len(x_train)):\n",
    "        eval_set=[(X_tr_os_list[x],y_tr_os_list[x]),(X_valid_list[x],y_valid_list[x])]\n",
    "        gbm = xgb.XGBClassifier( \n",
    "                                n_estimators=n_estimators, #arbitrary large number\n",
    "                                max_depth=max_depth,\n",
    "                                objective=\"binary:logistic\",\n",
    "                                learning_rate=learning_rate, \n",
    "                                subsample=subsample,\n",
    "                                min_child_weight=min_child_weight,\n",
    "                                colsample_bytree=.8\n",
    "                               )\n",
    "        fit_model = gbm.fit( \n",
    "                            X_tr_os_list[x],y_tr_os_list[x], \n",
    "                            eval_set=eval_set,\n",
    "                            eval_metric='auc',\n",
    "                            early_stopping_rounds=50,\n",
    "                            verbose=False\n",
    "                           )\n",
    "        xgb_ntree = gbm.best_ntree_limit\n",
    "        xgb_f1 = metrics.f1_score(y_val[x],gbm.predict(x_val[x], ntree_limit=gbm.best_ntree_limit)) \n",
    "        xgb_auc = metrics.roc_auc_score(y_val[x],gbm.predict(x_val[x], ntree_limit=gbm.best_ntree_limit)) \n",
    "        best_ntree_limit_list.append(xgb_ntree)\n",
    "        f1_scores.append(xgb_f1)\n",
    "        auc_scores.append(xgb_auc)\n",
    "        print('XGBoost on Oversampled Train Data Fold %.0f – Test nTree: %.0f, Test F1: %.3f, Test AUC: %.3f' % (x+1,xgb_ntree,xgb_f1,xgb_auc))\n",
    "    print('\\nXGBoost on Oversampled Train Data; Mean Best nTree: %.0f' %round(np.mean(best_ntree_limit_list)))\n",
    "    print('XGBoost on Oversampled Train Data; Mean F1: %.3f' %np.mean(f1_scores))\n",
    "    print('XGBoost on Oversampled Train Data; Mean AUC: %.3f' %np.mean(auc_scores))\n",
    "           \n",
    "xgboost_cross_val(X_tr_os_list,y_tr_os_list,X_valid_list,y_valid_list)"
   ]
  },
  {
   "cell_type": "markdown",
   "metadata": {},
   "source": [
    "### XGBoost Parameter Tuning"
   ]
  },
  {
   "cell_type": "code",
   "execution_count": 65,
   "metadata": {
    "ExecuteTime": {
     "end_time": "2019-05-08T17:12:41.959281Z",
     "start_time": "2019-05-08T16:21:43.261381Z"
    }
   },
   "outputs": [
    {
     "name": "stdout",
     "output_type": "stream",
     "text": [
      "\n",
      "\n",
      "\n",
      "Grid search with Max Depth: 3\n"
     ]
    },
    {
     "name": "stderr",
     "output_type": "stream",
     "text": [
      "/Users/EdwardLeardi/anaconda/lib/python3.6/site-packages/sklearn/preprocessing/label.py:151: DeprecationWarning: The truth value of an empty array is ambiguous. Returning False, but in future this will result in an error. Use `array.size > 0` to check that an array is not empty.\n",
      "  if diff:\n",
      "/Users/EdwardLeardi/anaconda/lib/python3.6/site-packages/sklearn/preprocessing/label.py:151: DeprecationWarning: The truth value of an empty array is ambiguous. Returning False, but in future this will result in an error. Use `array.size > 0` to check that an array is not empty.\n",
      "  if diff:\n"
     ]
    },
    {
     "name": "stdout",
     "output_type": "stream",
     "text": [
      "XGBoost on Oversampled Train Data Fold 1 – Test nTree: 388, Test F1: 0.437, Test AUC: 0.706\n"
     ]
    },
    {
     "name": "stderr",
     "output_type": "stream",
     "text": [
      "/Users/EdwardLeardi/anaconda/lib/python3.6/site-packages/sklearn/preprocessing/label.py:151: DeprecationWarning: The truth value of an empty array is ambiguous. Returning False, but in future this will result in an error. Use `array.size > 0` to check that an array is not empty.\n",
      "  if diff:\n",
      "/Users/EdwardLeardi/anaconda/lib/python3.6/site-packages/sklearn/preprocessing/label.py:151: DeprecationWarning: The truth value of an empty array is ambiguous. Returning False, but in future this will result in an error. Use `array.size > 0` to check that an array is not empty.\n",
      "  if diff:\n"
     ]
    },
    {
     "name": "stdout",
     "output_type": "stream",
     "text": [
      "XGBoost on Oversampled Train Data Fold 2 – Test nTree: 387, Test F1: 0.419, Test AUC: 0.692\n"
     ]
    },
    {
     "name": "stderr",
     "output_type": "stream",
     "text": [
      "/Users/EdwardLeardi/anaconda/lib/python3.6/site-packages/sklearn/preprocessing/label.py:151: DeprecationWarning: The truth value of an empty array is ambiguous. Returning False, but in future this will result in an error. Use `array.size > 0` to check that an array is not empty.\n",
      "  if diff:\n",
      "/Users/EdwardLeardi/anaconda/lib/python3.6/site-packages/sklearn/preprocessing/label.py:151: DeprecationWarning: The truth value of an empty array is ambiguous. Returning False, but in future this will result in an error. Use `array.size > 0` to check that an array is not empty.\n",
      "  if diff:\n"
     ]
    },
    {
     "name": "stdout",
     "output_type": "stream",
     "text": [
      "XGBoost on Oversampled Train Data Fold 3 – Test nTree: 398, Test F1: 0.446, Test AUC: 0.706\n"
     ]
    },
    {
     "name": "stderr",
     "output_type": "stream",
     "text": [
      "/Users/EdwardLeardi/anaconda/lib/python3.6/site-packages/sklearn/preprocessing/label.py:151: DeprecationWarning: The truth value of an empty array is ambiguous. Returning False, but in future this will result in an error. Use `array.size > 0` to check that an array is not empty.\n",
      "  if diff:\n",
      "/Users/EdwardLeardi/anaconda/lib/python3.6/site-packages/sklearn/preprocessing/label.py:151: DeprecationWarning: The truth value of an empty array is ambiguous. Returning False, but in future this will result in an error. Use `array.size > 0` to check that an array is not empty.\n",
      "  if diff:\n"
     ]
    },
    {
     "name": "stdout",
     "output_type": "stream",
     "text": [
      "XGBoost on Oversampled Train Data Fold 4 – Test nTree: 349, Test F1: 0.418, Test AUC: 0.691\n"
     ]
    },
    {
     "name": "stderr",
     "output_type": "stream",
     "text": [
      "/Users/EdwardLeardi/anaconda/lib/python3.6/site-packages/sklearn/preprocessing/label.py:151: DeprecationWarning: The truth value of an empty array is ambiguous. Returning False, but in future this will result in an error. Use `array.size > 0` to check that an array is not empty.\n",
      "  if diff:\n",
      "/Users/EdwardLeardi/anaconda/lib/python3.6/site-packages/sklearn/preprocessing/label.py:151: DeprecationWarning: The truth value of an empty array is ambiguous. Returning False, but in future this will result in an error. Use `array.size > 0` to check that an array is not empty.\n",
      "  if diff:\n"
     ]
    },
    {
     "name": "stdout",
     "output_type": "stream",
     "text": [
      "XGBoost on Oversampled Train Data Fold 5 – Test nTree: 315, Test F1: 0.439, Test AUC: 0.707\n",
      "\n",
      "XGBoost on Oversampled Train Data; Mean Best nTree: 367\n",
      "XGBoost on Oversampled Train Data; Mean F1: 0.432\n",
      "XGBoost on Oversampled Train Data; Mean AUC: 0.701\n",
      "\n",
      "\n",
      "\n",
      "Grid search with Max Depth: 5\n"
     ]
    },
    {
     "name": "stderr",
     "output_type": "stream",
     "text": [
      "/Users/EdwardLeardi/anaconda/lib/python3.6/site-packages/sklearn/preprocessing/label.py:151: DeprecationWarning: The truth value of an empty array is ambiguous. Returning False, but in future this will result in an error. Use `array.size > 0` to check that an array is not empty.\n",
      "  if diff:\n",
      "/Users/EdwardLeardi/anaconda/lib/python3.6/site-packages/sklearn/preprocessing/label.py:151: DeprecationWarning: The truth value of an empty array is ambiguous. Returning False, but in future this will result in an error. Use `array.size > 0` to check that an array is not empty.\n",
      "  if diff:\n"
     ]
    },
    {
     "name": "stdout",
     "output_type": "stream",
     "text": [
      "XGBoost on Oversampled Train Data Fold 1 – Test nTree: 255, Test F1: 0.437, Test AUC: 0.705\n"
     ]
    },
    {
     "name": "stderr",
     "output_type": "stream",
     "text": [
      "/Users/EdwardLeardi/anaconda/lib/python3.6/site-packages/sklearn/preprocessing/label.py:151: DeprecationWarning: The truth value of an empty array is ambiguous. Returning False, but in future this will result in an error. Use `array.size > 0` to check that an array is not empty.\n",
      "  if diff:\n",
      "/Users/EdwardLeardi/anaconda/lib/python3.6/site-packages/sklearn/preprocessing/label.py:151: DeprecationWarning: The truth value of an empty array is ambiguous. Returning False, but in future this will result in an error. Use `array.size > 0` to check that an array is not empty.\n",
      "  if diff:\n"
     ]
    },
    {
     "name": "stdout",
     "output_type": "stream",
     "text": [
      "XGBoost on Oversampled Train Data Fold 2 – Test nTree: 139, Test F1: 0.420, Test AUC: 0.693\n"
     ]
    },
    {
     "name": "stderr",
     "output_type": "stream",
     "text": [
      "/Users/EdwardLeardi/anaconda/lib/python3.6/site-packages/sklearn/preprocessing/label.py:151: DeprecationWarning: The truth value of an empty array is ambiguous. Returning False, but in future this will result in an error. Use `array.size > 0` to check that an array is not empty.\n",
      "  if diff:\n",
      "/Users/EdwardLeardi/anaconda/lib/python3.6/site-packages/sklearn/preprocessing/label.py:151: DeprecationWarning: The truth value of an empty array is ambiguous. Returning False, but in future this will result in an error. Use `array.size > 0` to check that an array is not empty.\n",
      "  if diff:\n"
     ]
    },
    {
     "name": "stdout",
     "output_type": "stream",
     "text": [
      "XGBoost on Oversampled Train Data Fold 3 – Test nTree: 359, Test F1: 0.447, Test AUC: 0.705\n"
     ]
    },
    {
     "name": "stderr",
     "output_type": "stream",
     "text": [
      "/Users/EdwardLeardi/anaconda/lib/python3.6/site-packages/sklearn/preprocessing/label.py:151: DeprecationWarning: The truth value of an empty array is ambiguous. Returning False, but in future this will result in an error. Use `array.size > 0` to check that an array is not empty.\n",
      "  if diff:\n",
      "/Users/EdwardLeardi/anaconda/lib/python3.6/site-packages/sklearn/preprocessing/label.py:151: DeprecationWarning: The truth value of an empty array is ambiguous. Returning False, but in future this will result in an error. Use `array.size > 0` to check that an array is not empty.\n",
      "  if diff:\n"
     ]
    },
    {
     "name": "stdout",
     "output_type": "stream",
     "text": [
      "XGBoost on Oversampled Train Data Fold 4 – Test nTree: 107, Test F1: 0.421, Test AUC: 0.691\n"
     ]
    },
    {
     "name": "stderr",
     "output_type": "stream",
     "text": [
      "/Users/EdwardLeardi/anaconda/lib/python3.6/site-packages/sklearn/preprocessing/label.py:151: DeprecationWarning: The truth value of an empty array is ambiguous. Returning False, but in future this will result in an error. Use `array.size > 0` to check that an array is not empty.\n",
      "  if diff:\n",
      "/Users/EdwardLeardi/anaconda/lib/python3.6/site-packages/sklearn/preprocessing/label.py:151: DeprecationWarning: The truth value of an empty array is ambiguous. Returning False, but in future this will result in an error. Use `array.size > 0` to check that an array is not empty.\n",
      "  if diff:\n"
     ]
    },
    {
     "name": "stdout",
     "output_type": "stream",
     "text": [
      "XGBoost on Oversampled Train Data Fold 5 – Test nTree: 210, Test F1: 0.437, Test AUC: 0.706\n",
      "\n",
      "XGBoost on Oversampled Train Data; Mean Best nTree: 214\n",
      "XGBoost on Oversampled Train Data; Mean F1: 0.433\n",
      "XGBoost on Oversampled Train Data; Mean AUC: 0.700\n",
      "\n",
      "\n",
      "\n",
      "Grid search with Max Depth: 7\n"
     ]
    },
    {
     "name": "stderr",
     "output_type": "stream",
     "text": [
      "/Users/EdwardLeardi/anaconda/lib/python3.6/site-packages/sklearn/preprocessing/label.py:151: DeprecationWarning: The truth value of an empty array is ambiguous. Returning False, but in future this will result in an error. Use `array.size > 0` to check that an array is not empty.\n",
      "  if diff:\n",
      "/Users/EdwardLeardi/anaconda/lib/python3.6/site-packages/sklearn/preprocessing/label.py:151: DeprecationWarning: The truth value of an empty array is ambiguous. Returning False, but in future this will result in an error. Use `array.size > 0` to check that an array is not empty.\n",
      "  if diff:\n"
     ]
    },
    {
     "name": "stdout",
     "output_type": "stream",
     "text": [
      "XGBoost on Oversampled Train Data Fold 1 – Test nTree: 134, Test F1: 0.436, Test AUC: 0.702\n"
     ]
    },
    {
     "name": "stderr",
     "output_type": "stream",
     "text": [
      "/Users/EdwardLeardi/anaconda/lib/python3.6/site-packages/sklearn/preprocessing/label.py:151: DeprecationWarning: The truth value of an empty array is ambiguous. Returning False, but in future this will result in an error. Use `array.size > 0` to check that an array is not empty.\n",
      "  if diff:\n",
      "/Users/EdwardLeardi/anaconda/lib/python3.6/site-packages/sklearn/preprocessing/label.py:151: DeprecationWarning: The truth value of an empty array is ambiguous. Returning False, but in future this will result in an error. Use `array.size > 0` to check that an array is not empty.\n",
      "  if diff:\n"
     ]
    },
    {
     "name": "stdout",
     "output_type": "stream",
     "text": [
      "XGBoost on Oversampled Train Data Fold 2 – Test nTree: 125, Test F1: 0.419, Test AUC: 0.690\n"
     ]
    },
    {
     "name": "stderr",
     "output_type": "stream",
     "text": [
      "/Users/EdwardLeardi/anaconda/lib/python3.6/site-packages/sklearn/preprocessing/label.py:151: DeprecationWarning: The truth value of an empty array is ambiguous. Returning False, but in future this will result in an error. Use `array.size > 0` to check that an array is not empty.\n",
      "  if diff:\n",
      "/Users/EdwardLeardi/anaconda/lib/python3.6/site-packages/sklearn/preprocessing/label.py:151: DeprecationWarning: The truth value of an empty array is ambiguous. Returning False, but in future this will result in an error. Use `array.size > 0` to check that an array is not empty.\n",
      "  if diff:\n"
     ]
    },
    {
     "name": "stdout",
     "output_type": "stream",
     "text": [
      "XGBoost on Oversampled Train Data Fold 3 – Test nTree: 99, Test F1: 0.444, Test AUC: 0.703\n"
     ]
    },
    {
     "name": "stderr",
     "output_type": "stream",
     "text": [
      "/Users/EdwardLeardi/anaconda/lib/python3.6/site-packages/sklearn/preprocessing/label.py:151: DeprecationWarning: The truth value of an empty array is ambiguous. Returning False, but in future this will result in an error. Use `array.size > 0` to check that an array is not empty.\n",
      "  if diff:\n",
      "/Users/EdwardLeardi/anaconda/lib/python3.6/site-packages/sklearn/preprocessing/label.py:151: DeprecationWarning: The truth value of an empty array is ambiguous. Returning False, but in future this will result in an error. Use `array.size > 0` to check that an array is not empty.\n",
      "  if diff:\n"
     ]
    },
    {
     "name": "stdout",
     "output_type": "stream",
     "text": [
      "XGBoost on Oversampled Train Data Fold 4 – Test nTree: 109, Test F1: 0.423, Test AUC: 0.690\n"
     ]
    },
    {
     "name": "stderr",
     "output_type": "stream",
     "text": [
      "/Users/EdwardLeardi/anaconda/lib/python3.6/site-packages/sklearn/preprocessing/label.py:151: DeprecationWarning: The truth value of an empty array is ambiguous. Returning False, but in future this will result in an error. Use `array.size > 0` to check that an array is not empty.\n",
      "  if diff:\n",
      "/Users/EdwardLeardi/anaconda/lib/python3.6/site-packages/sklearn/preprocessing/label.py:151: DeprecationWarning: The truth value of an empty array is ambiguous. Returning False, but in future this will result in an error. Use `array.size > 0` to check that an array is not empty.\n",
      "  if diff:\n"
     ]
    },
    {
     "name": "stdout",
     "output_type": "stream",
     "text": [
      "XGBoost on Oversampled Train Data Fold 5 – Test nTree: 138, Test F1: 0.437, Test AUC: 0.702\n",
      "\n",
      "XGBoost on Oversampled Train Data; Mean Best nTree: 121\n",
      "XGBoost on Oversampled Train Data; Mean F1: 0.432\n",
      "XGBoost on Oversampled Train Data; Mean AUC: 0.697\n",
      "\n",
      "\n",
      "\n",
      "Grid search with Max Depth: 9\n"
     ]
    },
    {
     "name": "stderr",
     "output_type": "stream",
     "text": [
      "/Users/EdwardLeardi/anaconda/lib/python3.6/site-packages/sklearn/preprocessing/label.py:151: DeprecationWarning: The truth value of an empty array is ambiguous. Returning False, but in future this will result in an error. Use `array.size > 0` to check that an array is not empty.\n",
      "  if diff:\n",
      "/Users/EdwardLeardi/anaconda/lib/python3.6/site-packages/sklearn/preprocessing/label.py:151: DeprecationWarning: The truth value of an empty array is ambiguous. Returning False, but in future this will result in an error. Use `array.size > 0` to check that an array is not empty.\n",
      "  if diff:\n"
     ]
    },
    {
     "name": "stdout",
     "output_type": "stream",
     "text": [
      "XGBoost on Oversampled Train Data Fold 1 – Test nTree: 80, Test F1: 0.434, Test AUC: 0.696\n"
     ]
    },
    {
     "name": "stderr",
     "output_type": "stream",
     "text": [
      "/Users/EdwardLeardi/anaconda/lib/python3.6/site-packages/sklearn/preprocessing/label.py:151: DeprecationWarning: The truth value of an empty array is ambiguous. Returning False, but in future this will result in an error. Use `array.size > 0` to check that an array is not empty.\n",
      "  if diff:\n",
      "/Users/EdwardLeardi/anaconda/lib/python3.6/site-packages/sklearn/preprocessing/label.py:151: DeprecationWarning: The truth value of an empty array is ambiguous. Returning False, but in future this will result in an error. Use `array.size > 0` to check that an array is not empty.\n",
      "  if diff:\n"
     ]
    },
    {
     "name": "stdout",
     "output_type": "stream",
     "text": [
      "XGBoost on Oversampled Train Data Fold 2 – Test nTree: 72, Test F1: 0.415, Test AUC: 0.683\n"
     ]
    },
    {
     "name": "stderr",
     "output_type": "stream",
     "text": [
      "/Users/EdwardLeardi/anaconda/lib/python3.6/site-packages/sklearn/preprocessing/label.py:151: DeprecationWarning: The truth value of an empty array is ambiguous. Returning False, but in future this will result in an error. Use `array.size > 0` to check that an array is not empty.\n",
      "  if diff:\n",
      "/Users/EdwardLeardi/anaconda/lib/python3.6/site-packages/sklearn/preprocessing/label.py:151: DeprecationWarning: The truth value of an empty array is ambiguous. Returning False, but in future this will result in an error. Use `array.size > 0` to check that an array is not empty.\n",
      "  if diff:\n"
     ]
    },
    {
     "name": "stdout",
     "output_type": "stream",
     "text": [
      "XGBoost on Oversampled Train Data Fold 3 – Test nTree: 74, Test F1: 0.442, Test AUC: 0.695\n"
     ]
    },
    {
     "name": "stderr",
     "output_type": "stream",
     "text": [
      "/Users/EdwardLeardi/anaconda/lib/python3.6/site-packages/sklearn/preprocessing/label.py:151: DeprecationWarning: The truth value of an empty array is ambiguous. Returning False, but in future this will result in an error. Use `array.size > 0` to check that an array is not empty.\n",
      "  if diff:\n",
      "/Users/EdwardLeardi/anaconda/lib/python3.6/site-packages/sklearn/preprocessing/label.py:151: DeprecationWarning: The truth value of an empty array is ambiguous. Returning False, but in future this will result in an error. Use `array.size > 0` to check that an array is not empty.\n",
      "  if diff:\n"
     ]
    },
    {
     "name": "stdout",
     "output_type": "stream",
     "text": [
      "XGBoost on Oversampled Train Data Fold 4 – Test nTree: 68, Test F1: 0.417, Test AUC: 0.683\n"
     ]
    },
    {
     "name": "stderr",
     "output_type": "stream",
     "text": [
      "/Users/EdwardLeardi/anaconda/lib/python3.6/site-packages/sklearn/preprocessing/label.py:151: DeprecationWarning: The truth value of an empty array is ambiguous. Returning False, but in future this will result in an error. Use `array.size > 0` to check that an array is not empty.\n",
      "  if diff:\n"
     ]
    },
    {
     "name": "stdout",
     "output_type": "stream",
     "text": [
      "XGBoost on Oversampled Train Data Fold 5 – Test nTree: 91, Test F1: 0.436, Test AUC: 0.697\n",
      "\n",
      "XGBoost on Oversampled Train Data; Mean Best nTree: 77\n",
      "XGBoost on Oversampled Train Data; Mean F1: 0.429\n",
      "XGBoost on Oversampled Train Data; Mean AUC: 0.691\n"
     ]
    },
    {
     "name": "stderr",
     "output_type": "stream",
     "text": [
      "/Users/EdwardLeardi/anaconda/lib/python3.6/site-packages/sklearn/preprocessing/label.py:151: DeprecationWarning: The truth value of an empty array is ambiguous. Returning False, but in future this will result in an error. Use `array.size > 0` to check that an array is not empty.\n",
      "  if diff:\n"
     ]
    }
   ],
   "source": [
    "# Setting up a manual gridsearch\n",
    "\n",
    "# This is ugly, clean it up later!\n",
    "\n",
    "max_depth_list = [3,5,7,9]\n",
    "\n",
    "def xgboost_gridsearch(x_train,y_train,x_val,y_val,max_depth_list=max_depth_list):\n",
    "    for max_dep in max_depth_list:\n",
    "        print('\\n\\n\\nGrid search with Max Depth: %.0f' %max_dep)\n",
    "        xgboost_cross_val(x_train,y_train,x_val,y_val,max_depth=max_dep,learning_rate=.05,min_child_weight=1)\n",
    "\n",
    "xgboost_gridsearch(X_tr_os_list,y_tr_os_list,X_valid_list,y_valid_list,max_depth_list)"
   ]
  },
  {
   "cell_type": "markdown",
   "metadata": {},
   "source": [
    "## Model Evaluation"
   ]
  },
  {
   "cell_type": "code",
   "execution_count": 67,
   "metadata": {
    "ExecuteTime": {
     "end_time": "2019-05-08T17:15:45.343451Z",
     "start_time": "2019-05-08T17:15:44.868472Z"
    }
   },
   "outputs": [
    {
     "name": "stderr",
     "output_type": "stream",
     "text": [
      "/Users/EdwardLeardi/anaconda/lib/python3.6/site-packages/sklearn/preprocessing/label.py:151: DeprecationWarning: The truth value of an empty array is ambiguous. Returning False, but in future this will result in an error. Use `array.size > 0` to check that an array is not empty.\n",
      "  if diff:\n"
     ]
    },
    {
     "data": {
      "text/plain": [
       "0.4242380366321581"
      ]
     },
     "execution_count": 67,
     "metadata": {},
     "output_type": "execute_result"
    }
   ],
   "source": [
    "metrics.f1_score(y_test,gbm.predict(X_test, ntree_limit=gbm.best_ntree_limit)) "
   ]
  },
  {
   "cell_type": "code",
   "execution_count": 68,
   "metadata": {
    "ExecuteTime": {
     "end_time": "2019-05-08T17:15:52.240078Z",
     "start_time": "2019-05-08T17:15:49.989404Z"
    }
   },
   "outputs": [
    {
     "data": {
      "image/png": "[encoded data removed]",
      "text/plain": [
       "<matplotlib.figure.Figure at 0x110cee128>"
      ]
     },
     "metadata": {},
     "output_type": "display_data"
    },
    {
     "data": {
      "image/png": "[encoded data removed]",
      "text/plain": [
       "<matplotlib.figure.Figure at 0x1145a4828>"
      ]
     },
     "metadata": {},
     "output_type": "display_data"
    }
   ],
   "source": [
    "xgb.plot_importance(gbm);\n",
    "    # Frequency, of all of the trees we trained, AveOccup was used 6526\n",
    "xgb.plot_importance(gbm, importance_type='gain');\n",
    "    # Information gain calculation (go back to tree notebook)"
   ]
  }
 ],
 "metadata": {
  "kernelspec": {
   "display_name": "Python 3",
   "language": "python",
   "name": "python3"
  },
  "language_info": {
   "codemirror_mode": {
    "name": "ipython",
    "version": 3
   },
   "file_extension": ".py",
   "mimetype": "text/x-python",
   "name": "python",
   "nbconvert_exporter": "python",
   "pygments_lexer": "ipython3",
   "version": "3.6.4"
  },
  "toc": {
   "nav_menu": {},
   "number_sections": true,
   "sideBar": true,
   "skip_h1_title": false,
   "title_cell": "Table of Contents",
   "title_sidebar": "Contents",
   "toc_cell": false,
   "toc_position": {
    "height": "calc(100% - 180px)",
    "left": "10px",
    "top": "150px",
    "width": "214px"
   },
   "toc_section_display": true,
   "toc_window_display": true
  }
 },
 "nbformat": 4,
 "nbformat_minor": 2
}
